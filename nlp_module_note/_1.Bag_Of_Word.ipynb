{
 "cells": [
  {
   "cell_type": "markdown",
   "metadata": {},
   "source": [
    "# Bag_Of_Word"
   ]
  },
  {
   "cell_type": "code",
   "execution_count": 1,
   "metadata": {},
   "outputs": [
    {
     "name": "stdout",
     "output_type": "stream",
     "text": [
      "Num of Documents: 5\n",
      "Num of Words: 10\n",
      "\n",
      "   amazing  and  cat  do  dog  is  love  my  think  you\n",
      "0        0    0    0   0    1   0     1   1      0    0\n",
      "1        0    0    1   0    0   0     1   1      0    0\n",
      "2        0    1    1   0    1   0     2   2      0    0\n",
      "3        0    0    0   0    1   0     1   1      0    1\n",
      "4        1    0    0   1    1   1     0   1      1    1\n"
     ]
    }
   ],
   "source": [
    "import pandas as pd\n",
    "from sklearn.feature_extraction.text import CountVectorizer\n",
    "\n",
    "def bag_of_word(sentences, verbose=1):\n",
    "    \"\"\"\n",
    "    Convert a list of sentences into a Bag of Words representation.\n",
    "    \n",
    "    Parameters:\n",
    "    sentences (list of str): A list of sentences to vectorize.\n",
    "    verbose (int): If 1, prints the number of documents and words. If 0, silent.\n",
    "    \n",
    "    Returns:\n",
    "    count_vectorizer (vectorizer): The scikit-learn vectorizer fitted on the input sentences.\n",
    "    vectorized_sentences (ndarray): A 2D array where each row represents a document.\n",
    "    feature_names (ndarray): An array of feature names (words). \n",
    "    \"\"\"\n",
    "   \n",
    "    count_vectorizer = CountVectorizer()\n",
    "    features = count_vectorizer.fit_transform(sentences)\n",
    "    vectorized_sentences = features.toarray()\n",
    "    feature_names = count_vectorizer.get_feature_names_out()\n",
    "    if verbose == 1:\n",
    "        df = pd.DataFrame(vectorized_sentences, columns=feature_names)\n",
    "        print(f\"Num of Documents: {features.shape[0]}\")\n",
    "        print(f\"Num of Words: {features.shape[1]}\")\n",
    "        print()\n",
    "        print(df)\n",
    "    elif verbose == 0:\n",
    "        pass\n",
    "    return count_vectorizer, vectorized_sentences,feature_names\n",
    "\n",
    "sentences = ['I love my dog.',\n",
    "             'I love my cat.',\n",
    "             'I love my dog and love my cat',\n",
    "             'You love my dog!',\n",
    "             'Do you think my dog is amazing?']\n",
    "\n",
    "count_vectorizer, vectorized_sentences,feature_names = bag_of_word(sentences, verbose=1)"
   ]
  },
  {
   "cell_type": "code",
   "execution_count": null,
   "metadata": {},
   "outputs": [],
   "source": []
  }
 ],
 "metadata": {
  "kernelspec": {
   "display_name": "nlp_module_3_9",
   "language": "python",
   "name": "python3"
  },
  "language_info": {
   "codemirror_mode": {
    "name": "ipython",
    "version": 3
   },
   "file_extension": ".py",
   "mimetype": "text/x-python",
   "name": "python",
   "nbconvert_exporter": "python",
   "pygments_lexer": "ipython3",
   "version": "3.9.20"
  }
 },
 "nbformat": 4,
 "nbformat_minor": 2
}
