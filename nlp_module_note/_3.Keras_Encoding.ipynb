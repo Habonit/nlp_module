{
 "cells": [
  {
   "cell_type": "markdown",
   "metadata": {},
   "source": [
    "# Keras_Encoding"
   ]
  },
  {
   "cell_type": "code",
   "execution_count": 1,
   "metadata": {},
   "outputs": [
    {
     "name": "stderr",
     "output_type": "stream",
     "text": [
      "2024-11-14 08:46:03.424304: I tensorflow/core/util/port.cc:110] oneDNN custom operations are on. You may see slightly different numerical results due to floating-point round-off errors from different computation orders. To turn them off, set the environment variable `TF_ENABLE_ONEDNN_OPTS=0`.\n",
      "2024-11-14 08:46:03.875020: I tensorflow/core/platform/cpu_feature_guard.cc:182] This TensorFlow binary is optimized to use available CPU instructions in performance-critical operations.\n",
      "To enable the following instructions: AVX2 AVX512F AVX512_VNNI AVX512_BF16 AVX_VNNI FMA, in other operations, rebuild TensorFlow with the appropriate compiler flags.\n",
      "2024-11-14 08:46:06.274346: W tensorflow/compiler/tf2tensorrt/utils/py_utils.cc:38] TF-TRT Warning: Could not find TensorRT\n"
     ]
    }
   ],
   "source": [
    "import tensorflow as tf\n",
    "from tensorflow import keras\n",
    "from tensorflow.keras.preprocessing.text import Tokenizer\n",
    "from tensorflow.keras.preprocessing.sequence import pad_sequences\n",
    "from tensorflow.keras.utils import to_categorical\n",
    "\n",
    "def keras_tokenizer(sentences, num_words, padding, truncating, oov_token=\"<OOV>\", one_hot=False, max_len=None):\n",
    "    \"\"\"\n",
    "    Tokenizes, sequences, pads, and one-hot encodes a list of sentences.\n",
    "\n",
    "    Parameters:\n",
    "    sentences (list of str): A list of sentences to process.\n",
    "    num_words (int): The maximum number of words to keep, based on word frequency.\n",
    "    padding (str): The type of padding to apply ('pre' or 'post').\n",
    "    truncating (str): The type of truncating to apply ('pre' or 'post').\n",
    "    oov_token (str): Token for out-of-vocabulary words.\n",
    "    max_len (int, optional): Maximum length for padding/truncating. If None, the longest sentence length is used.\n",
    "    \n",
    "    Returns:\n",
    "    tokenizer (Tokenizer): The Keras tokenizer fitted on the input sentences.\n",
    "    sequences (list of list of int): The tokenized sentences in sequence format.\n",
    "    padded (ndarray): Padded sequences as a 2D array.\n",
    "    one_hot_padded (ndarray): One-hot encoded padded sequences.\n",
    "    word_index (dict): Dictionary mapping words to their index.\n",
    "    index_word (dict): Dictionary mapping indices to words.\n",
    "    \"\"\"\n",
    "    \n",
    "    # Tokenizer 생성 및 문장 학습\n",
    "    tokenizer = Tokenizer(num_words=num_words, oov_token=oov_token)\n",
    "    tokenizer.fit_on_texts(sentences)\n",
    "    \n",
    "    # 정수 시퀀스 변환\n",
    "    sequences = tokenizer.texts_to_sequences(sentences)\n",
    "    \n",
    "    # max_len이 주어지지 않으면 가장 긴 문장의 길이를 계산\n",
    "    if max_len is None:\n",
    "        max_len = max([len(seq) for seq in sequences])\n",
    "    \n",
    "    # 패딩 및 트렁케이팅\n",
    "    padded = pad_sequences(sequences, maxlen=max_len, padding=padding, truncating=truncating)\n",
    "    if one_hot:\n",
    "        one_hot_padded = to_categorical(padded, num_classes=num_words)\n",
    "    else:\n",
    "        one_hot_padded = None\n",
    "    \n",
    "    # 단어 인덱스와 인덱스 단어\n",
    "    word_index = tokenizer.word_index\n",
    "    index_word = tokenizer.index_word\n",
    "    \n",
    "    return tokenizer, sequences, padded, one_hot_padded, word_index, index_word\n",
    "\n",
    "sentences = ['I love my dog.',\n",
    "             'I love my cat.',\n",
    "             'I love my dog and love my cat',\n",
    "             'You love my dog!',\n",
    "             'Do you think my dog is amazing?']\n",
    "num_words = 100\n",
    "padding = 'post'\n",
    "truncating = \"post\"\n",
    "oov_token = \"<OOV>\"\n",
    "one_hot = False\n",
    "\n",
    "tokenizer, sequences, padded, one_hot_padded, word_index, index_word =( \n",
    "    keras_tokenizer(sentences=sentences, num_words=num_words, padding=padding, truncating=truncating, oov_token= oov_token, one_hot=one_hot)\n",
    ")"
   ]
  },
  {
   "cell_type": "code",
   "execution_count": null,
   "metadata": {},
   "outputs": [],
   "source": []
  }
 ],
 "metadata": {
  "kernelspec": {
   "display_name": "nlp_module_3_9",
   "language": "python",
   "name": "python3"
  },
  "language_info": {
   "codemirror_mode": {
    "name": "ipython",
    "version": 3
   },
   "file_extension": ".py",
   "mimetype": "text/x-python",
   "name": "python",
   "nbconvert_exporter": "python",
   "pygments_lexer": "ipython3",
   "version": "3.9.20"
  }
 },
 "nbformat": 4,
 "nbformat_minor": 2
}
