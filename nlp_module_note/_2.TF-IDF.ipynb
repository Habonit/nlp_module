{
 "cells": [
  {
   "cell_type": "markdown",
   "metadata": {},
   "source": [
    "# TF-IDF"
   ]
  },
  {
   "cell_type": "code",
   "execution_count": 1,
   "metadata": {},
   "outputs": [
    {
     "name": "stdout",
     "output_type": "stream",
     "text": [
      "Num of Documents: 5\n",
      "Num of Words: 10\n",
      "\n",
      "    amazing       and       cat        do       dog        is      love  \\\n",
      "0  0.000000  0.000000  0.000000  0.000000  0.606856  0.000000  0.606856   \n",
      "1  0.000000  0.000000  0.737922  0.000000  0.000000  0.000000  0.515290   \n",
      "2  0.000000  0.491109  0.396224  0.000000  0.276682  0.000000  0.553364   \n",
      "3  0.000000  0.000000  0.000000  0.000000  0.458054  0.000000  0.458054   \n",
      "4  0.438724  0.000000  0.000000  0.438724  0.247170  0.438724  0.000000   \n",
      "\n",
      "         my     think       you  \n",
      "0  0.513275  0.000000  0.000000  \n",
      "1  0.435829  0.000000  0.000000  \n",
      "2  0.468032  0.000000  0.000000  \n",
      "3  0.387419  0.000000  0.655957  \n",
      "4  0.209054  0.438724  0.353960  \n"
     ]
    }
   ],
   "source": [
    "from sklearn.feature_extraction.text import TfidfVectorizer\n",
    "import pandas as pd\n",
    "\n",
    "def tfidf(sentences, verbose=1):\n",
    "    \"\"\"\n",
    "    Convert a list of sentences into a TF-IDF representation.\n",
    "    \n",
    "    Parameters:\n",
    "    sentences (list of str): A list of sentences to vectorize using TF-IDF.\n",
    "    verbose (int): If 1, prints the number of documents and words, and displays the DataFrame. If 0, silent.\n",
    "    \n",
    "    Returns:\n",
    "    tfidf_vectorizer (vectorizer): The scikit-learn vectorizer fitted on the input sentences.\n",
    "    tfidf_vect_sentences (ndarray): A 2D array where each row represents a document with TF-IDF weights.\n",
    "    tfidf_feature_names (ndarray): An array of feature names (words).\n",
    "    \"\"\"\n",
    "    tfidf_vectorizer = TfidfVectorizer()\n",
    "    features = tfidf_vectorizer.fit_transform(sentences)\n",
    "    tfidf_sentences = tfidf_vectorizer.fit_transform(sentences)\n",
    "    tfidf_vect_sentences = tfidf_sentences.toarray()\n",
    "    tfidf_feature_names = tfidf_vectorizer.get_feature_names_out()\n",
    "    if verbose == 1:\n",
    "        df = pd.DataFrame(tfidf_vect_sentences, columns=tfidf_feature_names)\n",
    "        print(f\"Num of Documents: {features.shape[0]}\")\n",
    "        print(f\"Num of Words: {features.shape[1]}\")\n",
    "        print()\n",
    "        print(df)\n",
    "    elif verbose == 0:\n",
    "        pass\n",
    "    return tfidf_vectorizer,tfidf_vect_sentences,tfidf_feature_names\n",
    "\n",
    "sentences = ['I love my dog.',\n",
    "             'I love my cat.',\n",
    "             'I love my dog and love my cat',\n",
    "             'You love my dog!',\n",
    "             'Do you think my dog is amazing?']\n",
    "\n",
    "tfidf_vectorizer, tfidf_vect_sentences,tfidf_feature_names = tfidf(sentences, verbose=1)"
   ]
  },
  {
   "cell_type": "code",
   "execution_count": null,
   "metadata": {},
   "outputs": [],
   "source": []
  }
 ],
 "metadata": {
  "kernelspec": {
   "display_name": "nlp_module_3_9",
   "language": "python",
   "name": "python3"
  },
  "language_info": {
   "codemirror_mode": {
    "name": "ipython",
    "version": 3
   },
   "file_extension": ".py",
   "mimetype": "text/x-python",
   "name": "python",
   "nbconvert_exporter": "python",
   "pygments_lexer": "ipython3",
   "version": "3.9.20"
  }
 },
 "nbformat": 4,
 "nbformat_minor": 2
}
