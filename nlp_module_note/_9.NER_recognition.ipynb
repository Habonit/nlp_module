{
 "cells": [
  {
   "cell_type": "code",
   "execution_count": 1,
   "metadata": {},
   "outputs": [
    {
     "name": "stderr",
     "output_type": "stream",
     "text": [
      "2024-11-14 18:04:19.719226: I tensorflow/core/util/port.cc:110] oneDNN custom operations are on. You may see slightly different numerical results due to floating-point round-off errors from different computation orders. To turn them off, set the environment variable `TF_ENABLE_ONEDNN_OPTS=0`.\n",
      "2024-11-14 18:04:19.747450: I tensorflow/core/platform/cpu_feature_guard.cc:182] This TensorFlow binary is optimized to use available CPU instructions in performance-critical operations.\n",
      "To enable the following instructions: AVX2 AVX512F AVX512_VNNI AVX512_BF16 AVX_VNNI FMA, in other operations, rebuild TensorFlow with the appropriate compiler flags.\n",
      "2024-11-14 18:04:20.289332: W tensorflow/compiler/tf2tensorrt/utils/py_utils.cc:38] TF-TRT Warning: Could not find TensorRT\n"
     ]
    }
   ],
   "source": [
    "import re\n",
    "import matplotlib.pyplot as plt\n",
    "import tensorflow as tf\n",
    "from tensorflow.keras.models import Sequential\n",
    "from tensorflow.keras.layers import Dense, LSTM, Bidirectional, Embedding, Activation\n",
    "from tensorflow.keras.optimizers import Adam\n",
    "from tensorflow.keras.preprocessing.text import Tokenizer\n",
    "from tensorflow.keras.preprocessing.sequence import pad_sequences\n",
    "from tensorflow.keras.utils import to_categorical\n",
    "from sklearn.model_selection import train_test_split\n",
    "import numpy as np"
   ]
  },
  {
   "cell_type": "code",
   "execution_count": 2,
   "metadata": {},
   "outputs": [],
   "source": [
    "file_path = tf.keras.utils.get_file(\"train.txt\", \n",
    "    \"https://raw.githubusercontent.com/Franck-Dernoncourt/NeuroNER/master/neuroner/data/conll2003/en/train.txt\")"
   ]
  },
  {
   "cell_type": "code",
   "execution_count": 3,
   "metadata": {},
   "outputs": [],
   "source": [
    "with open(file_path, 'r') as f:\n",
    "    documents = f.readlines()"
   ]
  },
  {
   "cell_type": "code",
   "execution_count": 4,
   "metadata": {},
   "outputs": [],
   "source": [
    "tagged_sentences = []\n",
    "sentence = []\n",
    "\n",
    "for line in documents:\n",
    "    if len(line) == 0 or line.startswith('-DOCSTART') or line[0] == \"\\n\":\n",
    "        if len(sentence) > 0:\n",
    "            tagged_sentences.append(sentence)\n",
    "            sentence = []\n",
    "        continue\n",
    "        \n",
    "    word, pos_tag, chunk_tag, ner = line.split(' ')   # 공백을 기준으로 속성을 구분 \n",
    "    ner = re.sub('\\n', '', ner)         #['German', 'JJ', 'B-NP', 'B-MISC\\n'] 에서 줄바꿈 제거\n",
    "    word = word.lower()                         # 단어들은 소문자로 바꿔서 저장\n",
    "    sentence.append((word, ner))                # 단어와 개체명 태깅만 사용"
   ]
  },
  {
   "cell_type": "code",
   "execution_count": 5,
   "metadata": {},
   "outputs": [
    {
     "data": {
      "text/plain": [
       "[('eu', 'B-ORG'),\n",
       " ('rejects', 'O'),\n",
       " ('german', 'B-MISC'),\n",
       " ('call', 'O'),\n",
       " ('to', 'O'),\n",
       " ('boycott', 'O'),\n",
       " ('british', 'B-MISC'),\n",
       " ('lamb', 'O'),\n",
       " ('.', 'O')]"
      ]
     },
     "execution_count": 5,
     "metadata": {},
     "output_type": "execute_result"
    }
   ],
   "source": [
    "tagged_sentences[0]"
   ]
  },
  {
   "cell_type": "code",
   "execution_count": 6,
   "metadata": {},
   "outputs": [],
   "source": [
    "inputs, labels = [], []\n",
    "\n",
    "for pairs in tagged_sentences:\n",
    "    words, tags = zip(*pairs)\n",
    "    inputs.append(list(words))\n",
    "    labels.append(list(tags))"
   ]
  },
  {
   "cell_type": "code",
   "execution_count": 7,
   "metadata": {},
   "outputs": [
    {
     "name": "stdout",
     "output_type": "stream",
     "text": [
      "샘플의 최대 길이 : 113\n",
      "샘플의 평균 길이 : 14.501887\n"
     ]
    },
    {
     "data": {
      "image/png": "[encoded data removed]",
      "text/plain": [
       "<Figure size 640x480 with 1 Axes>"
      ]
     },
     "metadata": {},
     "output_type": "display_data"
    }
   ],
   "source": [
    "print('샘플의 최대 길이 : {}'.format(max([len(w) for w in inputs])))\n",
    "print('샘플의 평균 길이 : {:4f}'.format(np.mean([len(w) for w in inputs])))\n",
    "plt.hist([len(s) for s in inputs], bins=50)\n",
    "plt.xlabel('length of samples')\n",
    "plt.ylabel('number of samples')\n",
    "plt.show()"
   ]
  },
  {
   "cell_type": "code",
   "execution_count": 8,
   "metadata": {},
   "outputs": [],
   "source": [
    "MAX_LENGTH = 60\n",
    "MAX_WORDS = 20000"
   ]
  },
  {
   "cell_type": "code",
   "execution_count": 9,
   "metadata": {},
   "outputs": [
    {
     "data": {
      "text/plain": [
       "(8985, 2247, 2809, 8985, 2247, 2809)"
      ]
     },
     "execution_count": 9,
     "metadata": {},
     "output_type": "execute_result"
    }
   ],
   "source": [
    "train_sentences, test_sentences, train_tags, test_tags \\\n",
    "                = train_test_split(inputs, labels, test_size=0.2)\n",
    "\n",
    "train_sentences, val_sentences, train_tags, val_tags \\\n",
    "                = train_test_split(train_sentences, train_tags, test_size=0.2)\n",
    "len(train_sentences), len(val_sentences), len(test_sentences), len(train_tags), len(val_tags),len(test_tags)"
   ]
  },
  {
   "cell_type": "code",
   "execution_count": 10,
   "metadata": {},
   "outputs": [
    {
     "name": "stdout",
     "output_type": "stream",
     "text": [
      "단어 집합의 크기 : 20001\n",
      "개체명 태깅 정보 집합의 크기 : 10\n"
     ]
    }
   ],
   "source": [
    "entity_tokenizer = Tokenizer(num_words=MAX_WORDS, oov_token='<OOV>')\n",
    "entity_tokenizer.fit_on_texts(train_sentences)\n",
    "\n",
    "tag_tokenizer = Tokenizer()\n",
    "tag_tokenizer.fit_on_texts(labels)\n",
    "\n",
    "vocab_size = entity_tokenizer.num_words + 1      # MAX_WORDS\n",
    "tag_size = len(tag_tokenizer.word_index) + 1       #전체 word_index 갯수\n",
    "\n",
    "print('단어 집합의 크기 : {}'.format(vocab_size))\n",
    "print('개체명 태깅 정보 집합의 크기 : {}'.format(tag_size))"
   ]
  },
  {
   "cell_type": "code",
   "execution_count": 11,
   "metadata": {},
   "outputs": [
    {
     "data": {
      "text/plain": [
       "(8985, 8985, 2247, 2247, 2809, 2809)"
      ]
     },
     "execution_count": 11,
     "metadata": {},
     "output_type": "execute_result"
    }
   ],
   "source": [
    "X_train = entity_tokenizer.texts_to_sequences(train_sentences)\n",
    "y_train = tag_tokenizer.texts_to_sequences(train_tags)\n",
    "\n",
    "X_val = entity_tokenizer.texts_to_sequences(val_sentences)\n",
    "y_val = tag_tokenizer.texts_to_sequences(val_tags)\n",
    "\n",
    "X_test = entity_tokenizer.texts_to_sequences(test_sentences)\n",
    "y_test = tag_tokenizer.texts_to_sequences(test_tags)\n",
    "\n",
    "len(X_train), len(y_train), len(X_val), len(y_val), len(X_test), len(y_test)"
   ]
  },
  {
   "cell_type": "code",
   "execution_count": 12,
   "metadata": {},
   "outputs": [
    {
     "name": "stdout",
     "output_type": "stream",
     "text": [
      "[1356   15  221  125  562 2658   69    5    2  146  516  123    3    0\n",
      "    0    0    0    0    0    0    0    0    0    0    0    0    0    0\n",
      "    0    0    0    0    0    0    0    0    0    0    0    0    0    0\n",
      "    0    0    0    0    0    0    0    0    0    0    0    0    0    0\n",
      "    0    0    0    0]\n",
      "[ 948  704  230 1073    0    0    0    0    0    0    0    0    0    0\n",
      "    0    0    0    0    0    0    0    0    0    0    0    0    0    0\n",
      "    0    0    0    0    0    0    0    0    0    0    0    0    0    0\n",
      "    0    0    0    0    0    0    0    0    0    0    0    0    0    0\n",
      "    0    0    0    0]\n",
      "[3235  851    7    1    6  528   81   26  112    2  386 2917    1   13\n",
      "    1    1    6   34   45 4842    6    8 1723    3    0    0    0    0\n",
      "    0    0    0    0    0    0    0    0    0    0    0    0    0    0\n",
      "    0    0    0    0    0    0    0    0    0    0    0    0    0    0\n",
      "    0    0    0    0]\n",
      "[2 1 1 1 1 1 1 1 1 1 1 1 1 0 0 0 0 0 0 0 0 0 0 0 0 0 0 0 0 0 0 0 0 0 0 0 0\n",
      " 0 0 0 0 0 0 0 0 0 0 0 0 0 0 0 0 0 0 0 0 0 0 0]\n",
      "[1 1 1 1 0 0 0 0 0 0 0 0 0 0 0 0 0 0 0 0 0 0 0 0 0 0 0 0 0 0 0 0 0 0 0 0 0\n",
      " 0 0 0 0 0 0 0 0 0 0 0 0 0 0 0 0 0 0 0 0 0 0 0]\n",
      "[3 1 1 1 1 1 1 1 1 1 7 7 9 1 2 8 1 1 1 1 1 1 1 1 0 0 0 0 0 0 0 0 0 0 0 0 0\n",
      " 0 0 0 0 0 0 0 0 0 0 0 0 0 0 0 0 0 0 0 0 0 0 0]\n"
     ]
    }
   ],
   "source": [
    "X_train_padded = pad_sequences(X_train, maxlen=MAX_LENGTH, padding='post')\n",
    "X_val_padded = pad_sequences(X_val, maxlen=MAX_LENGTH, padding='post')\n",
    "X_test_padded = pad_sequences(X_test, maxlen=MAX_LENGTH, padding='post')\n",
    "y_train_padded = pad_sequences(y_train, maxlen=MAX_LENGTH, padding='post')\n",
    "y_val_padded = pad_sequences(y_val, maxlen=MAX_LENGTH, padding='post')\n",
    "y_test_padded  = pad_sequences(y_test, maxlen=MAX_LENGTH, padding='post')\n",
    " \n",
    "print(X_train_padded[0])\n",
    "print(X_val_padded[0])\n",
    "print(X_test_padded[0])\n",
    "print(y_train_padded[0])\n",
    "print(y_val_padded[0])\n",
    "print(y_test_padded[0])"
   ]
  },
  {
   "cell_type": "code",
   "execution_count": 13,
   "metadata": {},
   "outputs": [],
   "source": [
    "y_train_onehot = to_categorical(y_train_padded, tag_size)\n",
    "y_val_onehot = to_categorical(y_val_padded, tag_size)\n",
    "y_test_onehot = to_categorical(y_test_padded, tag_size)"
   ]
  },
  {
   "cell_type": "code",
   "execution_count": 14,
   "metadata": {},
   "outputs": [
    {
     "name": "stderr",
     "output_type": "stream",
     "text": [
      "2024-11-14 18:04:22.107695: I tensorflow/compiler/xla/stream_executor/cuda/cuda_gpu_executor.cc:981] could not open file to read NUMA node: /sys/bus/pci/devices/0000:c4:00.0/numa_node\n",
      "Your kernel may have been built without NUMA support.\n",
      "2024-11-14 18:04:22.137862: I tensorflow/compiler/xla/stream_executor/cuda/cuda_gpu_executor.cc:981] could not open file to read NUMA node: /sys/bus/pci/devices/0000:c4:00.0/numa_node\n",
      "Your kernel may have been built without NUMA support.\n",
      "2024-11-14 18:04:22.137906: I tensorflow/compiler/xla/stream_executor/cuda/cuda_gpu_executor.cc:981] could not open file to read NUMA node: /sys/bus/pci/devices/0000:c4:00.0/numa_node\n",
      "Your kernel may have been built without NUMA support.\n",
      "2024-11-14 18:04:22.146264: I tensorflow/compiler/xla/stream_executor/cuda/cuda_gpu_executor.cc:981] could not open file to read NUMA node: /sys/bus/pci/devices/0000:c4:00.0/numa_node\n",
      "Your kernel may have been built without NUMA support.\n",
      "2024-11-14 18:04:22.146310: I tensorflow/compiler/xla/stream_executor/cuda/cuda_gpu_executor.cc:981] could not open file to read NUMA node: /sys/bus/pci/devices/0000:c4:00.0/numa_node\n",
      "Your kernel may have been built without NUMA support.\n",
      "2024-11-14 18:04:22.146322: I tensorflow/compiler/xla/stream_executor/cuda/cuda_gpu_executor.cc:981] could not open file to read NUMA node: /sys/bus/pci/devices/0000:c4:00.0/numa_node\n",
      "Your kernel may have been built without NUMA support.\n",
      "2024-11-14 18:04:22.294695: I tensorflow/compiler/xla/stream_executor/cuda/cuda_gpu_executor.cc:981] could not open file to read NUMA node: /sys/bus/pci/devices/0000:c4:00.0/numa_node\n",
      "Your kernel may have been built without NUMA support.\n",
      "2024-11-14 18:04:22.294750: I tensorflow/compiler/xla/stream_executor/cuda/cuda_gpu_executor.cc:981] could not open file to read NUMA node: /sys/bus/pci/devices/0000:c4:00.0/numa_node\n",
      "Your kernel may have been built without NUMA support.\n",
      "2024-11-14 18:04:22.294756: I tensorflow/core/common_runtime/gpu/gpu_device.cc:1726] Could not identify NUMA node of platform GPU id 0, defaulting to 0.  Your kernel may not have been built with NUMA support.\n",
      "2024-11-14 18:04:22.294772: I tensorflow/compiler/xla/stream_executor/cuda/cuda_gpu_executor.cc:981] could not open file to read NUMA node: /sys/bus/pci/devices/0000:c4:00.0/numa_node\n",
      "Your kernel may have been built without NUMA support.\n",
      "2024-11-14 18:04:22.294803: I tensorflow/core/common_runtime/gpu/gpu_device.cc:1639] Created device /job:localhost/replica:0/task:0/device:GPU:0 with 5563 MB memory:  -> device: 0, name: NVIDIA GeForce RTX 4060 Laptop GPU, pci bus id: 0000:c4:00.0, compute capability: 8.9\n"
     ]
    }
   ],
   "source": [
    "# Train, validation, test dataset 생성 및 배치 단위로 분리\n",
    "batch_size = 128\n",
    "\n",
    "train_dataset = tf.data.Dataset.from_tensor_slices((X_train_padded, y_train_onehot)).batch(batch_size)\n",
    "val_dataset = tf.data.Dataset.from_tensor_slices((X_val_padded, y_val_onehot)).batch(batch_size)\n",
    "test_dataset = tf.data.Dataset.from_tensor_slices((X_test_padded, y_test_onehot)).batch(batch_size)"
   ]
  },
  {
   "cell_type": "code",
   "execution_count": 15,
   "metadata": {},
   "outputs": [
    {
     "name": "stdout",
     "output_type": "stream",
     "text": [
      "Model: \"model\"\n",
      "_________________________________________________________________\n",
      " Layer (type)                Output Shape              Param #   \n",
      "=================================================================\n",
      " input_1 (InputLayer)        [(None, None)]            0         \n",
      "                                                                 \n",
      " embedding (Embedding)       (None, None, 128)         2560128   \n",
      "                                                                 \n",
      " bidirectional (Bidirection  (None, None, 512)         788480    \n",
      " al)                                                             \n",
      "                                                                 \n",
      " dense (Dense)               (None, None, 10)          5130      \n",
      "                                                                 \n",
      "=================================================================\n",
      "Total params: 3353738 (12.79 MB)\n",
      "Trainable params: 3353738 (12.79 MB)\n",
      "Non-trainable params: 0 (0.00 Byte)\n",
      "_________________________________________________________________\n"
     ]
    }
   ],
   "source": [
    "from tensorflow.keras.layers import Input, Embedding, Bidirectional, LSTM, Dense\n",
    "from tensorflow.keras.models import Model\n",
    "from tensorflow.keras.optimizers import Adam\n",
    "\n",
    "def rnn_mtm_model(vocab_size, dim_lst, loss_fn, optimizer, metrics):\n",
    "    # Define the input layer\n",
    "    inputs = Input(shape=(None,))  # None은 가변적인 길이를 의미합니다.\n",
    "    x = Embedding(vocab_size, dim_lst[0])(inputs)\n",
    "    x = Bidirectional(LSTM(dim_lst[1], return_sequences=True))(x)\n",
    "    outputs = Dense(dim_lst[2], activation='softmax')(x)\n",
    "    model = Model(inputs=inputs, outputs=outputs)\n",
    "    model.compile(loss=loss_fn, optimizer=optimizer, metrics=metrics)\n",
    "\n",
    "    return model\n",
    "\n",
    "# 모델 생성\n",
    "vocab_size = vocab_size  # 예시로 어휘 크기 설정\n",
    "dim_lst = [128, 256, 10]\n",
    "loss_fn = 'categorical_crossentropy'\n",
    "optimizer = Adam(0.001)\n",
    "metrics = ['accuracy']\n",
    "model = rnn_mtm_model(\n",
    "    vocab_size=vocab_size, dim_lst=dim_lst, loss_fn=loss_fn, optimizer=optimizer, metrics=metrics\n",
    ")\n",
    "\n",
    "# Model summary\n",
    "model.summary()\n"
   ]
  },
  {
   "cell_type": "code",
   "execution_count": 16,
   "metadata": {},
   "outputs": [
    {
     "name": "stdout",
     "output_type": "stream",
     "text": [
      "Epoch 1/2\n"
     ]
    },
    {
     "name": "stderr",
     "output_type": "stream",
     "text": [
      "2024-11-14 18:04:29.115208: I tensorflow/compiler/xla/stream_executor/cuda/cuda_dnn.cc:432] Loaded cuDNN version 8600\n",
      "2024-11-14 18:04:29.146826: I tensorflow/compiler/xla/stream_executor/cuda/cuda_blas.cc:606] TensorFloat-32 will be used for the matrix multiplication. This will only be logged once.\n",
      "2024-11-14 18:04:29.176551: I tensorflow/compiler/xla/service/service.cc:168] XLA service 0x7f2ce1305420 initialized for platform CUDA (this does not guarantee that XLA will be used). Devices:\n",
      "2024-11-14 18:04:29.176599: I tensorflow/compiler/xla/service/service.cc:176]   StreamExecutor device (0): NVIDIA GeForce RTX 4060 Laptop GPU, Compute Capability 8.9\n",
      "2024-11-14 18:04:29.179732: I tensorflow/compiler/mlir/tensorflow/utils/dump_mlir_util.cc:255] disabling MLIR crash reproducer, set env var `MLIR_CRASH_REPRODUCER_DIRECTORY` to enable.\n",
      "2024-11-14 18:04:29.257870: I ./tensorflow/compiler/jit/device_compiler.h:186] Compiled cluster using XLA!  This line is logged at most once for the lifetime of the process.\n"
     ]
    },
    {
     "name": "stdout",
     "output_type": "stream",
     "text": [
      "71/71 [==============================] - 38s 492ms/step - loss: 0.4313 - accuracy: 0.9034 - val_loss: 0.2061 - val_accuracy: 0.9570\n",
      "Epoch 2/2\n",
      "71/71 [==============================] - 8s 109ms/step - loss: 0.1861 - accuracy: 0.9589 - val_loss: 0.1683 - val_accuracy: 0.9592\n",
      "22/22 [==============================] - 3s 156ms/step - loss: 0.1686 - accuracy: 0.9590\n",
      "Test Loss: 0.1686, Test Accuracy: 0.9590\n",
      "Evaluation Time: 49.28 seconds\n"
     ]
    }
   ],
   "source": [
    "import time\n",
    "# 모델 학습 시간 측정\n",
    "start_time = time.time()\n",
    "\n",
    "# 모델 학습 (검증 데이터 포함)\n",
    "epochs = 2\n",
    "\n",
    "history = model.fit(train_dataset, validation_data=val_dataset, epochs=epochs, verbose=1)\n",
    "\n",
    "# 모델 테스트 평가\n",
    "test_loss, test_accuracy = model.evaluate(test_dataset)\n",
    "print(f\"Test Loss: {test_loss:.4f}, Test Accuracy: {test_accuracy:.4f}\")\n",
    "end_time = time.time()\n",
    "evaluation_time = end_time - start_time\n",
    "print(f\"Evaluation Time: {evaluation_time:.2f} seconds\")"
   ]
  },
  {
   "cell_type": "code",
   "execution_count": 18,
   "metadata": {},
   "outputs": [
    {
     "data": {
      "image/png": "[encoded data removed]",
      "text/plain": [
       "<Figure size 1200x400 with 2 Axes>"
      ]
     },
     "metadata": {},
     "output_type": "display_data"
    }
   ],
   "source": [
    "import matplotlib.pyplot as plt\n",
    "fig, (ax1, ax2) = plt.subplots(1, 2, figsize=(12, 4))\n",
    "\n",
    "ax1.plot(history.history['accuracy'])\n",
    "ax1.plot(history.history['val_accuracy'])\n",
    "ax1.set_xlabel('Epochs')\n",
    "ax1.set_ylabel('accuracy')\n",
    "ax1.legend(['accuarcy', 'val_accuracy'])\n",
    "\n",
    "ax2.plot(history.history['loss'])\n",
    "ax2.plot(history.history['val_loss'])\n",
    "ax2.set_xlabel('Epochs')\n",
    "ax2.set_ylabel('loss')\n",
    "ax2.legend(['loss', 'val_loss'])\n",
    "plt.show()"
   ]
  }
 ],
 "metadata": {
  "kernelspec": {
   "display_name": "nlp_module_3_9",
   "language": "python",
   "name": "python3"
  },
  "language_info": {
   "codemirror_mode": {
    "name": "ipython",
    "version": 3
   },
   "file_extension": ".py",
   "mimetype": "text/x-python",
   "name": "python",
   "nbconvert_exporter": "python",
   "pygments_lexer": "ipython3",
   "version": "3.9.20"
  }
 },
 "nbformat": 4,
 "nbformat_minor": 2
}
