{
 "cells": [
  {
   "cell_type": "code",
   "execution_count": 1,
   "metadata": {},
   "outputs": [],
   "source": [
    "import requests\n",
    "\n",
    "# 다운로드할 URL\n",
    "train_url = \"https://raw.githubusercontent.com/e9t/nsmc/master/ratings_train.txt\"\n",
    "test_url = \"https://raw.githubusercontent.com/e9t/nsmc/master/ratings_test.txt\"\n",
    "\n",
    "# 파일 다운로드 및 저장 함수\n",
    "def download_file(url, filename):\n",
    "    response = requests.get(url)\n",
    "    with open(filename, 'wb') as file:\n",
    "        file.write(response.content)\n",
    "\n",
    "# 파일 다운로드\n",
    "download_file(train_url, \"../data/ratings_train.txt\")\n",
    "download_file(test_url, \"../data/ratings_test.txt\")"
   ]
  },
  {
   "cell_type": "code",
   "execution_count": 2,
   "metadata": {},
   "outputs": [],
   "source": [
    "import pandas as pd\n",
    "train = pd.read_table('../data/ratings_train.txt', sep = '\\t')\n",
    "train = train.drop(columns=['id'])\n",
    "test = pd.read_table('../data/ratings_test.txt', sep = '\\t')\n",
    "test = test.drop(columns=['id'])"
   ]
  },
  {
   "cell_type": "code",
   "execution_count": 3,
   "metadata": {},
   "outputs": [
    {
     "name": "stdout",
     "output_type": "stream",
     "text": [
      "document    5\n",
      "label       0\n",
      "dtype: int64\n",
      "document    3\n",
      "label       0\n",
      "dtype: int64\n",
      "---------------\n",
      "document    0\n",
      "label       0\n",
      "dtype: int64\n",
      "document    0\n",
      "label       0\n",
      "dtype: int64\n"
     ]
    }
   ],
   "source": [
    "print(train.isna().sum())\n",
    "print(test.isna().sum())\n",
    "print(\"-\"*15)\n",
    "train = train.dropna(how='any')\n",
    "test = test.dropna(how='any')\n",
    "\n",
    "print(train.isna().sum())\n",
    "print(test.isna().sum())"
   ]
  },
  {
   "cell_type": "code",
   "execution_count": 4,
   "metadata": {},
   "outputs": [
    {
     "name": "stdout",
     "output_type": "stream",
     "text": [
      "149995 49997\n"
     ]
    }
   ],
   "source": [
    "print(len(train), len(test))\n",
    "total_sentences = list(train['document']) + list(test['document'])"
   ]
  },
  {
   "cell_type": "code",
   "execution_count": 5,
   "metadata": {},
   "outputs": [],
   "source": [
    "with open('./_8.naver_review.txt', 'w', encoding='utf-8') as f:\n",
    "    # 훈련 데이터의 'document' 열에 있는 각 문장에 대해 반복\n",
    "    for line in total_sentences:\n",
    "        try:\n",
    "            # 문장을 파일에 쓰고 새로운 줄 추가\n",
    "            f.write(line + '\\n')\n",
    "        except:\n",
    "            # 쓰기 오류 발생 시 오류 메시지와 해당 문장 출력\n",
    "            print(\"write error ---> \", line)"
   ]
  },
  {
   "cell_type": "code",
   "execution_count": 6,
   "metadata": {},
   "outputs": [
    {
     "name": "stdout",
     "output_type": "stream",
     "text": [
      "--input=_8.naver_review.txt --model_prefix=_8.naver_review --vocab_size=30000\n"
     ]
    }
   ],
   "source": [
    "# 입력 파일 경로 설정\n",
    "input_file = '_8.naver_review.txt'\n",
    "\n",
    "# 어휘 사전의 최대 크기 설정\n",
    "vocab_size = 30000\n",
    "\n",
    "# 모델 파일의 접두사 설정\n",
    "prefix = '_8.naver_review'\n",
    "\n",
    "# 명령어 템플릿 정의\n",
    "templates = '--input={} --model_prefix={} --vocab_size={}'\n",
    "\n",
    "# 템플릿에 변수 값을 포맷하여 명령어 문자열 생성\n",
    "cmd = templates.format(input_file, prefix, vocab_size)\n",
    "\n",
    "# 생성된 명령어 출력\n",
    "print(cmd)"
   ]
  },
  {
   "cell_type": "code",
   "execution_count": 7,
   "metadata": {},
   "outputs": [
    {
     "name": "stderr",
     "output_type": "stream",
     "text": [
      "sentencepiece_trainer.cc(178) LOG(INFO) Running command: --input=_8.naver_review.txt --model_prefix=_8.naver_review --vocab_size=30000\n",
      "sentencepiece_trainer.cc(78) LOG(INFO) Starts training with : \n",
      "trainer_spec {\n",
      "  input: _8.naver_review.txt\n",
      "  input_format: \n",
      "  model_prefix: _8.naver_review\n",
      "  model_type: UNIGRAM\n",
      "  vocab_size: 30000\n",
      "  self_test_sample_size: 0\n",
      "  character_coverage: 0.9995\n",
      "  input_sentence_size: 0\n",
      "  shuffle_input_sentence: 1\n",
      "  seed_sentencepiece_size: 1000000\n",
      "  shrinking_factor: 0.75\n",
      "  max_sentence_length: 4192\n",
      "  num_threads: 16\n",
      "  num_sub_iterations: 2\n",
      "  max_sentencepiece_length: 16\n",
      "  split_by_unicode_script: 1\n",
      "  split_by_number: 1\n",
      "  split_by_whitespace: 1\n",
      "  split_digits: 0\n",
      "  pretokenization_delimiter: \n",
      "  treat_whitespace_as_suffix: 0\n",
      "  allow_whitespace_only_pieces: 0\n",
      "  required_chars: \n",
      "  byte_fallback: 0\n",
      "  vocabulary_output_piece_score: 1\n",
      "  train_extremely_large_corpus: 0\n",
      "  seed_sentencepieces_file: \n",
      "  hard_vocab_limit: 1\n",
      "  use_all_vocab: 0\n",
      "  unk_id: 0\n",
      "  bos_id: 1\n",
      "  eos_id: 2\n",
      "  pad_id: -1\n",
      "  unk_piece: <unk>\n",
      "  bos_piece: <s>\n",
      "  eos_piece: </s>\n",
      "  pad_piece: <pad>\n",
      "  unk_surface:  ⁇ \n",
      "  enable_differential_privacy: 0\n",
      "  differential_privacy_noise_level: 0\n",
      "  differential_privacy_clipping_threshold: 0\n",
      "}\n",
      "normalizer_spec {\n",
      "  name: nmt_nfkc\n",
      "  add_dummy_prefix: 1\n",
      "  remove_extra_whitespaces: 1\n",
      "  escape_whitespaces: 1\n",
      "  normalization_rule_tsv: \n",
      "}\n",
      "denormalizer_spec {}\n",
      "trainer_interface.cc(353) LOG(INFO) SentenceIterator is not specified. Using MultiFileSentenceIterator.\n",
      "trainer_interface.cc(185) LOG(INFO) Loading corpus: _8.naver_review.txt\n",
      "trainer_interface.cc(409) LOG(INFO) Loaded all 199992 sentences\n",
      "trainer_interface.cc(425) LOG(INFO) Adding meta_piece: <unk>\n",
      "trainer_interface.cc(425) LOG(INFO) Adding meta_piece: <s>\n",
      "trainer_interface.cc(425) LOG(INFO) Adding meta_piece: </s>\n",
      "trainer_interface.cc(430) LOG(INFO) Normalizing sentences...\n",
      "trainer_interface.cc(539) LOG(INFO) all chars count=7246505\n",
      "trainer_interface.cc(550) LOG(INFO) Done: 99.95% characters are covered.\n",
      "trainer_interface.cc(560) LOG(INFO) Alphabet size=1724\n",
      "trainer_interface.cc(561) LOG(INFO) Final character coverage=0.9995\n",
      "trainer_interface.cc(592) LOG(INFO) Done! preprocessed 199992 sentences.\n",
      "unigram_model_trainer.cc(265) LOG(INFO) Making suffix array...\n",
      "unigram_model_trainer.cc(269) LOG(INFO) Extracting frequent sub strings... node_num=2555700\n",
      "unigram_model_trainer.cc(312) LOG(INFO) Initialized 386385 seed sentencepieces\n",
      "trainer_interface.cc(598) LOG(INFO) Tokenizing input sentences with whitespace: 199992\n",
      "trainer_interface.cc(609) LOG(INFO) Done! 450130\n",
      "unigram_model_trainer.cc(602) LOG(INFO) Using 450130 sentences for EM training\n",
      "unigram_model_trainer.cc(618) LOG(INFO) EM sub_iter=0 size=194116 obj=15.3774 num_tokens=1063985 num_tokens/piece=5.48118\n",
      "unigram_model_trainer.cc(618) LOG(INFO) EM sub_iter=1 size=179392 obj=14.2875 num_tokens=1070752 num_tokens/piece=5.96878\n",
      "unigram_model_trainer.cc(618) LOG(INFO) EM sub_iter=0 size=134457 obj=14.3701 num_tokens=1115937 num_tokens/piece=8.29958\n",
      "unigram_model_"
     ]
    },
    {
     "data": {
      "text/plain": [
       "True"
      ]
     },
     "execution_count": 7,
     "metadata": {},
     "output_type": "execute_result"
    },
    {
     "name": "stderr",
     "output_type": "stream",
     "text": [
      "trainer.cc(618) LOG(INFO) EM sub_iter=1 size=134192 obj=14.3169 num_tokens=1116436 num_tokens/piece=8.31969\n",
      "unigram_model_trainer.cc(618) LOG(INFO) EM sub_iter=0 size=100638 obj=14.5315 num_tokens=1170137 num_tokens/piece=11.6272\n",
      "unigram_model_trainer.cc(618) LOG(INFO) EM sub_iter=1 size=100621 obj=14.4751 num_tokens=1170213 num_tokens/piece=11.6299\n",
      "unigram_model_trainer.cc(618) LOG(INFO) EM sub_iter=0 size=75465 obj=14.7153 num_tokens=1222428 num_tokens/piece=16.1986\n",
      "unigram_model_trainer.cc(618) LOG(INFO) EM sub_iter=1 size=75465 obj=14.6577 num_tokens=1222420 num_tokens/piece=16.1985\n",
      "unigram_model_trainer.cc(618) LOG(INFO) EM sub_iter=0 size=56598 obj=14.9221 num_tokens=1277050 num_tokens/piece=22.5635\n",
      "unigram_model_trainer.cc(618) LOG(INFO) EM sub_iter=1 size=56597 obj=14.8636 num_tokens=1277082 num_tokens/piece=22.5645\n",
      "unigram_model_trainer.cc(618) LOG(INFO) EM sub_iter=0 size=42447 obj=15.1556 num_tokens=1332335 num_tokens/piece=31.3882\n",
      "unigram_model_trainer.cc(618) LOG(INFO) EM sub_iter=1 size=42447 obj=15.0938 num_tokens=1332340 num_tokens/piece=31.3883\n",
      "unigram_model_trainer.cc(618) LOG(INFO) EM sub_iter=0 size=33000 obj=15.3731 num_tokens=1382353 num_tokens/piece=41.8895\n",
      "unigram_model_trainer.cc(618) LOG(INFO) EM sub_iter=1 size=33000 obj=15.315 num_tokens=1382343 num_tokens/piece=41.8892\n",
      "trainer_interface.cc(687) LOG(INFO) Saving model: _8.naver_review.model\n",
      "trainer_interface.cc(699) LOG(INFO) Saving vocabs: _8.naver_review.vocab\n"
     ]
    }
   ],
   "source": [
    "import sentencepiece as spm\n",
    "spm.SentencePieceTrainer.Train(cmd)\n",
    "# SentencePieceProcessor 객체 생성\n",
    "sp = spm.SentencePieceProcessor()\n",
    "\n",
    "# 학습된 SentencePiece 모델 로드\n",
    "sp.Load('{}.model'.format(prefix))"
   ]
  },
  {
   "cell_type": "code",
   "execution_count": 8,
   "metadata": {},
   "outputs": [
    {
     "name": "stdout",
     "output_type": "stream",
     "text": [
      "아 더빙.. 진짜 짜증나네요 목소리\n",
      "['▁아', '▁더빙', '..', '▁진짜', '▁짜증나네요', '▁목소리']\n",
      "[53, 913, 5, 25, 15810, 1288] \n",
      "\n",
      "흠...포스터보고 초딩영화줄....오버연기조차 가볍지 않구나\n",
      "['▁흠', '...', '포스터', '보고', '▁초딩영화', '줄', '....', '오버', '연기', '조차', '▁가볍지', '▁않', '구나']\n",
      "[1372, 6, 5352, 166, 17944, 449, 47, 14903, 417, 1205, 7360, 953, 414] \n",
      "\n",
      "너무재밓었다그래서보는것을추천한다\n",
      "['▁너무', '재', '밓', '었다', '그래서', '보는것', '을', '추천', '한다']\n",
      "[17, 667, 24910, 597, 2659, 12637, 15, 2229, 301] \n",
      "\n"
     ]
    }
   ],
   "source": [
    "# 훈련 데이터의 'document' 열에 있는 첫 세 개의 문장에 대해 반복\n",
    "for t in total_sentences[:3]:\n",
    "    # 원본 문장 출력\n",
    "    print(t)\n",
    "    # 문장을 SentencePiece 모델을 사용하여 토큰화하여 출력\n",
    "    print(sp.encode_as_pieces(t))\n",
    "    # 문장을 SentencePiece 모델을 사용하여 인덱스 시퀀스로 변환하여 출력\n",
    "    print(sp.encode_as_ids(t), '\\n')"
   ]
  },
  {
   "cell_type": "code",
   "execution_count": 9,
   "metadata": {},
   "outputs": [
    {
     "name": "stderr",
     "output_type": "stream",
     "text": [
      "2024-11-14 18:02:07.635670: I tensorflow/core/util/port.cc:110] oneDNN custom operations are on. You may see slightly different numerical results due to floating-point round-off errors from different computation orders. To turn them off, set the environment variable `TF_ENABLE_ONEDNN_OPTS=0`.\n",
      "2024-11-14 18:02:07.986212: I tensorflow/core/platform/cpu_feature_guard.cc:182] This TensorFlow binary is optimized to use available CPU instructions in performance-critical operations.\n",
      "To enable the following instructions: AVX2 AVX512F AVX512_VNNI AVX512_BF16 AVX_VNNI FMA, in other operations, rebuild TensorFlow with the appropriate compiler flags.\n",
      "2024-11-14 18:02:09.113310: W tensorflow/compiler/tf2tensorrt/utils/py_utils.cc:38] TF-TRT Warning: Could not find TensorRT\n"
     ]
    }
   ],
   "source": [
    "from tensorflow.keras.preprocessing.sequence import pad_sequences\n",
    "import tensorflow as tf\n",
    "from tensorflow import keras\n",
    "total_sentences = [sp.encode_as_ids(sentence) for sentence in total_sentences]\n",
    "max_len = 28\n",
    "padding = 'post'\n",
    "truncating = 'post'\n",
    "padded = pad_sequences(total_sentences, maxlen=max_len, padding=padding, truncating=truncating)\n",
    "train_sentences = padded[:len(train)]\n",
    "test_sentences = padded[len(train):]"
   ]
  },
  {
   "cell_type": "code",
   "execution_count": 10,
   "metadata": {},
   "outputs": [],
   "source": [
    "import numpy as np\n",
    "X_train = np.array(train_sentences)\n",
    "y_train = np.array(train['label'])\n",
    "X_test = np.array(test_sentences)\n",
    "y_test = np.array(test['label'])"
   ]
  },
  {
   "cell_type": "code",
   "execution_count": 11,
   "metadata": {},
   "outputs": [
    {
     "name": "stderr",
     "output_type": "stream",
     "text": [
      "2024-11-14 18:02:14.514665: I tensorflow/compiler/xla/stream_executor/cuda/cuda_gpu_executor.cc:981] could not open file to read NUMA node: /sys/bus/pci/devices/0000:c4:00.0/numa_node\n",
      "Your kernel may have been built without NUMA support.\n",
      "2024-11-14 18:02:14.694593: I tensorflow/compiler/xla/stream_executor/cuda/cuda_gpu_executor.cc:981] could not open file to read NUMA node: /sys/bus/pci/devices/0000:c4:00.0/numa_node\n",
      "Your kernel may have been built without NUMA support.\n",
      "2024-11-14 18:02:14.694644: I tensorflow/compiler/xla/stream_executor/cuda/cuda_gpu_executor.cc:981] could not open file to read NUMA node: /sys/bus/pci/devices/0000:c4:00.0/numa_node\n",
      "Your kernel may have been built without NUMA support.\n",
      "2024-11-14 18:02:14.699995: I tensorflow/compiler/xla/stream_executor/cuda/cuda_gpu_executor.cc:981] could not open file to read NUMA node: /sys/bus/pci/devices/0000:c4:00.0/numa_node\n",
      "Your kernel may have been built without NUMA support.\n",
      "2024-11-14 18:02:14.700045: I tensorflow/compiler/xla/stream_executor/cuda/cuda_gpu_executor.cc:981] could not open file to read NUMA node: /sys/bus/pci/devices/0000:c4:00.0/numa_node\n",
      "Your kernel may have been built without NUMA support.\n",
      "2024-11-14 18:02:14.700055: I tensorflow/compiler/xla/stream_executor/cuda/cuda_gpu_executor.cc:981] could not open file to read NUMA node: /sys/bus/pci/devices/0000:c4:00.0/numa_node\n",
      "Your kernel may have been built without NUMA support.\n",
      "2024-11-14 18:02:15.220965: I tensorflow/compiler/xla/stream_executor/cuda/cuda_gpu_executor.cc:981] could not open file to read NUMA node: /sys/bus/pci/devices/0000:c4:00.0/numa_node\n",
      "Your kernel may have been built without NUMA support.\n",
      "2024-11-14 18:02:15.221030: I tensorflow/compiler/xla/stream_executor/cuda/cuda_gpu_executor.cc:981] could not open file to read NUMA node: /sys/bus/pci/devices/0000:c4:00.0/numa_node\n",
      "Your kernel may have been built without NUMA support.\n",
      "2024-11-14 18:02:15.221037: I tensorflow/core/common_runtime/gpu/gpu_device.cc:1726] Could not identify NUMA node of platform GPU id 0, defaulting to 0.  Your kernel may not have been built with NUMA support.\n",
      "2024-11-14 18:02:15.221053: I tensorflow/compiler/xla/stream_executor/cuda/cuda_gpu_executor.cc:981] could not open file to read NUMA node: /sys/bus/pci/devices/0000:c4:00.0/numa_node\n",
      "Your kernel may have been built without NUMA support.\n",
      "2024-11-14 18:02:15.221104: I tensorflow/core/common_runtime/gpu/gpu_device.cc:1639] Created device /job:localhost/replica:0/task:0/device:GPU:0 with 5563 MB memory:  -> device: 0, name: NVIDIA GeForce RTX 4060 Laptop GPU, pci bus id: 0000:c4:00.0, compute capability: 8.9\n"
     ]
    }
   ],
   "source": [
    "from sklearn.model_selection import train_test_split\n",
    "\n",
    "X_train, X_val, y_train, y_val = train_test_split(X_train, y_train, test_size = 0.2)\n",
    "\n",
    "# Train, validation, test dataset 생성 및 배치 단위로 분리\n",
    "batch_size = 128\n",
    "\n",
    "train_dataset = tf.data.Dataset.from_tensor_slices((X_train, y_train)).batch(batch_size)\n",
    "val_dataset = tf.data.Dataset.from_tensor_slices((X_val, y_val)).batch(batch_size)\n",
    "test_dataset = tf.data.Dataset.from_tensor_slices((X_test, y_test)).batch(batch_size)"
   ]
  },
  {
   "cell_type": "code",
   "execution_count": 12,
   "metadata": {},
   "outputs": [
    {
     "name": "stdout",
     "output_type": "stream",
     "text": [
      "Model: \"model\"\n",
      "_________________________________________________________________\n",
      " Layer (type)                Output Shape              Param #   \n",
      "=================================================================\n",
      " input_1 (InputLayer)        [(None, None)]            0         \n",
      "                                                                 \n",
      " embedding (Embedding)       (None, None, 128)         3840128   \n",
      "                                                                 \n",
      " lstm (LSTM)                 (None, 128)               131584    \n",
      "                                                                 \n",
      " dense (Dense)               (None, 64)                8256      \n",
      "                                                                 \n",
      " dense_1 (Dense)             (None, 1)                 65        \n",
      "                                                                 \n",
      "=================================================================\n",
      "Total params: 3980033 (15.18 MB)\n",
      "Trainable params: 3980033 (15.18 MB)\n",
      "Non-trainable params: 0 (0.00 Byte)\n",
      "_________________________________________________________________\n"
     ]
    }
   ],
   "source": [
    "from tensorflow.keras import layers, models\n",
    "import tensorflow as tf\n",
    "\n",
    "# return_sequence = false, return_state = false\n",
    "def rnn_model(vocab_size, dim_lst, loss_fn, optimizer, metrics):\n",
    "    # 입력 레이어\n",
    "    inputs = layers.Input(shape=(None,), dtype=\"int32\")  # 입력의 모양을 지정 (단어 인덱스 시퀀스)\n",
    "    x = layers.Embedding(vocab_size + 1, dim_lst[0])(inputs)  # 어휘 크기 + 1, 임베딩 차원 64\n",
    "    x = layers.LSTM(dim_lst[1])(x)\n",
    "    x = layers.Dense(dim_lst[2], activation='relu')(x)\n",
    "    outputs = layers.Dense(dim_lst[3], activation='sigmoid')(x)\n",
    "    model = models.Model(inputs, outputs)\n",
    "    model.compile(loss=loss_fn, optimizer=optimizer, metrics=metrics)\n",
    "    return model\n",
    "\n",
    "# 모델 생성\n",
    "vocab_size = vocab_size  # 예시로 어휘 크기 설정\n",
    "dim_lst = [128, 128, 64, 1]\n",
    "loss_fn = 'binary_crossentropy'\n",
    "optimizer = 'adam'\n",
    "metrics = ['accuracy']\n",
    "model = rnn_model(\n",
    "    vocab_size=vocab_size, dim_lst=dim_lst, loss_fn=loss_fn, optimizer=optimizer, metrics=metrics\n",
    ")\n",
    "\n",
    "# 모델 요약 출력\n",
    "model.summary()\n"
   ]
  },
  {
   "cell_type": "code",
   "execution_count": 14,
   "metadata": {},
   "outputs": [
    {
     "name": "stdout",
     "output_type": "stream",
     "text": [
      "Epoch 1/2\n",
      "938/938 [==============================] - 44s 47ms/step - loss: 0.4073 - accuracy: 0.8083 - val_loss: 0.3487 - val_accuracy: 0.8468\n",
      "Epoch 2/2\n",
      "938/938 [==============================] - 11s 12ms/step - loss: 0.2600 - accuracy: 0.8918 - val_loss: 0.4152 - val_accuracy: 0.8442\n",
      "391/391 [==============================] - 2s 5ms/step - loss: 0.4185 - accuracy: 0.8438\n",
      "Test Loss: 0.4185, Test Accuracy: 0.8438\n",
      "Evaluation Time: 57.48 seconds\n"
     ]
    }
   ],
   "source": [
    "import time\n",
    "# 모델 학습 시간 측정\n",
    "start_time = time.time()\n",
    "\n",
    "# 모델 학습 (검증 데이터 포함)\n",
    "epochs = 2\n",
    "history = model.fit(train_dataset, validation_data=val_dataset, epochs=epochs, verbose=1)\n",
    "\n",
    "# 모델 테스트 평가\n",
    "test_loss, test_accuracy = model.evaluate(test_dataset)\n",
    "print(f\"Test Loss: {test_loss:.4f}, Test Accuracy: {test_accuracy:.4f}\")\n",
    "end_time = time.time()\n",
    "evaluation_time = end_time - start_time\n",
    "print(f\"Evaluation Time: {evaluation_time:.2f} seconds\")"
   ]
  },
  {
   "cell_type": "code",
   "execution_count": 15,
   "metadata": {},
   "outputs": [
    {
     "data": {
      "image/png": "[encoded data removed]",
      "text/plain": [
       "<Figure size 1200x400 with 2 Axes>"
      ]
     },
     "metadata": {},
     "output_type": "display_data"
    }
   ],
   "source": [
    "import matplotlib.pyplot as plt\n",
    "fig, (ax1, ax2) = plt.subplots(1, 2, figsize=(12, 4))\n",
    "\n",
    "ax1.plot(history.history['accuracy'])\n",
    "ax1.plot(history.history['val_accuracy'])\n",
    "ax1.set_xlabel('Epochs')\n",
    "ax1.set_ylabel('accuracy')\n",
    "ax1.legend(['accuarcy', 'val_accuracy'])\n",
    "\n",
    "ax2.plot(history.history['loss'])\n",
    "ax2.plot(history.history['val_loss'])\n",
    "ax2.set_xlabel('Epochs')\n",
    "ax2.set_ylabel('loss')\n",
    "ax2.legend(['loss', 'val_loss'])\n",
    "plt.show()"
   ]
  },
  {
   "cell_type": "code",
   "execution_count": null,
   "metadata": {},
   "outputs": [],
   "source": []
  }
 ],
 "metadata": {
  "kernelspec": {
   "display_name": "nlp_module_3_9",
   "language": "python",
   "name": "python3"
  },
  "language_info": {
   "codemirror_mode": {
    "name": "ipython",
    "version": 3
   },
   "file_extension": ".py",
   "mimetype": "text/x-python",
   "name": "python",
   "nbconvert_exporter": "python",
   "pygments_lexer": "ipython3",
   "version": "3.9.20"
  }
 },
 "nbformat": 4,
 "nbformat_minor": 2
}
