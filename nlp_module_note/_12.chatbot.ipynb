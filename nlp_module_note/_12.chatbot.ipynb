{
 "cells": [
  {
   "cell_type": "markdown",
   "metadata": {
    "id": "XmkplRCZlsgK"
   },
   "source": [
    "# 120. Chatbot - seq2seq language model\n",
    "\n",
    "## Encoder-Decoder model\n",
    "\n",
    "- Chatbot_data_for_Korean v1.0 dataset (https://github.com/songys/Chatbot_data) 을 이용한 Chatbot model 개발\n",
    "\n",
    "- 챗봇 트레이닝용 문답 페어 11,876개  \n",
    "- 일상다반사 - 0,\n",
    "- 이별(부정) - 1,\n",
    "- 사랑(긍정) - 2 로 레이블링  \n",
    "\n",
    "<img src='https://github.com/ironmanciti/NLP_Lecture/raw/master/chatbot.png' width=600>"
   ]
  },
  {
   "cell_type": "code",
   "execution_count": 1,
   "metadata": {
    "id": "c9_0sp0bly9-"
   },
   "outputs": [
    {
     "name": "stderr",
     "output_type": "stream",
     "text": [
      "2024-11-14 18:18:43.554359: I tensorflow/core/util/port.cc:110] oneDNN custom operations are on. You may see slightly different numerical results due to floating-point round-off errors from different computation orders. To turn them off, set the environment variable `TF_ENABLE_ONEDNN_OPTS=0`.\n",
      "2024-11-14 18:18:43.583349: I tensorflow/core/platform/cpu_feature_guard.cc:182] This TensorFlow binary is optimized to use available CPU instructions in performance-critical operations.\n",
      "To enable the following instructions: AVX2 AVX512F AVX512_VNNI AVX512_BF16 AVX_VNNI FMA, in other operations, rebuild TensorFlow with the appropriate compiler flags.\n",
      "2024-11-14 18:18:44.274905: W tensorflow/compiler/tf2tensorrt/utils/py_utils.cc:38] TF-TRT Warning: Could not find TensorRT\n"
     ]
    }
   ],
   "source": [
    "import numpy as np\n",
    "import pandas as pd\n",
    "import matplotlib.pyplot as plt\n",
    "import tensorflow as tf\n",
    "import sentencepiece as spm\n",
    "from tensorflow.keras.models import Model\n",
    "from tensorflow.keras.layers import Dense, Embedding, Input, LSTM\n",
    "from tensorflow.keras.preprocessing.text import Tokenizer\n",
    "from tensorflow.keras.preprocessing.sequence import pad_sequences\n",
    "from tensorflow.keras.utils import to_categorical, plot_model"
   ]
  },
  {
   "cell_type": "code",
   "execution_count": 2,
   "metadata": {},
   "outputs": [
    {
     "name": "stdout",
     "output_type": "stream",
     "text": [
      "CUDA Version: OrderedDict([('cpu_compiler', '/usr/lib/llvm-16/bin/clang'), ('cuda_compute_capabilities', ['sm_35', 'sm_50', 'sm_60', 'sm_70', 'sm_75', 'compute_80']), ('cuda_version', '11.8'), ('cudnn_version', '8'), ('is_cuda_build', True), ('is_rocm_build', False), ('is_tensorrt_build', True)])\n",
      "cuDNN Version: 8\n",
      "[name: \"/device:CPU:0\"\n",
      "device_type: \"CPU\"\n",
      "memory_limit: 268435456\n",
      "locality {\n",
      "}\n",
      "incarnation: 5616549685322891231\n",
      "xla_global_id: -1\n",
      ", name: \"/device:GPU:0\"\n",
      "device_type: \"GPU\"\n",
      "memory_limit: 5833228288\n",
      "locality {\n",
      "  bus_id: 1\n",
      "  links {\n",
      "  }\n",
      "}\n",
      "incarnation: 14951255602950706842\n",
      "physical_device_desc: \"device: 0, name: NVIDIA GeForce RTX 4060 Laptop GPU, pci bus id: 0000:c4:00.0, compute capability: 8.9\"\n",
      "xla_global_id: 416903419\n",
      "]\n"
     ]
    },
    {
     "name": "stderr",
     "output_type": "stream",
     "text": [
      "2024-11-14 18:18:45.067913: I tensorflow/compiler/xla/stream_executor/cuda/cuda_gpu_executor.cc:981] could not open file to read NUMA node: /sys/bus/pci/devices/0000:c4:00.0/numa_node\n",
      "Your kernel may have been built without NUMA support.\n",
      "2024-11-14 18:18:45.106162: I tensorflow/compiler/xla/stream_executor/cuda/cuda_gpu_executor.cc:981] could not open file to read NUMA node: /sys/bus/pci/devices/0000:c4:00.0/numa_node\n",
      "Your kernel may have been built without NUMA support.\n",
      "2024-11-14 18:18:45.106214: I tensorflow/compiler/xla/stream_executor/cuda/cuda_gpu_executor.cc:981] could not open file to read NUMA node: /sys/bus/pci/devices/0000:c4:00.0/numa_node\n",
      "Your kernel may have been built without NUMA support.\n",
      "2024-11-14 18:18:45.222006: I tensorflow/compiler/xla/stream_executor/cuda/cuda_gpu_executor.cc:981] could not open file to read NUMA node: /sys/bus/pci/devices/0000:c4:00.0/numa_node\n",
      "Your kernel may have been built without NUMA support.\n",
      "2024-11-14 18:18:45.222065: I tensorflow/compiler/xla/stream_executor/cuda/cuda_gpu_executor.cc:981] could not open file to read NUMA node: /sys/bus/pci/devices/0000:c4:00.0/numa_node\n",
      "Your kernel may have been built without NUMA support.\n",
      "2024-11-14 18:18:45.222072: I tensorflow/core/common_runtime/gpu/gpu_device.cc:1726] Could not identify NUMA node of platform GPU id 0, defaulting to 0.  Your kernel may not have been built with NUMA support.\n",
      "2024-11-14 18:18:45.222089: I tensorflow/compiler/xla/stream_executor/cuda/cuda_gpu_executor.cc:981] could not open file to read NUMA node: /sys/bus/pci/devices/0000:c4:00.0/numa_node\n",
      "Your kernel may have been built without NUMA support.\n",
      "2024-11-14 18:18:45.222123: I tensorflow/core/common_runtime/gpu/gpu_device.cc:1639] Created device /device:GPU:0 with 5563 MB memory:  -> device: 0, name: NVIDIA GeForce RTX 4060 Laptop GPU, pci bus id: 0000:c4:00.0, compute capability: 8.9\n"
     ]
    }
   ],
   "source": [
    "import tensorflow as tf \n",
    "from tensorflow.python.client import device_lib\n",
    "\n",
    "# # CUDA 버전 확인\n",
    "cuda_version = tf.sysconfig.get_build_info()\n",
    "print(f\"CUDA Version: {cuda_version}\")\n",
    "\n",
    "# cuDNN 버전 확인\n",
    "cudnn_version = tf.sysconfig.get_build_info()[\"cudnn_version\"]\n",
    "print(f\"cuDNN Version: {cudnn_version}\")\n",
    "\n",
    "print(device_lib.list_local_devices() )\n",
    "\n",
    "import os\n",
    "os.environ[\"CUDA_VISIBLE_DEVICES\"] = \"0\"\n"
   ]
  },
  {
   "cell_type": "code",
   "execution_count": 3,
   "metadata": {
    "id": "DwX2QDgylsgL"
   },
   "outputs": [],
   "source": [
    "LATENT_DIM = 128                # encoding space 의 latent dimensionality\n",
    "EMBEDDING_DIM = 100"
   ]
  },
  {
   "cell_type": "markdown",
   "metadata": {
    "id": "sfuxDUlqKA0U"
   },
   "source": [
    "Train Data 불러오기"
   ]
  },
  {
   "cell_type": "code",
   "execution_count": 4,
   "metadata": {
    "colab": {
     "base_uri": "https://localhost:8080/",
     "height": 206
    },
    "id": "oAxrCnWLlsgO",
    "outputId": "130c027b-65e9-4276-b362-c996f762c257"
   },
   "outputs": [
    {
     "data": {
      "text/html": [
       "<div>\n",
       "<style scoped>\n",
       "    .dataframe tbody tr th:only-of-type {\n",
       "        vertical-align: middle;\n",
       "    }\n",
       "\n",
       "    .dataframe tbody tr th {\n",
       "        vertical-align: top;\n",
       "    }\n",
       "\n",
       "    .dataframe thead th {\n",
       "        text-align: right;\n",
       "    }\n",
       "</style>\n",
       "<table border=\"1\" class=\"dataframe\">\n",
       "  <thead>\n",
       "    <tr style=\"text-align: right;\">\n",
       "      <th></th>\n",
       "      <th>Q</th>\n",
       "      <th>A</th>\n",
       "      <th>label</th>\n",
       "    </tr>\n",
       "  </thead>\n",
       "  <tbody>\n",
       "    <tr>\n",
       "      <th>0</th>\n",
       "      <td>12시 땡!</td>\n",
       "      <td>하루가 또 가네요.</td>\n",
       "      <td>0</td>\n",
       "    </tr>\n",
       "    <tr>\n",
       "      <th>1</th>\n",
       "      <td>1지망 학교 떨어졌어</td>\n",
       "      <td>위로해 드립니다.</td>\n",
       "      <td>0</td>\n",
       "    </tr>\n",
       "    <tr>\n",
       "      <th>2</th>\n",
       "      <td>3박4일 놀러가고 싶다</td>\n",
       "      <td>여행은 언제나 좋죠.</td>\n",
       "      <td>0</td>\n",
       "    </tr>\n",
       "    <tr>\n",
       "      <th>3</th>\n",
       "      <td>3박4일 정도 놀러가고 싶다</td>\n",
       "      <td>여행은 언제나 좋죠.</td>\n",
       "      <td>0</td>\n",
       "    </tr>\n",
       "    <tr>\n",
       "      <th>4</th>\n",
       "      <td>PPL 심하네</td>\n",
       "      <td>눈살이 찌푸려지죠.</td>\n",
       "      <td>0</td>\n",
       "    </tr>\n",
       "  </tbody>\n",
       "</table>\n",
       "</div>"
      ],
      "text/plain": [
       "                 Q            A  label\n",
       "0           12시 땡!   하루가 또 가네요.      0\n",
       "1      1지망 학교 떨어졌어    위로해 드립니다.      0\n",
       "2     3박4일 놀러가고 싶다  여행은 언제나 좋죠.      0\n",
       "3  3박4일 정도 놀러가고 싶다  여행은 언제나 좋죠.      0\n",
       "4          PPL 심하네   눈살이 찌푸려지죠.      0"
      ]
     },
     "execution_count": 4,
     "metadata": {},
     "output_type": "execute_result"
    }
   ],
   "source": [
    "df = pd.read_csv('https://raw.github.com/ironmanciti/Infran_NLP/master/data/ChatbotData.csv')\n",
    "df.head()"
   ]
  },
  {
   "cell_type": "code",
   "execution_count": 5,
   "metadata": {
    "colab": {
     "base_uri": "https://localhost:8080/"
    },
    "id": "Ggjm3RYylsgT",
    "outputId": "7df3fdb5-27e1-4d64-a9f4-81afa0cf5203"
   },
   "outputs": [
    {
     "name": "stdout",
     "output_type": "stream",
     "text": [
      "<class 'pandas.core.frame.DataFrame'>\n",
      "RangeIndex: 11823 entries, 0 to 11822\n",
      "Data columns (total 3 columns):\n",
      " #   Column  Non-Null Count  Dtype \n",
      "---  ------  --------------  ----- \n",
      " 0   Q       11823 non-null  object\n",
      " 1   A       11823 non-null  object\n",
      " 2   label   11823 non-null  int64 \n",
      "dtypes: int64(1), object(2)\n",
      "memory usage: 277.2+ KB\n"
     ]
    }
   ],
   "source": [
    "df.info()"
   ]
  },
  {
   "cell_type": "markdown",
   "metadata": {
    "id": "tJ73w68NKG6A"
   },
   "source": [
    "Data 확인"
   ]
  },
  {
   "cell_type": "code",
   "execution_count": 6,
   "metadata": {
    "colab": {
     "base_uri": "https://localhost:8080/"
    },
    "id": "nXpwdBi2lsgW",
    "outputId": "85acb701-1845-47da-df77-8c9168c94aa3"
   },
   "outputs": [
    {
     "data": {
      "text/plain": [
       "array([['12시 땡!', '하루가 또 가네요.'],\n",
       "       ['1지망 학교 떨어졌어', '위로해 드립니다.'],\n",
       "       ['3박4일 놀러가고 싶다', '여행은 언제나 좋죠.'],\n",
       "       ...,\n",
       "       ['흑기사 해주는 짝남.', '설렜겠어요.'],\n",
       "       ['힘든 연애 좋은 연애라는게 무슨 차이일까?', '잘 헤어질 수 있는 사이 여부인 거 같아요.'],\n",
       "       ['힘들어서 결혼할까봐', '도피성 결혼은 하지 않길 바라요.']], dtype=object)"
      ]
     },
     "execution_count": 6,
     "metadata": {},
     "output_type": "execute_result"
    }
   ],
   "source": [
    "df.iloc[:, [0, 1]].values"
   ]
  },
  {
   "cell_type": "markdown",
   "metadata": {
    "id": "VgosYfxgKKaw"
   },
   "source": [
    "Train 용 Question, Answer data 작성"
   ]
  },
  {
   "cell_type": "code",
   "execution_count": 7,
   "metadata": {
    "colab": {
     "base_uri": "https://localhost:8080/"
    },
    "id": "w_w_4kr8762q",
    "outputId": "127a62b8-1e20-4ee0-967a-c087dbe841c3"
   },
   "outputs": [
    {
     "name": "stdout",
     "output_type": "stream",
     "text": [
      "23646 11823 11823\n",
      "Question :\n",
      "['12시 땡!', '1지망 학교 떨어졌어', '3박4일 놀러가고 싶다', '3박4일 정도 놀러가고 싶다', 'PPL 심하네']\n",
      "Answer :\n",
      "['하루가 또 가네요.', '위로해 드립니다.', '여행은 언제나 좋죠.', '여행은 언제나 좋죠.', '눈살이 찌푸려지죠.']\n"
     ]
    }
   ],
   "source": [
    "All_texts = []    # sentencepiece tokenizer 학습에 사용\n",
    "Q_texts = []        # Encoder 입력에 사용\n",
    "A_texts = []        # Decoder 입력에 사용\n",
    "\n",
    "for Q, A in df.iloc[:, [0, 1]].values:\n",
    "    Q_texts.append(Q)\n",
    "    A_texts.append(A)\n",
    "\n",
    "All_texts = Q_texts + A_texts\n",
    "\n",
    "print(len(All_texts), len(Q_texts), len(A_texts))\n",
    "print(\"Question :\")\n",
    "print(Q_texts[:5])\n",
    "print(\"Answer :\")\n",
    "print(A_texts[:5])"
   ]
  },
  {
   "cell_type": "markdown",
   "metadata": {
    "id": "aiHERa4SKS9l"
   },
   "source": [
    "## Sentencepiece Tokenizer 학습을 위한 text file 생성"
   ]
  },
  {
   "cell_type": "code",
   "execution_count": 9,
   "metadata": {
    "id": "XJEFbpPv8u3O"
   },
   "outputs": [],
   "source": [
    "# sentencepiece는 .txt 파일을 읽으면서 진행되기 때문에 반드시 .txt를 저장후에 사용\n",
    "with open('_12.chatbot_qna.txt', 'w', encoding='utf-8') as f:\n",
    "    for line in All_texts:\n",
    "        f.write(line + '\\n')"
   ]
  },
  {
   "cell_type": "code",
   "execution_count": 10,
   "metadata": {
    "id": "Ne2P_xEB81cf"
   },
   "outputs": [
    {
     "name": "stderr",
     "output_type": "stream",
     "text": [
      "sentencepiece_trainer.cc(178) LOG(INFO) Running command: --input=_12.chatbot_qna.txt --pad_id=0 --bos_id=1 --eos_id=2 --unk_id=3 --model_prefix=_12.chatbot_qna --vocab_size=5000\n",
      "sentencepiece_trainer.cc(78) LOG(INFO) Starts training with : \n",
      "trainer_spec {\n",
      "  input: _12.chatbot_qna.txt\n",
      "  input_format: \n",
      "  model_prefix: _12.chatbot_qna\n",
      "  model_type: UNIGRAM\n",
      "  vocab_size: 5000\n",
      "  self_test_sample_size: 0\n",
      "  character_coverage: 0.9995\n",
      "  input_sentence_size: 0\n",
      "  shuffle_input_sentence: 1\n",
      "  seed_sentencepiece_size: 1000000\n",
      "  shrinking_factor: 0.75\n",
      "  max_sentence_length: 4192\n",
      "  num_threads: 16\n",
      "  num_sub_iterations: 2\n",
      "  max_sentencepiece_length: 16\n",
      "  split_by_unicode_script: 1\n",
      "  split_by_number: 1\n",
      "  split_by_whitespace: 1\n",
      "  split_digits: 0\n",
      "  pretokenization_delimiter: \n",
      "  treat_whitespace_as_suffix: 0\n",
      "  allow_whitespace_only_pieces: 0\n",
      "  required_chars: \n",
      "  byte_fallback: 0\n",
      "  vocabulary_output_piece_score: 1\n",
      "  train_extremely_large_corpus: 0\n",
      "  seed_sentencepieces_file: \n",
      "  hard_vocab_limit: 1\n",
      "  use_all_vocab: 0\n",
      "  unk_id: 3\n",
      "  bos_id: 1\n",
      "  eos_id: 2\n",
      "  pad_id: 0\n",
      "  unk_piece: <unk>\n",
      "  bos_piece: <s>\n",
      "  eos_piece: </s>\n",
      "  pad_piece: <pad>\n",
      "  unk_surface:  ⁇ \n",
      "  enable_differential_privacy: 0\n",
      "  differential_privacy_noise_level: 0\n",
      "  differential_privacy_clipping_threshold: 0\n",
      "}\n",
      "normalizer_spec {\n",
      "  name: nmt_nfkc\n",
      "  add_dummy_prefix: 1\n",
      "  remove_extra_whitespaces: 1\n",
      "  escape_whitespaces: 1\n",
      "  normalization_rule_tsv: \n",
      "}\n",
      "denormalizer_spec {}\n",
      "trainer_interface.cc(353) LOG(INFO) SentenceIterator is not specified. Using MultiFileSentenceIterator.\n",
      "trainer_interface.cc(185) LOG(INFO) Loading corpus: _12.chatbot_qna.txt\n",
      "trainer_interface.cc(409) LOG(INFO) Loaded all 23646 sentences\n",
      "trainer_interface.cc(425) LOG(INFO) Adding meta_piece: <pad>\n",
      "trainer_interface.cc(425) LOG(INFO) Adding meta_piece: <s>\n",
      "trainer_interface.cc(425) LOG(INFO) Adding meta_piece: </s>\n",
      "trainer_interface.cc(425) LOG(INFO) Adding meta_piece: <unk>\n",
      "trainer_interface.cc(430) LOG(INFO) Normalizing sentences...\n",
      "trainer_interface.cc(539) LOG(INFO) all chars count=353449\n",
      "trainer_interface.cc(550) LOG(INFO) Done: 99.9502% characters are covered.\n",
      "trainer_interface.cc(560) LOG(INFO) Alphabet size=1085\n",
      "trainer_interface.cc(561) LOG(INFO) Final character coverage=0.999502\n",
      "trainer_interface.cc(592) LOG(INFO) Done! preprocessed 23646 sentences.\n",
      "unigram_model_trainer.cc(265) LOG(INFO) Making suffix array...\n",
      "unigram_model_trainer.cc(269) LOG(INFO) Extracting frequent sub strings... node_num=162596\n",
      "unigram_model_trainer.cc(312) LOG(INFO) Initialized 18866 seed sentencepieces\n",
      "trainer_interface.cc(598) LOG(INFO) Tokenizing input sentences with whitespace: 23646\n",
      "trainer_interface.cc(609) LOG(INFO) Done! 21781\n",
      "unigram_model_trainer.cc(602) LOG(INFO) Using 21781 sentences for EM training\n",
      "unigram_model_trainer.cc(618) LOG(INFO) EM sub_iter=0 size=10912 obj=13.23 num_tokens=46285 num_tokens/piece=4.24166\n",
      "unigram_model_trainer.cc(618) LOG(INFO) EM sub_iter=1 size=9598 obj=12.125 num_tokens=46421 num_tokens/piece=4.83653\n",
      "unigram_model_trainer.cc(618) LOG(INFO) EM sub_iter=0 size=7198 obj=12.468 num_tokens=49444 num_tokens/piece=6.86913\n",
      "unigram_model_trainer.cc(618) LOG(INFO) EM sub_iter=1 size=7197 obj=12.4111 num_tokens=49478 num_tokens/piece=6.87481\n",
      "unigram_model_trainer.cc(618) LOG(INFO) EM sub_iter=0 size=5500 obj=12.8775 num_tokens=53312 num_tokens/piece=9.69309\n",
      "unigram_model_trainer.cc(618) LOG(INFO) EM sub_iter=1 size=5500 obj=12.8031 num_tokens=53312 num_tokens/piece=9.69309\n",
      "trainer_interface.cc(687) LOG(INFO) Saving model: _12.chatbot_qna.model\n",
      "trainer_interface.cc(699) LOG(INFO) Saving vocabs: _12.chatbot_qna.vocab\n"
     ]
    }
   ],
   "source": [
    "input_file = '_12.chatbot_qna.txt'\n",
    "vocab_size = 5000      # vocab 사이즈, 빈도 순위가 5000위에 못드는 토큰은 oov 전환\n",
    "prefix = '_12.chatbot_qna' # 저장될 tokenizer 모델에 붙는 이름\n",
    "pad_id = 0             #<pad> token을 0으로 설정\n",
    "bos_id=1               #<s> token을 1으로 설정\n",
    "eos_id=2               #</s> token을 2으로 설정\n",
    "unk_id=3               #<unknown> token을 3으로 설정\n",
    "\n",
    "cmd = f'--input={input_file} \\\n",
    "--pad_id={pad_id} \\\n",
    "--bos_id={bos_id} \\\n",
    "--eos_id={eos_id} \\\n",
    "--unk_id={unk_id} \\\n",
    "--model_prefix={prefix} \\\n",
    "--vocab_size={vocab_size}'\n",
    "\n",
    "spm.SentencePieceTrainer.Train(cmd)"
   ]
  },
  {
   "cell_type": "markdown",
   "metadata": {
    "id": "ZC_GKVRAKezw"
   },
   "source": [
    "학습 완료된 sentencepiece tokenizer Load"
   ]
  },
  {
   "cell_type": "code",
   "execution_count": 11,
   "metadata": {
    "colab": {
     "base_uri": "https://localhost:8080/"
    },
    "id": "eeSxYOD581J0",
    "outputId": "52c21232-16ca-4e4a-9f60-a1191e9cc31c"
   },
   "outputs": [
    {
     "data": {
      "text/plain": [
       "True"
      ]
     },
     "execution_count": 11,
     "metadata": {},
     "output_type": "execute_result"
    }
   ],
   "source": [
    "sp = spm.SentencePieceProcessor()\n",
    "sp.Load(f'{prefix}.model')"
   ]
  },
  {
   "cell_type": "code",
   "execution_count": 12,
   "metadata": {
    "colab": {
     "base_uri": "https://localhost:8080/",
     "height": 36
    },
    "id": "ZDtQbg5KNo9q",
    "outputId": "c142e546-9f16-4209-a414-cc066150b9ef"
   },
   "outputs": [
    {
     "data": {
      "text/plain": [
       "'운 나한테이 될고.'"
      ]
     },
     "execution_count": 12,
     "metadata": {},
     "output_type": "execute_result"
    }
   ],
   "source": [
    "sp.DecodeIds([170, 367, 10, 129, 16, 4])"
   ]
  },
  {
   "cell_type": "markdown",
   "metadata": {
    "id": "-kw7Kp-nKujU"
   },
   "source": [
    "- Tokenize하기 전에 데이터 자체에 `<s>, </s>`를 넣어줘도 되지만, 패키지 자체에서 알아서 해주는 옵션(sp.SetEncodeExtraOptions)이 있습니다.\n",
    "\n",
    "- `sp.SetEncodeExtraOptions('bos:eos')` : 문장 양 끝에 `<s> , </s>` 추가"
   ]
  },
  {
   "cell_type": "code",
   "execution_count": 13,
   "metadata": {
    "colab": {
     "base_uri": "https://localhost:8080/"
    },
    "id": "Wj0q49DV9l4N",
    "outputId": "db02e9ae-fc92-46c1-8816-6eec72992847"
   },
   "outputs": [
    {
     "name": "stdout",
     "output_type": "stream",
     "text": [
      "['<s>', '▁아', '버', '지', '가', '▁방', '에', '▁들어가', '신', '다']\n",
      "[1, 232, 2112, 14, 7, 1467, 31, 1665, 455, 57]\n",
      "아버지가 방에 들어가신다\n",
      "아버지가 방에 들어가신다\n"
     ]
    }
   ],
   "source": [
    "sp.SetEncodeExtraOptions('bos:')   # 문장 처음에 <s>추가 --> Decoder Input에 사용\n",
    "pieces = sp.encode_as_pieces('아버지가 방에 들어가신다')\n",
    "print(pieces)\n",
    "ids = sp.encode_as_ids('아버지가 방에 들어가신다')\n",
    "print(ids)\n",
    "print(sp.DecodePieces(pieces))\n",
    "print(sp.DecodeIds(ids))"
   ]
  },
  {
   "cell_type": "code",
   "execution_count": 14,
   "metadata": {
    "colab": {
     "base_uri": "https://localhost:8080/"
    },
    "id": "wzCMLJFP9ii_",
    "outputId": "84c0719d-bdc6-4c0a-90b8-3bda1be8274e"
   },
   "outputs": [
    {
     "name": "stdout",
     "output_type": "stream",
     "text": [
      "['▁아', '버', '지', '가', '▁방', '에', '▁들어가', '신', '다', '</s>']\n",
      "[232, 2112, 14, 7, 1467, 31, 1665, 455, 57, 2]\n",
      "아버지가 방에 들어가신다\n",
      "아버지가 방에 들어가신다\n"
     ]
    }
   ],
   "source": [
    "sp.SetEncodeExtraOptions(':eos')     # 문장 끝에 </s>추가  --> Decoder target에 사용\n",
    "pieces = sp.encode_as_pieces('아버지가 방에 들어가신다')\n",
    "print(pieces)\n",
    "ids = sp.encode_as_ids('아버지가 방에 들어가신다')\n",
    "print(ids)\n",
    "print(sp.DecodePieces(pieces))\n",
    "print(sp.DecodeIds(ids))"
   ]
  },
  {
   "cell_type": "markdown",
   "metadata": {
    "id": "D2HI74wRLpfB"
   },
   "source": [
    "### Question sequence 작성"
   ]
  },
  {
   "cell_type": "code",
   "execution_count": 15,
   "metadata": {
    "colab": {
     "base_uri": "https://localhost:8080/"
    },
    "id": "42VM1rBZF-74",
    "outputId": "7e8a1330-37b9-480d-816a-6ca484f4f307"
   },
   "outputs": [
    {
     "name": "stdout",
     "output_type": "stream",
     "text": [
      "[[4228, 299, 5, 4826, 72, 2], [291, 14, 933, 674, 1735, 2], [277, 1280, 2810, 76, 2964, 94, 2], [277, 1280, 2810, 76, 667, 2964, 94, 2], [5, 4549, 4549, 3, 1395, 64, 2]]\n"
     ]
    }
   ],
   "source": [
    "Q_sequences = [sp.encode_as_ids(sent) for sent in Q_texts]\n",
    "\n",
    "print(Q_sequences[:5])"
   ]
  },
  {
   "cell_type": "markdown",
   "metadata": {
    "id": "YAwXDJshLtzl"
   },
   "source": [
    "### Answer sequence input 작성"
   ]
  },
  {
   "cell_type": "code",
   "execution_count": 16,
   "metadata": {
    "colab": {
     "base_uri": "https://localhost:8080/"
    },
    "id": "h_hAyKJ_9iZO",
    "outputId": "05915ba1-60e8-43c2-9dcd-cee35579db38"
   },
   "outputs": [
    {
     "name": "stdout",
     "output_type": "stream",
     "text": [
      "[[1, 282, 7, 113, 82, 23, 4], [1, 1459, 5, 3717, 4], [1, 293, 15, 385, 39, 207, 4], [1, 293, 15, 385, 39, 207, 4], [1, 208, 970, 10, 2434, 3090, 173, 14, 40, 4]]\n"
     ]
    }
   ],
   "source": [
    "sp.SetEncodeExtraOptions('bos:')  # 1로 시작\n",
    "A_sequences_inputs = [sp.encode_as_ids(sent) for sent in A_texts]\n",
    "\n",
    "print(A_sequences_inputs[:5])"
   ]
  },
  {
   "cell_type": "markdown",
   "metadata": {
    "id": "1myPZRUrLyYH"
   },
   "source": [
    "### Answer sequence target 작성"
   ]
  },
  {
   "cell_type": "code",
   "execution_count": 17,
   "metadata": {
    "colab": {
     "base_uri": "https://localhost:8080/"
    },
    "id": "QfjAYbV2-XJY",
    "outputId": "192efa4a-1ee5-4d8e-ff6e-6a0e1d87bbc2"
   },
   "outputs": [
    {
     "name": "stdout",
     "output_type": "stream",
     "text": [
      "[[282, 7, 113, 82, 23, 4, 2], [1459, 5, 3717, 4, 2], [293, 15, 385, 39, 207, 4, 2], [293, 15, 385, 39, 207, 4, 2], [208, 970, 10, 2434, 3090, 173, 14, 40, 4, 2]]\n"
     ]
    }
   ],
   "source": [
    "sp.SetEncodeExtraOptions(':eos')  # 2로 종료\n",
    "A_sequences_targets = [sp.encode_as_ids(sent) for sent in A_texts]\n",
    "\n",
    "print(A_sequences_targets[:5])"
   ]
  },
  {
   "cell_type": "markdown",
   "metadata": {
    "id": "sxq0lWFpL18P"
   },
   "source": [
    "input text의  max length 지정"
   ]
  },
  {
   "cell_type": "code",
   "execution_count": 18,
   "metadata": {
    "colab": {
     "base_uri": "https://localhost:8080/",
     "height": 472
    },
    "id": "yTaMsc5Pv-3S",
    "outputId": "bb61c62d-b821-4a37-eeda-6cae4679a02d"
   },
   "outputs": [
    {
     "name": "stdout",
     "output_type": "stream",
     "text": [
      "Target Text 의 최대 길이 : 56\n",
      "Target Text 의 최대 길이 : 76\n"
     ]
    },
    {
     "data": {
      "image/png": "[encoded data removed]",
      "text/plain": [
       "<Figure size 640x480 with 1 Axes>"
      ]
     },
     "metadata": {},
     "output_type": "display_data"
    }
   ],
   "source": [
    "max_len_Q = max(len(s) for s in Q_texts)\n",
    "print(\"Target Text 의 최대 길이 :\", max_len_Q)\n",
    "\n",
    "max_len_A = max(len(s) for s in A_texts)\n",
    "print(\"Target Text 의 최대 길이 :\", max_len_A)\n",
    "\n",
    "plt.hist([len(s) for s in All_texts]);"
   ]
  },
  {
   "cell_type": "markdown",
   "metadata": {
    "id": "ztI6kZL1y6Tv"
   },
   "source": [
    "Input sequence 의 최대 길이는 30 으로 정한다."
   ]
  },
  {
   "cell_type": "code",
   "execution_count": 19,
   "metadata": {
    "id": "y9Sv3xkLFkfp"
   },
   "outputs": [],
   "source": [
    "MAX_LEN = 30"
   ]
  },
  {
   "cell_type": "markdown",
   "metadata": {
    "id": "V1oBupk4lsgp"
   },
   "source": [
    "## sequence padding\n",
    "\n",
    "\n",
    "#### 주의 사항\n",
    "- encoder 는 thought vector 생성 목적이므로 default (pre) 로 padding\n",
    "\n",
    "- decoder 는 teacher forcing 을 해야하므로 post 로 padding"
   ]
  },
  {
   "cell_type": "code",
   "execution_count": 20,
   "metadata": {
    "colab": {
     "base_uri": "https://localhost:8080/"
    },
    "id": "WjJudFz1x1_F",
    "outputId": "c0a80fe8-569f-4a98-81be-fb046b1c1490"
   },
   "outputs": [
    {
     "name": "stdout",
     "output_type": "stream",
     "text": [
      "encoder input shape : (11823, 30)\n",
      "encoder_inputs[0] :  [   0    0    0    0    0    0    0    0    0    0    0    0    0    0\n",
      "    0    0    0    0    0    0    0    0    0    0    0  162 1680  318\n",
      " 2391    2]\n",
      "\n",
      "decoder input shape : (11823, 30)\n",
      "decoder_inputs[0] :  [   1 1145   33 3040   45    4    0    0    0    0    0    0    0    0\n",
      "    0    0    0    0    0    0    0    0    0    0    0    0    0    0\n",
      "    0    0]\n",
      "\n",
      "encoder target shape : (11823, 30)\n",
      "encoder_targets[0] :  [1145   33 3040   45    4    2    0    0    0    0    0    0    0    0\n",
      "    0    0    0    0    0    0    0    0    0    0    0    0    0    0\n",
      "    0    0]\n"
     ]
    }
   ],
   "source": [
    "# encoder - decoder 모델에서 encoder는 pre padding / decoder는 post padding\n",
    "encoder_inputs = pad_sequences(Q_sequences, maxlen=MAX_LEN, padding='pre')\n",
    "print(\"encoder input shape :\", encoder_inputs.shape)\n",
    "print(\"encoder_inputs[0] : \", encoder_inputs[1500])\n",
    "\n",
    "decoder_inputs = pad_sequences(A_sequences_inputs,\n",
    "                               maxlen=MAX_LEN, padding=\"post\")\n",
    "print(\"\\ndecoder input shape :\", decoder_inputs.shape)\n",
    "print(\"decoder_inputs[0] : \", decoder_inputs[1500])\n",
    "\n",
    "decoder_targets = pad_sequences(A_sequences_targets,\n",
    "                                maxlen=MAX_LEN, padding=\"post\")\n",
    "print(\"\\nencoder target shape :\", decoder_targets.shape)\n",
    "print(\"encoder_targets[0] : \", decoder_targets[1500])"
   ]
  },
  {
   "cell_type": "markdown",
   "metadata": {
    "id": "8s4EfHwOlsgu"
   },
   "source": [
    "## Build the model\n",
    "\n",
    "- encoder 와 decoder 의 embedding, lstm 및 dense layer 를 training 할 목적의 model 작성  \n",
    "\n",
    "- encoder 는 decoder 에 states [h, c] 만 전달\n",
    "\n",
    "- prediction 을 위한 inference model 은 training model 에서 만들어진 layer 들의 weight 를 이용하여 별도 작성  \n",
    "\n",
    "### Training : Encoder + Teacher Forcing model"
   ]
  },
  {
   "cell_type": "code",
   "execution_count": 21,
   "metadata": {
    "colab": {
     "base_uri": "https://localhost:8080/"
    },
    "id": "b1IC63sLMtFk",
    "outputId": "90158b29-1b1f-4849-9261-5267bdf99d0f"
   },
   "outputs": [
    {
     "name": "stderr",
     "output_type": "stream",
     "text": [
      "2024-11-14 18:19:20.084318: I tensorflow/compiler/xla/stream_executor/cuda/cuda_gpu_executor.cc:981] could not open file to read NUMA node: /sys/bus/pci/devices/0000:c4:00.0/numa_node\n",
      "Your kernel may have been built without NUMA support.\n"
     ]
    },
    {
     "name": "stdout",
     "output_type": "stream",
     "text": [
      "Model: \"model\"\n",
      "_________________________________________________________________\n",
      " Layer (type)                Output Shape              Param #   \n",
      "=================================================================\n",
      " Encoder_Input (InputLayer)  [(None, 30)]              0         \n",
      "                                                                 \n",
      " embedding (Embedding)       (None, 30, 100)           500100    \n",
      "                                                                 \n",
      " lstm (LSTM)                 [(None, 128),             117248    \n",
      "                              (None, 128),                       \n",
      "                              (None, 128)]                       \n",
      "                                                                 \n",
      "=================================================================\n",
      "Total params: 617348 (2.35 MB)\n",
      "Trainable params: 617348 (2.35 MB)\n",
      "Non-trainable params: 0 (0.00 Byte)\n",
      "_________________________________________________________________\n"
     ]
    },
    {
     "name": "stderr",
     "output_type": "stream",
     "text": [
      "2024-11-14 18:19:20.084418: I tensorflow/compiler/xla/stream_executor/cuda/cuda_gpu_executor.cc:981] could not open file to read NUMA node: /sys/bus/pci/devices/0000:c4:00.0/numa_node\n",
      "Your kernel may have been built without NUMA support.\n",
      "2024-11-14 18:19:20.084438: I tensorflow/compiler/xla/stream_executor/cuda/cuda_gpu_executor.cc:981] could not open file to read NUMA node: /sys/bus/pci/devices/0000:c4:00.0/numa_node\n",
      "Your kernel may have been built without NUMA support.\n",
      "2024-11-14 18:19:20.084632: I tensorflow/compiler/xla/stream_executor/cuda/cuda_gpu_executor.cc:981] could not open file to read NUMA node: /sys/bus/pci/devices/0000:c4:00.0/numa_node\n",
      "Your kernel may have been built without NUMA support.\n",
      "2024-11-14 18:19:20.084649: I tensorflow/compiler/xla/stream_executor/cuda/cuda_gpu_executor.cc:981] could not open file to read NUMA node: /sys/bus/pci/devices/0000:c4:00.0/numa_node\n",
      "Your kernel may have been built without NUMA support.\n",
      "2024-11-14 18:19:20.084659: I tensorflow/compiler/xla/stream_executor/cuda/cuda_gpu_executor.cc:981] could not open file to read NUMA node: /sys/bus/pci/devices/0000:c4:00.0/numa_node\n",
      "Your kernel may have been built without NUMA support.\n",
      "2024-11-14 18:19:20.084937: I tensorflow/compiler/xla/stream_executor/cuda/cuda_gpu_executor.cc:981] could not open file to read NUMA node: /sys/bus/pci/devices/0000:c4:00.0/numa_node\n",
      "Your kernel may have been built without NUMA support.\n",
      "2024-11-14 18:19:20.084956: I tensorflow/core/common_runtime/gpu/gpu_device.cc:1726] Could not identify NUMA node of platform GPU id 0, defaulting to 0.  Your kernel may not have been built with NUMA support.\n",
      "2024-11-14 18:19:20.084974: I tensorflow/compiler/xla/stream_executor/cuda/cuda_gpu_executor.cc:981] could not open file to read NUMA node: /sys/bus/pci/devices/0000:c4:00.0/numa_node\n",
      "Your kernel may have been built without NUMA support.\n",
      "2024-11-14 18:19:20.084991: I tensorflow/core/common_runtime/gpu/gpu_device.cc:1639] Created device /job:localhost/replica:0/task:0/device:GPU:0 with 5563 MB memory:  -> device: 0, name: NVIDIA GeForce RTX 4060 Laptop GPU, pci bus id: 0000:c4:00.0, compute capability: 8.9\n"
     ]
    }
   ],
   "source": [
    "#### Encoder\n",
    "encoder_inputs_ = Input(shape=(MAX_LEN,), name='Encoder_Input')\n",
    "# encoder 의 embedding layer\n",
    "embedding_encoder = Embedding(vocab_size + 1, EMBEDDING_DIM)\n",
    "x = embedding_encoder(encoder_inputs_)\n",
    "\n",
    "encoder_outputs, h, c = LSTM(LATENT_DIM, return_state=True)(x)\n",
    "# encoder 는 hidden state and cell state 만 decoder 로 전달\n",
    "encoder_states = [h, c]  # --> thought vector\n",
    "\n",
    "encoder_model = Model(encoder_inputs_, encoder_states)\n",
    "encoder_model.summary()"
   ]
  },
  {
   "cell_type": "markdown",
   "metadata": {
    "id": "ep04zyIVNTn4"
   },
   "source": [
    "### Decoder model for Teacher Forcing\n",
    "- Training stage에서만 사용"
   ]
  },
  {
   "cell_type": "code",
   "execution_count": 22,
   "metadata": {
    "colab": {
     "base_uri": "https://localhost:8080/"
    },
    "id": "IjALbWe-z0hx",
    "outputId": "9ecd6930-3a02-4971-fc34-b354fa11bdc2"
   },
   "outputs": [
    {
     "name": "stdout",
     "output_type": "stream",
     "text": [
      "Model: \"model_1\"\n",
      "__________________________________________________________________________________________________\n",
      " Layer (type)                Output Shape                 Param #   Connected to                  \n",
      "==================================================================================================\n",
      " Encoder_Input (InputLayer)  [(None, 30)]                 0         []                            \n",
      "                                                                                                  \n",
      " Decoder_Input (InputLayer)  [(None, 30)]                 0         []                            \n",
      "                                                                                                  \n",
      " embedding (Embedding)       (None, 30, 100)              500100    ['Encoder_Input[0][0]']       \n",
      "                                                                                                  \n",
      " embedding_1 (Embedding)     (None, 30, 100)              500100    ['Decoder_Input[0][0]']       \n",
      "                                                                                                  \n",
      " lstm (LSTM)                 [(None, 128),                117248    ['embedding[0][0]']           \n",
      "                              (None, 128),                                                        \n",
      "                              (None, 128)]                                                        \n",
      "                                                                                                  \n",
      " lstm_1 (LSTM)               [(None, 30, 128),            117248    ['embedding_1[0][0]',         \n",
      "                              (None, 128),                           'lstm[0][1]',                \n",
      "                              (None, 128)]                           'lstm[0][2]']                \n",
      "                                                                                                  \n",
      " Decoder_Output (Dense)      (None, 30, 5000)             645000    ['lstm_1[0][0]']              \n",
      "                                                                                                  \n",
      "==================================================================================================\n",
      "Total params: 1879696 (7.17 MB)\n",
      "Trainable params: 1879696 (7.17 MB)\n",
      "Non-trainable params: 0 (0.00 Byte)\n",
      "__________________________________________________________________________________________________\n"
     ]
    }
   ],
   "source": [
    "# decoder 는 [h, c] 를 initial state 로 사용\n",
    "decoder_inputs_ = Input(shape=(MAX_LEN,), name='Decoder_Input')\n",
    "\n",
    "# decoder 의 embedding layer\n",
    "embedding_decoder = Embedding(vocab_size + 1, EMBEDDING_DIM)\n",
    "x = embedding_decoder(decoder_inputs_)\n",
    "\n",
    "decoder_lstm = LSTM(LATENT_DIM, return_sequences=True, return_state=True)\n",
    "# initial state = encoder [h, c]\n",
    "decoder_outputs, _, _ = decoder_lstm(x, initial_state=encoder_states)\n",
    "\n",
    "# final dense layer\n",
    "decoder_dense = Dense(vocab_size, activation='softmax', name='Decoder_Output')\n",
    "decoder_outputs = decoder_dense(decoder_outputs)\n",
    "\n",
    "# Teacher-forceing model  생성\n",
    "model_teacher_forcing = Model([encoder_inputs_, decoder_inputs_], decoder_outputs)\n",
    "\n",
    "#Compile the model and train it\n",
    "model_teacher_forcing.compile(optimizer=tf.keras.optimizers.Adam(learning_rate=0.001), loss='sparse_categorical_crossentropy',\n",
    "    metrics=['accuracy'])\n",
    "\n",
    "model_teacher_forcing.summary()"
   ]
  },
  {
   "cell_type": "code",
   "execution_count": 23,
   "metadata": {
    "colab": {
     "base_uri": "https://localhost:8080/",
     "height": 533
    },
    "id": "dzCp_kCYz0Hk",
    "outputId": "5185feb8-c603-4c56-ebe8-81707ffed433"
   },
   "outputs": [
    {
     "data": {
      "image/png": "[encoded data removed]",
      "text/plain": [
       "<IPython.core.display.Image object>"
      ]
     },
     "execution_count": 23,
     "metadata": {},
     "output_type": "execute_result"
    }
   ],
   "source": [
    "plot_model(model_teacher_forcing, show_shapes=True)"
   ]
  },
  {
   "cell_type": "markdown",
   "metadata": {
    "id": "U_m-UDAF5_BC"
   },
   "source": [
    "### Train the model"
   ]
  },
  {
   "cell_type": "code",
   "execution_count": 24,
   "metadata": {
    "colab": {
     "base_uri": "https://localhost:8080/"
    },
    "id": "HT4uZpNxlsgw",
    "outputId": "cf689860-af68-4626-d75b-99e7e4482da5"
   },
   "outputs": [
    {
     "name": "stdout",
     "output_type": "stream",
     "text": [
      "Epoch 1/2\n"
     ]
    },
    {
     "name": "stderr",
     "output_type": "stream",
     "text": [
      "2024-11-14 18:21:13.573158: I tensorflow/compiler/xla/stream_executor/cuda/cuda_dnn.cc:432] Loaded cuDNN version 8600\n",
      "2024-11-14 18:21:13.600801: I tensorflow/compiler/xla/stream_executor/cuda/cuda_blas.cc:606] TensorFloat-32 will be used for the matrix multiplication. This will only be logged once.\n",
      "2024-11-14 18:21:13.625002: I tensorflow/compiler/xla/service/service.cc:168] XLA service 0x7ff8e0023220 initialized for platform CUDA (this does not guarantee that XLA will be used). Devices:\n",
      "2024-11-14 18:21:13.625069: I tensorflow/compiler/xla/service/service.cc:176]   StreamExecutor device (0): NVIDIA GeForce RTX 4060 Laptop GPU, Compute Capability 8.9\n",
      "2024-11-14 18:21:13.629230: I tensorflow/compiler/mlir/tensorflow/utils/dump_mlir_util.cc:255] disabling MLIR crash reproducer, set env var `MLIR_CRASH_REPRODUCER_DIRECTORY` to enable.\n",
      "2024-11-14 18:21:13.698617: I ./tensorflow/compiler/jit/device_compiler.h:186] Compiled cluster using XLA!  This line is logged at most once for the lifetime of the process.\n"
     ]
    },
    {
     "name": "stdout",
     "output_type": "stream",
     "text": [
      "37/37 [==============================] - 7s 155ms/step - loss: 5.4870 - accuracy: 0.7152 - val_loss: 2.4192 - val_accuracy: 0.6929\n",
      "Epoch 2/2\n",
      "37/37 [==============================] - 5s 134ms/step - loss: 1.8525 - accuracy: 0.7352 - val_loss: 2.1223 - val_accuracy: 0.6929\n"
     ]
    }
   ],
   "source": [
    "EPOCHS = 2\n",
    "BATCH_SIZE = 256\n",
    "history = model_teacher_forcing.fit([encoder_inputs, decoder_inputs],\n",
    "                    decoder_targets, batch_size=BATCH_SIZE, epochs=EPOCHS,\n",
    "                   validation_split=0.2)"
   ]
  },
  {
   "cell_type": "markdown",
   "metadata": {
    "id": "jqt6bVBZN-ck"
   },
   "source": [
    "accuracy, loss 시각화"
   ]
  },
  {
   "cell_type": "code",
   "execution_count": 25,
   "metadata": {
    "colab": {
     "base_uri": "https://localhost:8080/",
     "height": 368
    },
    "id": "nCLIcYy8lsgy",
    "outputId": "358a7346-e458-48bf-939b-04c991b6334d"
   },
   "outputs": [
    {
     "data": {
      "image/png": "[encoded data removed]",
      "text/plain": [
       "<Figure size 1200x400 with 2 Axes>"
      ]
     },
     "metadata": {},
     "output_type": "display_data"
    }
   ],
   "source": [
    "# plot some data\n",
    "plt.figure(figsize=(12, 4))\n",
    "plt.subplot(1, 2, 1)\n",
    "plt.plot(history.history['loss'], label='loss')\n",
    "plt.plot(history.history['val_loss'], label='val_loss')\n",
    "plt.legend()\n",
    "\n",
    "# accuracies\n",
    "plt.subplot(1, 2, 2)\n",
    "plt.plot(history.history['accuracy'], label='acc')\n",
    "plt.plot(history.history['val_accuracy'], label='val_acc')\n",
    "plt.legend()\n",
    "plt.show()"
   ]
  },
  {
   "cell_type": "code",
   "execution_count": 26,
   "metadata": {
    "colab": {
     "base_uri": "https://localhost:8080/"
    },
    "id": "qCkeujkMlsg0",
    "outputId": "900c87cc-6178-4edc-abbd-a2b71b06f881"
   },
   "outputs": [
    {
     "name": "stderr",
     "output_type": "stream",
     "text": [
      "/home/paradeigma/workspace/python/nlp_module/nlp_module_3_9/lib/python3.9/site-packages/keras/src/engine/training.py:3000: UserWarning: You are saving your model as an HDF5 file via `model.save()`. This file format is considered legacy. We recommend using instead the native Keras format, e.g. `model.save('my_model.keras')`.\n",
      "  saving_api.save_model(\n"
     ]
    }
   ],
   "source": [
    "# save model\n",
    "model_teacher_forcing.save('_12.chatbot.h5')"
   ]
  },
  {
   "cell_type": "markdown",
   "metadata": {
    "id": "B3n59rHJlsg1"
   },
   "source": [
    "### Make Predictions - Inference phase\n",
    "\n",
    "- prediction 을 위한 별도의 encoder model\n",
    "- encoder 의 states 를 initial state 로 받는 decoder model 작성  \n",
    "\n",
    "- encoder 는 training 단계와 동일하게 input_text 를 입력으로 받고 encoder_states 를 출력으로 하므로 이전에 define 한 encoder_input_ 과 encoder_states 변수 재사용"
   ]
  },
  {
   "cell_type": "code",
   "execution_count": 27,
   "metadata": {
    "colab": {
     "base_uri": "https://localhost:8080/"
    },
    "id": "KEb2UN2t9d2U",
    "outputId": "adfb2616-1691-4e72-a366-6bf355bddd34"
   },
   "outputs": [
    {
     "name": "stdout",
     "output_type": "stream",
     "text": [
      "Model: \"model_2\"\n",
      "__________________________________________________________________________________________________\n",
      " Layer (type)                Output Shape                 Param #   Connected to                  \n",
      "==================================================================================================\n",
      " Decoder_input (InputLayer)  [(None, 1)]                  0         []                            \n",
      "                                                                                                  \n",
      " embedding_1 (Embedding)     multiple                     500100    ['Decoder_input[0][0]']       \n",
      "                                                                                                  \n",
      " Decoder_hidden_h (InputLay  [(None, 128)]                0         []                            \n",
      " er)                                                                                              \n",
      "                                                                                                  \n",
      " Decoder_hidden_c (InputLay  [(None, 128)]                0         []                            \n",
      " er)                                                                                              \n",
      "                                                                                                  \n",
      " lstm_1 (LSTM)               multiple                     117248    ['embedding_1[1][0]',         \n",
      "                                                                     'Decoder_hidden_h[0][0]',    \n",
      "                                                                     'Decoder_hidden_c[0][0]']    \n",
      "                                                                                                  \n",
      " Decoder_Output (Dense)      multiple                     645000    ['lstm_1[1][0]']              \n",
      "                                                                                                  \n",
      "==================================================================================================\n",
      "Total params: 1262348 (4.82 MB)\n",
      "Trainable params: 1262348 (4.82 MB)\n",
      "Non-trainable params: 0 (0.00 Byte)\n",
      "__________________________________________________________________________________________________\n"
     ]
    }
   ],
   "source": [
    "# Decoder for inference\n",
    "decoder_state_input_h = Input(shape=(LATENT_DIM,), name='Decoder_hidden_h')\n",
    "decoder_state_input_c = Input(shape=(LATENT_DIM,), name='Decoder_hidden_c')\n",
    "decoder_states_inputs = [decoder_state_input_h, decoder_state_input_c]\n",
    "\n",
    "decoder_inputs_single = Input(shape=(1,), name='Decoder_input')\n",
    "x = embedding_decoder(decoder_inputs_single)\n",
    "\n",
    "# output, hidden states 를 저장\n",
    "decoder_outputs, h, c = decoder_lstm(x, initial_state=decoder_states_inputs)\n",
    "decoder_states = [h, c]\n",
    "\n",
    "decoder_outputs = decoder_dense(decoder_outputs)\n",
    "\n",
    "decoder_model = Model(\n",
    "    [decoder_inputs_single] + decoder_states_inputs,    #decoder_model.predict([target_seq] + states_value)\n",
    "    [decoder_outputs] + decoder_states\n",
    ")\n",
    "\n",
    "decoder_model.summary()"
   ]
  },
  {
   "cell_type": "code",
   "execution_count": 28,
   "metadata": {
    "colab": {
     "base_uri": "https://localhost:8080/",
     "height": 422
    },
    "id": "aClaYIzf0yns",
    "outputId": "5d1f06a2-e0cb-4c3e-dd7d-b39184c10b51"
   },
   "outputs": [
    {
     "data": {
      "image/png": "[encoded data removed]",
      "text/plain": [
       "<IPython.core.display.Image object>"
      ]
     },
     "execution_count": 28,
     "metadata": {},
     "output_type": "execute_result"
    }
   ],
   "source": [
    "plot_model(decoder_model, show_shapes=True)"
   ]
  },
  {
   "cell_type": "markdown",
   "metadata": {
    "id": "OS_0Zqpo-32_"
   },
   "source": [
    "### 다음의 inference module 작성\n",
    "- question 을 encoder 에 입력하여 thought vector 반환\n",
    "- start token 설정\n",
    "- 가장 확률 높은 next word 선택\n",
    "- end token 생성 될 때까지 반복\n",
    "- predict 결과가 sequence 로 반환되므로 index 를 word 로 변환"
   ]
  },
  {
   "cell_type": "code",
   "execution_count": 29,
   "metadata": {
    "id": "6i4yEvRC-zFg"
   },
   "outputs": [],
   "source": [
    "def decode_sequence(input_seq, temperature=1.0):\n",
    "    # 입력된 질문을 encoder 에 입력하여 state vector 생성\n",
    "    states_value = encoder_model.predict(input_seq)\n",
    "    # size 1 짜리 빈 target sequence 생성\n",
    "    target_seq = np.zeros((1, 1))\n",
    "    # target sequence 의 첫번째 character 를 <s> 로 assign -> 1\n",
    "    target_seq[0, 0] = 1\n",
    "    eos = 2  # </s>\n",
    "\n",
    "    # 답변 생성 시작\n",
    "    output_ids = []\n",
    "    for _ in range(max_len_A):\n",
    "        output_tokens, h, c = decoder_model.predict([target_seq] + states_value)\n",
    "\n",
    "        # 확률 분포에 따라 단어 샘플링\n",
    "        output_probs = output_tokens[0, 0, :]\n",
    "\n",
    "        # 온도 조절 적용\n",
    "        output_probs = np.log(output_probs + 1e-10) / temperature\n",
    "        output_probs = np.exp(output_probs) / np.sum(np.exp(output_probs))\n",
    "\n",
    "        idx = np.random.choice(len(output_probs), p=output_probs)\n",
    "\n",
    "        if eos == idx:  # End sentence of EOS\n",
    "            break\n",
    "\n",
    "        if idx > 0:  # idx 0 은 zero padding 이므로 skip\n",
    "            output_ids.append(int(idx))\n",
    "\n",
    "        # 생성된 word 를 decoder 의 다음 input 으로 사용\n",
    "        target_seq[0, 0] = idx\n",
    "        # Update states\n",
    "        states_value = [h, c]\n",
    "\n",
    "    return output_ids"
   ]
  },
  {
   "cell_type": "markdown",
   "metadata": {
    "id": "0tbXK6zjCBv8"
   },
   "source": [
    "- sample Q & A test"
   ]
  },
  {
   "cell_type": "code",
   "execution_count": 30,
   "metadata": {
    "colab": {
     "base_uri": "https://localhost:8080/"
    },
    "id": "EaVj30TGB-ny",
    "outputId": "38f83b8d-7ac9-4a39-bb9b-5fc08dfb348a"
   },
   "outputs": [
    {
     "name": "stdout",
     "output_type": "stream",
     "text": [
      "1/1 [==============================] - 0s 342ms/step\n",
      "1/1 [==============================] - 0s 141ms/step\n",
      "1/1 [==============================] - 0s 16ms/step\n",
      "1/1 [==============================] - 0s 14ms/step\n",
      "1/1 [==============================] - 0s 15ms/step\n",
      "1/1 [==============================] - 0s 15ms/step\n",
      "1/1 [==============================] - 0s 15ms/step\n",
      "1/1 [==============================] - 0s 16ms/step\n",
      "1/1 [==============================] - 0s 15ms/step\n",
      "-\n",
      "질문 : 한달 째\n",
      "답변 : 하면  없네 나쁜게.\n",
      "1/1 [==============================] - 0s 14ms/step\n",
      "1/1 [==============================] - 0s 15ms/step\n",
      "1/1 [==============================] - 0s 15ms/step\n",
      "1/1 [==============================] - 0s 15ms/step\n",
      "1/1 [==============================] - 0s 15ms/step\n",
      "-\n",
      "질문 : 수분크림 듬뿍 바르고 자야겠다.\n",
      "답변 : 원망쥬 때\n",
      "1/1 [==============================] - 0s 14ms/step\n",
      "1/1 [==============================] - 0s 15ms/step\n",
      "1/1 [==============================] - 0s 15ms/step\n",
      "1/1 [==============================] - 0s 15ms/step\n",
      "1/1 [==============================] - 0s 15ms/step\n",
      "1/1 [==============================] - 0s 15ms/step\n",
      "1/1 [==============================] - 0s 15ms/step\n",
      "1/1 [==============================] - 0s 15ms/step\n",
      "1/1 [==============================] - 0s 15ms/step\n",
      "1/1 [==============================] - 0s 16ms/step\n",
      "1/1 [==============================] - 0s 15ms/step\n",
      "1/1 [==============================] - 0s 15ms/step\n",
      "1/1 [==============================] - 0s 15ms/step\n",
      "1/1 [==============================] - 0s 17ms/step\n",
      "1/1 [==============================] - 0s 14ms/step\n",
      "1/1 [==============================] - 0s 14ms/step\n",
      "1/1 [==============================] - 0s 15ms/step\n",
      "1/1 [==============================] - 0s 15ms/step\n",
      "1/1 [==============================] - 0s 15ms/step\n",
      "1/1 [==============================] - 0s 15ms/step\n",
      "1/1 [==============================] - 0s 15ms/step\n",
      "1/1 [==============================] - 0s 15ms/step\n",
      "1/1 [==============================] - 0s 16ms/step\n",
      "1/1 [==============================] - 0s 15ms/step\n",
      "1/1 [==============================] - 0s 15ms/step\n",
      "1/1 [==============================] - 0s 16ms/step\n",
      "1/1 [==============================] - 0s 15ms/step\n",
      "1/1 [==============================] - 0s 16ms/step\n",
      "1/1 [==============================] - 0s 17ms/step\n",
      "1/1 [==============================] - 0s 19ms/step\n",
      "1/1 [==============================] - 0s 23ms/step\n",
      "1/1 [==============================] - 0s 16ms/step\n",
      "1/1 [==============================] - 0s 16ms/step\n",
      "1/1 [==============================] - 0s 16ms/step\n",
      "1/1 [==============================] - 0s 16ms/step\n",
      "1/1 [==============================] - 0s 16ms/step\n",
      "1/1 [==============================] - 0s 16ms/step\n",
      "1/1 [==============================] - 0s 16ms/step\n",
      "1/1 [==============================] - 0s 15ms/step\n",
      "1/1 [==============================] - 0s 16ms/step\n",
      "1/1 [==============================] - 0s 16ms/step\n",
      "1/1 [==============================] - 0s 20ms/step\n",
      "1/1 [==============================] - 0s 17ms/step\n",
      "1/1 [==============================] - 0s 17ms/step\n",
      "1/1 [==============================] - 0s 16ms/step\n",
      "1/1 [==============================] - 0s 18ms/step\n",
      "-\n",
      "질문 : 만난지 얼마 안됐는데 고백했어\n",
      "답변 : 게렴 과거요 보지해보세요대로는\n",
      "1/1 [==============================] - 0s 15ms/step\n",
      "1/1 [==============================] - 0s 17ms/step\n",
      "1/1 [==============================] - 0s 17ms/step\n",
      "1/1 [==============================] - 0s 17ms/step\n",
      "1/1 [==============================] - 0s 17ms/step\n",
      "1/1 [==============================] - 0s 15ms/step\n",
      "1/1 [==============================] - 0s 16ms/step\n",
      "1/1 [==============================] - 0s 16ms/step\n",
      "1/1 [==============================] - 0s 17ms/step\n",
      "1/1 [==============================] - 0s 17ms/step\n",
      "1/1 [==============================] - 0s 17ms/step\n",
      "-\n",
      "질문 : 개당황했잖아 갑자기 물어 봐서\n",
      "답변 : 있대 조금 살아가 수정기.는\n",
      "1/1 [==============================] - 0s 15ms/step\n",
      "1/1 [==============================] - 0s 16ms/step\n",
      "1/1 [==============================] - 0s 17ms/step\n",
      "1/1 [==============================] - 0s 17ms/step\n",
      "1/1 [==============================] - 0s 17ms/step\n",
      "1/1 [==============================] - 0s 16ms/step\n",
      "1/1 [==============================] - 0s 16ms/step\n",
      "1/1 [==============================] - 0s 18ms/step\n",
      "-\n",
      "질문 : 헤어진 사람이 생각나는데 어떻게 견디지\n",
      "답변 : 병원 없다 아니 말해보세요..\n"
     ]
    }
   ],
   "source": [
    "sp.Load(f'{prefix}.model')\n",
    "\n",
    "for _ in range(5):\n",
    "    i = np.random.choice(len(Q_texts))\n",
    "    input_seq = encoder_inputs[i:i+1]\n",
    "    response = decode_sequence(input_seq)\n",
    "    print('-')\n",
    "    print('질문 :', Q_texts[i])\n",
    "    print('답변 :', sp.DecodeIds(response))"
   ]
  },
  {
   "cell_type": "code",
   "execution_count": 31,
   "metadata": {
    "colab": {
     "base_uri": "https://localhost:8080/"
    },
    "id": "CWrUaHuZlsg6",
    "outputId": "b1d856b9-5844-481d-f5d2-77ca9e8a77fd",
    "scrolled": true
   },
   "outputs": [
    {
     "name": "stdout",
     "output_type": "stream",
     "text": [
      "1/1 [==============================] - 0s 16ms/step\n",
      "1/1 [==============================] - 0s 17ms/step\n",
      "1/1 [==============================] - 0s 17ms/step\n",
      "-\n",
      "질문 사랑해\n",
      "답변: 자괴감\n"
     ]
    }
   ],
   "source": [
    "txt = \"사랑해\"\n",
    "input_sequence = sp.encode_as_ids(txt)\n",
    "encoder_input = pad_sequences([input_sequence], maxlen=MAX_LEN)\n",
    "\n",
    "response = decode_sequence(encoder_input)\n",
    "print('-')\n",
    "print('질문', txt)\n",
    "print('답변:', sp.DecodeIds(response))"
   ]
  },
  {
   "cell_type": "code",
   "execution_count": 32,
   "metadata": {
    "colab": {
     "base_uri": "https://localhost:8080/"
    },
    "id": "M0EdrUH8lsg8",
    "outputId": "06330340-7220-4f14-a600-7461f6eda048"
   },
   "outputs": [
    {
     "name": "stdout",
     "output_type": "stream",
     "text": [
      "챗봇 대화 시작 .....\n"
     ]
    }
   ],
   "source": [
    "print(\"챗봇 대화 시작 .....\")\n",
    "\n",
    "while True:\n",
    "    txt = input(\"질문 :\")\n",
    "    if txt.lower() == \"quit\":\n",
    "        break\n",
    "\n",
    "    input_sequence = sp.encode_as_ids(txt)\n",
    "    encoder_input = pad_sequences([input_sequence], maxlen=MAX_LEN)\n",
    "\n",
    "    answer = decode_sequence(encoder_input)\n",
    "\n",
    "    print(\"답변 :\", sp.DecodeIds(answer))"
   ]
  }
 ],
 "metadata": {
  "accelerator": "GPU",
  "colab": {
   "provenance": []
  },
  "kernelspec": {
   "display_name": "nlp_module_3_9",
   "language": "python",
   "name": "python3"
  },
  "language_info": {
   "codemirror_mode": {
    "name": "ipython",
    "version": 3
   },
   "file_extension": ".py",
   "mimetype": "text/x-python",
   "name": "python",
   "nbconvert_exporter": "python",
   "pygments_lexer": "ipython3",
   "version": "3.9.20"
  }
 },
 "nbformat": 4,
 "nbformat_minor": 0
}
