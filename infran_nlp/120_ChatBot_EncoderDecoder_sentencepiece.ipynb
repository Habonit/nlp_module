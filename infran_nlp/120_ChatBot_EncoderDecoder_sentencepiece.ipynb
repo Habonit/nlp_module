{
  "cells": [
    {
      "cell_type": "markdown",
      "metadata": {
        "id": "XmkplRCZlsgK"
      },
      "source": [
        "# 120. Chatbot - seq2seq language model\n",
        "\n",
        "## Encoder-Decoder model\n",
        "\n",
        "- Chatbot_data_for_Korean v1.0 dataset (https://github.com/songys/Chatbot_data) 을 이용한 Chatbot model 개발\n",
        "\n",
        "- 챗봇 트레이닝용 문답 페어 11,876개  \n",
        "- 일상다반사 - 0,\n",
        "- 이별(부정) - 1,\n",
        "- 사랑(긍정) - 2 로 레이블링  \n",
        "\n",
        "<img src='https://github.com/ironmanciti/NLP_Lecture/raw/master/chatbot.png' width=600>"
      ]
    },
    {
      "cell_type": "code",
      "execution_count": 1,
      "metadata": {
        "id": "G3EOljBv8DoS"
      },
      "outputs": [],
      "source": [
        "!pip install -q sentencepiece"
      ]
    },
    {
      "cell_type": "code",
      "execution_count": 2,
      "metadata": {
        "id": "c9_0sp0bly9-"
      },
      "outputs": [],
      "source": [
        "import numpy as np\n",
        "import pandas as pd\n",
        "import matplotlib.pyplot as plt\n",
        "import tensorflow as tf\n",
        "import sentencepiece as spm\n",
        "from tensorflow.keras.models import Model\n",
        "from tensorflow.keras.layers import Dense, Embedding, Input, LSTM\n",
        "from tensorflow.keras.preprocessing.text import Tokenizer\n",
        "from tensorflow.keras.preprocessing.sequence import pad_sequences\n",
        "from tensorflow.keras.utils import to_categorical, plot_model"
      ]
    },
    {
      "cell_type": "code",
      "execution_count": 3,
      "metadata": {
        "id": "DwX2QDgylsgL"
      },
      "outputs": [],
      "source": [
        "LATENT_DIM = 128                # encoding space 의 latent dimensionality\n",
        "EMBEDDING_DIM = 100"
      ]
    },
    {
      "cell_type": "markdown",
      "metadata": {
        "id": "sfuxDUlqKA0U"
      },
      "source": [
        "Train Data 불러오기"
      ]
    },
    {
      "cell_type": "code",
      "execution_count": 5,
      "metadata": {
        "colab": {
          "base_uri": "https://localhost:8080/",
          "height": 206
        },
        "id": "oAxrCnWLlsgO",
        "outputId": "130c027b-65e9-4276-b362-c996f762c257"
      },
      "outputs": [
        {
          "output_type": "execute_result",
          "data": {
            "text/plain": [
              "                 Q            A  label\n",
              "0           12시 땡!   하루가 또 가네요.      0\n",
              "1      1지망 학교 떨어졌어    위로해 드립니다.      0\n",
              "2     3박4일 놀러가고 싶다  여행은 언제나 좋죠.      0\n",
              "3  3박4일 정도 놀러가고 싶다  여행은 언제나 좋죠.      0\n",
              "4          PPL 심하네   눈살이 찌푸려지죠.      0"
            ],
            "text/html": [
              "\n",
              "  <div id=\"df-13da395d-6053-47c9-9a98-7a72dd4f420e\" class=\"colab-df-container\">\n",
              "    <div>\n",
              "<style scoped>\n",
              "    .dataframe tbody tr th:only-of-type {\n",
              "        vertical-align: middle;\n",
              "    }\n",
              "\n",
              "    .dataframe tbody tr th {\n",
              "        vertical-align: top;\n",
              "    }\n",
              "\n",
              "    .dataframe thead th {\n",
              "        text-align: right;\n",
              "    }\n",
              "</style>\n",
              "<table border=\"1\" class=\"dataframe\">\n",
              "  <thead>\n",
              "    <tr style=\"text-align: right;\">\n",
              "      <th></th>\n",
              "      <th>Q</th>\n",
              "      <th>A</th>\n",
              "      <th>label</th>\n",
              "    </tr>\n",
              "  </thead>\n",
              "  <tbody>\n",
              "    <tr>\n",
              "      <th>0</th>\n",
              "      <td>12시 땡!</td>\n",
              "      <td>하루가 또 가네요.</td>\n",
              "      <td>0</td>\n",
              "    </tr>\n",
              "    <tr>\n",
              "      <th>1</th>\n",
              "      <td>1지망 학교 떨어졌어</td>\n",
              "      <td>위로해 드립니다.</td>\n",
              "      <td>0</td>\n",
              "    </tr>\n",
              "    <tr>\n",
              "      <th>2</th>\n",
              "      <td>3박4일 놀러가고 싶다</td>\n",
              "      <td>여행은 언제나 좋죠.</td>\n",
              "      <td>0</td>\n",
              "    </tr>\n",
              "    <tr>\n",
              "      <th>3</th>\n",
              "      <td>3박4일 정도 놀러가고 싶다</td>\n",
              "      <td>여행은 언제나 좋죠.</td>\n",
              "      <td>0</td>\n",
              "    </tr>\n",
              "    <tr>\n",
              "      <th>4</th>\n",
              "      <td>PPL 심하네</td>\n",
              "      <td>눈살이 찌푸려지죠.</td>\n",
              "      <td>0</td>\n",
              "    </tr>\n",
              "  </tbody>\n",
              "</table>\n",
              "</div>\n",
              "    <div class=\"colab-df-buttons\">\n",
              "\n",
              "  <div class=\"colab-df-container\">\n",
              "    <button class=\"colab-df-convert\" onclick=\"convertToInteractive('df-13da395d-6053-47c9-9a98-7a72dd4f420e')\"\n",
              "            title=\"Convert this dataframe to an interactive table.\"\n",
              "            style=\"display:none;\">\n",
              "\n",
              "  <svg xmlns=\"http://www.w3.org/2000/svg\" height=\"24px\" viewBox=\"0 -960 960 960\">\n",
              "    <path d=\"M120-120v-720h720v720H120Zm60-500h600v-160H180v160Zm220 220h160v-160H400v160Zm0 220h160v-160H400v160ZM180-400h160v-160H180v160Zm440 0h160v-160H620v160ZM180-180h160v-160H180v160Zm440 0h160v-160H620v160Z\"/>\n",
              "  </svg>\n",
              "    </button>\n",
              "\n",
              "  <style>\n",
              "    .colab-df-container {\n",
              "      display:flex;\n",
              "      gap: 12px;\n",
              "    }\n",
              "\n",
              "    .colab-df-convert {\n",
              "      background-color: #E8F0FE;\n",
              "      border: none;\n",
              "      border-radius: 50%;\n",
              "      cursor: pointer;\n",
              "      display: none;\n",
              "      fill: #1967D2;\n",
              "      height: 32px;\n",
              "      padding: 0 0 0 0;\n",
              "      width: 32px;\n",
              "    }\n",
              "\n",
              "    .colab-df-convert:hover {\n",
              "      background-color: #E2EBFA;\n",
              "      box-shadow: 0px 1px 2px rgba(60, 64, 67, 0.3), 0px 1px 3px 1px rgba(60, 64, 67, 0.15);\n",
              "      fill: #174EA6;\n",
              "    }\n",
              "\n",
              "    .colab-df-buttons div {\n",
              "      margin-bottom: 4px;\n",
              "    }\n",
              "\n",
              "    [theme=dark] .colab-df-convert {\n",
              "      background-color: #3B4455;\n",
              "      fill: #D2E3FC;\n",
              "    }\n",
              "\n",
              "    [theme=dark] .colab-df-convert:hover {\n",
              "      background-color: #434B5C;\n",
              "      box-shadow: 0px 1px 3px 1px rgba(0, 0, 0, 0.15);\n",
              "      filter: drop-shadow(0px 1px 2px rgba(0, 0, 0, 0.3));\n",
              "      fill: #FFFFFF;\n",
              "    }\n",
              "  </style>\n",
              "\n",
              "    <script>\n",
              "      const buttonEl =\n",
              "        document.querySelector('#df-13da395d-6053-47c9-9a98-7a72dd4f420e button.colab-df-convert');\n",
              "      buttonEl.style.display =\n",
              "        google.colab.kernel.accessAllowed ? 'block' : 'none';\n",
              "\n",
              "      async function convertToInteractive(key) {\n",
              "        const element = document.querySelector('#df-13da395d-6053-47c9-9a98-7a72dd4f420e');\n",
              "        const dataTable =\n",
              "          await google.colab.kernel.invokeFunction('convertToInteractive',\n",
              "                                                    [key], {});\n",
              "        if (!dataTable) return;\n",
              "\n",
              "        const docLinkHtml = 'Like what you see? Visit the ' +\n",
              "          '<a target=\"_blank\" href=https://colab.research.google.com/notebooks/data_table.ipynb>data table notebook</a>'\n",
              "          + ' to learn more about interactive tables.';\n",
              "        element.innerHTML = '';\n",
              "        dataTable['output_type'] = 'display_data';\n",
              "        await google.colab.output.renderOutput(dataTable, element);\n",
              "        const docLink = document.createElement('div');\n",
              "        docLink.innerHTML = docLinkHtml;\n",
              "        element.appendChild(docLink);\n",
              "      }\n",
              "    </script>\n",
              "  </div>\n",
              "\n",
              "\n",
              "<div id=\"df-1ad5c93a-4b01-4b9f-b5ff-e7cf24abe6f7\">\n",
              "  <button class=\"colab-df-quickchart\" onclick=\"quickchart('df-1ad5c93a-4b01-4b9f-b5ff-e7cf24abe6f7')\"\n",
              "            title=\"Suggest charts\"\n",
              "            style=\"display:none;\">\n",
              "\n",
              "<svg xmlns=\"http://www.w3.org/2000/svg\" height=\"24px\"viewBox=\"0 0 24 24\"\n",
              "     width=\"24px\">\n",
              "    <g>\n",
              "        <path d=\"M19 3H5c-1.1 0-2 .9-2 2v14c0 1.1.9 2 2 2h14c1.1 0 2-.9 2-2V5c0-1.1-.9-2-2-2zM9 17H7v-7h2v7zm4 0h-2V7h2v10zm4 0h-2v-4h2v4z\"/>\n",
              "    </g>\n",
              "</svg>\n",
              "  </button>\n",
              "\n",
              "<style>\n",
              "  .colab-df-quickchart {\n",
              "      --bg-color: #E8F0FE;\n",
              "      --fill-color: #1967D2;\n",
              "      --hover-bg-color: #E2EBFA;\n",
              "      --hover-fill-color: #174EA6;\n",
              "      --disabled-fill-color: #AAA;\n",
              "      --disabled-bg-color: #DDD;\n",
              "  }\n",
              "\n",
              "  [theme=dark] .colab-df-quickchart {\n",
              "      --bg-color: #3B4455;\n",
              "      --fill-color: #D2E3FC;\n",
              "      --hover-bg-color: #434B5C;\n",
              "      --hover-fill-color: #FFFFFF;\n",
              "      --disabled-bg-color: #3B4455;\n",
              "      --disabled-fill-color: #666;\n",
              "  }\n",
              "\n",
              "  .colab-df-quickchart {\n",
              "    background-color: var(--bg-color);\n",
              "    border: none;\n",
              "    border-radius: 50%;\n",
              "    cursor: pointer;\n",
              "    display: none;\n",
              "    fill: var(--fill-color);\n",
              "    height: 32px;\n",
              "    padding: 0;\n",
              "    width: 32px;\n",
              "  }\n",
              "\n",
              "  .colab-df-quickchart:hover {\n",
              "    background-color: var(--hover-bg-color);\n",
              "    box-shadow: 0 1px 2px rgba(60, 64, 67, 0.3), 0 1px 3px 1px rgba(60, 64, 67, 0.15);\n",
              "    fill: var(--button-hover-fill-color);\n",
              "  }\n",
              "\n",
              "  .colab-df-quickchart-complete:disabled,\n",
              "  .colab-df-quickchart-complete:disabled:hover {\n",
              "    background-color: var(--disabled-bg-color);\n",
              "    fill: var(--disabled-fill-color);\n",
              "    box-shadow: none;\n",
              "  }\n",
              "\n",
              "  .colab-df-spinner {\n",
              "    border: 2px solid var(--fill-color);\n",
              "    border-color: transparent;\n",
              "    border-bottom-color: var(--fill-color);\n",
              "    animation:\n",
              "      spin 1s steps(1) infinite;\n",
              "  }\n",
              "\n",
              "  @keyframes spin {\n",
              "    0% {\n",
              "      border-color: transparent;\n",
              "      border-bottom-color: var(--fill-color);\n",
              "      border-left-color: var(--fill-color);\n",
              "    }\n",
              "    20% {\n",
              "      border-color: transparent;\n",
              "      border-left-color: var(--fill-color);\n",
              "      border-top-color: var(--fill-color);\n",
              "    }\n",
              "    30% {\n",
              "      border-color: transparent;\n",
              "      border-left-color: var(--fill-color);\n",
              "      border-top-color: var(--fill-color);\n",
              "      border-right-color: var(--fill-color);\n",
              "    }\n",
              "    40% {\n",
              "      border-color: transparent;\n",
              "      border-right-color: var(--fill-color);\n",
              "      border-top-color: var(--fill-color);\n",
              "    }\n",
              "    60% {\n",
              "      border-color: transparent;\n",
              "      border-right-color: var(--fill-color);\n",
              "    }\n",
              "    80% {\n",
              "      border-color: transparent;\n",
              "      border-right-color: var(--fill-color);\n",
              "      border-bottom-color: var(--fill-color);\n",
              "    }\n",
              "    90% {\n",
              "      border-color: transparent;\n",
              "      border-bottom-color: var(--fill-color);\n",
              "    }\n",
              "  }\n",
              "</style>\n",
              "\n",
              "  <script>\n",
              "    async function quickchart(key) {\n",
              "      const quickchartButtonEl =\n",
              "        document.querySelector('#' + key + ' button');\n",
              "      quickchartButtonEl.disabled = true;  // To prevent multiple clicks.\n",
              "      quickchartButtonEl.classList.add('colab-df-spinner');\n",
              "      try {\n",
              "        const charts = await google.colab.kernel.invokeFunction(\n",
              "            'suggestCharts', [key], {});\n",
              "      } catch (error) {\n",
              "        console.error('Error during call to suggestCharts:', error);\n",
              "      }\n",
              "      quickchartButtonEl.classList.remove('colab-df-spinner');\n",
              "      quickchartButtonEl.classList.add('colab-df-quickchart-complete');\n",
              "    }\n",
              "    (() => {\n",
              "      let quickchartButtonEl =\n",
              "        document.querySelector('#df-1ad5c93a-4b01-4b9f-b5ff-e7cf24abe6f7 button');\n",
              "      quickchartButtonEl.style.display =\n",
              "        google.colab.kernel.accessAllowed ? 'block' : 'none';\n",
              "    })();\n",
              "  </script>\n",
              "</div>\n",
              "\n",
              "    </div>\n",
              "  </div>\n"
            ],
            "application/vnd.google.colaboratory.intrinsic+json": {
              "type": "dataframe",
              "variable_name": "df",
              "summary": "{\n  \"name\": \"df\",\n  \"rows\": 11823,\n  \"fields\": [\n    {\n      \"column\": \"Q\",\n      \"properties\": {\n        \"dtype\": \"string\",\n        \"num_unique_values\": 11662,\n        \"samples\": [\n          \"\\uc0ac\\ub791\\ud558\\ub294 \\uc0ac\\ub78c \\uc78a\\ub294 \\ubc95\",\n          \"\\uc220 \\uc548 \\uba39\\uc73c\\uba74 \\uce5c\\uad6c\\ub791 \\ubb50\\ud558\\uc9c0\",\n          \"\\uc9dd\\ub0a8\\uc774 \\uace0\\uc2dc\\uc0dd\\uc774\\uba74 \\uae30\\ub2e4\\ub824\\uc57c \\ud558\\ub098\\uc694?\"\n        ],\n        \"semantic_type\": \"\",\n        \"description\": \"\"\n      }\n    },\n    {\n      \"column\": \"A\",\n      \"properties\": {\n        \"dtype\": \"string\",\n        \"num_unique_values\": 7779,\n        \"samples\": [\n          \"\\uc720\\uba38\\ucf54\\ub4dc\\uac00 \\ub9de\\ub294 \\uc0ac\\ub78c\\uc744 \\ucc3e\\uc544\\ubcf4\\uc138\\uc694.\",\n          \"\\uc5ec\\ud589\\uc744 \\ub5a0\\ub098 \\ubcf4\\uc138\\uc694.\",\n          \"\\ud589\\ubcf5\\ud560 \\uac70\\ub77c \\uc0dd\\uac01\\ud574\\uc694.\"\n        ],\n        \"semantic_type\": \"\",\n        \"description\": \"\"\n      }\n    },\n    {\n      \"column\": \"label\",\n      \"properties\": {\n        \"dtype\": \"number\",\n        \"std\": 0,\n        \"min\": 0,\n        \"max\": 2,\n        \"num_unique_values\": 3,\n        \"samples\": [\n          0,\n          1,\n          2\n        ],\n        \"semantic_type\": \"\",\n        \"description\": \"\"\n      }\n    }\n  ]\n}"
            }
          },
          "metadata": {},
          "execution_count": 5
        }
      ],
      "source": [
        "df = pd.read_csv('https://raw.github.com/ironmanciti/Infran_NLP/master/data/ChatbotData.csv')\n",
        "df.head()"
      ]
    },
    {
      "cell_type": "code",
      "execution_count": null,
      "metadata": {
        "colab": {
          "base_uri": "https://localhost:8080/"
        },
        "id": "Ggjm3RYylsgT",
        "outputId": "7df3fdb5-27e1-4d64-a9f4-81afa0cf5203"
      },
      "outputs": [
        {
          "output_type": "stream",
          "name": "stdout",
          "text": [
            "<class 'pandas.core.frame.DataFrame'>\n",
            "RangeIndex: 11823 entries, 0 to 11822\n",
            "Data columns (total 3 columns):\n",
            " #   Column  Non-Null Count  Dtype \n",
            "---  ------  --------------  ----- \n",
            " 0   Q       11823 non-null  object\n",
            " 1   A       11823 non-null  object\n",
            " 2   label   11823 non-null  int64 \n",
            "dtypes: int64(1), object(2)\n",
            "memory usage: 277.2+ KB\n"
          ]
        }
      ],
      "source": [
        "df.info()"
      ]
    },
    {
      "cell_type": "markdown",
      "metadata": {
        "id": "tJ73w68NKG6A"
      },
      "source": [
        "Data 확인"
      ]
    },
    {
      "cell_type": "code",
      "execution_count": null,
      "metadata": {
        "colab": {
          "base_uri": "https://localhost:8080/"
        },
        "id": "nXpwdBi2lsgW",
        "outputId": "85acb701-1845-47da-df77-8c9168c94aa3"
      },
      "outputs": [
        {
          "output_type": "execute_result",
          "data": {
            "text/plain": [
              "array([['12시 땡!', '하루가 또 가네요.'],\n",
              "       ['1지망 학교 떨어졌어', '위로해 드립니다.'],\n",
              "       ['3박4일 놀러가고 싶다', '여행은 언제나 좋죠.'],\n",
              "       ...,\n",
              "       ['흑기사 해주는 짝남.', '설렜겠어요.'],\n",
              "       ['힘든 연애 좋은 연애라는게 무슨 차이일까?', '잘 헤어질 수 있는 사이 여부인 거 같아요.'],\n",
              "       ['힘들어서 결혼할까봐', '도피성 결혼은 하지 않길 바라요.']], dtype=object)"
            ]
          },
          "metadata": {},
          "execution_count": 6
        }
      ],
      "source": [
        "df.iloc[:, [0, 1]].values"
      ]
    },
    {
      "cell_type": "markdown",
      "metadata": {
        "id": "VgosYfxgKKaw"
      },
      "source": [
        "Train 용 Question, Answer data 작성"
      ]
    },
    {
      "cell_type": "code",
      "execution_count": null,
      "metadata": {
        "colab": {
          "base_uri": "https://localhost:8080/"
        },
        "id": "w_w_4kr8762q",
        "outputId": "127a62b8-1e20-4ee0-967a-c087dbe841c3"
      },
      "outputs": [
        {
          "output_type": "stream",
          "name": "stdout",
          "text": [
            "23646 11823 11823\n",
            "Question :\n",
            "['12시 땡!', '1지망 학교 떨어졌어', '3박4일 놀러가고 싶다', '3박4일 정도 놀러가고 싶다', 'PPL 심하네']\n",
            "Answer :\n",
            "['하루가 또 가네요.', '위로해 드립니다.', '여행은 언제나 좋죠.', '여행은 언제나 좋죠.', '눈살이 찌푸려지죠.']\n"
          ]
        }
      ],
      "source": [
        "All_texts = []    # sentencepiece tokenizer 학습에 사용\n",
        "Q_texts = []        # Encoder 입력에 사용\n",
        "A_texts = []        # Decoder 입력에 사용\n",
        "\n",
        "for Q, A in df.iloc[:, [0, 1]].values:\n",
        "    Q_texts.append(Q)\n",
        "    A_texts.append(A)\n",
        "\n",
        "All_texts = Q_texts + A_texts\n",
        "\n",
        "print(len(All_texts), len(Q_texts), len(A_texts))\n",
        "print(\"Question :\")\n",
        "print(Q_texts[:5])\n",
        "print(\"Answer :\")\n",
        "print(A_texts[:5])"
      ]
    },
    {
      "cell_type": "markdown",
      "metadata": {
        "id": "aiHERa4SKS9l"
      },
      "source": [
        "## Sentencepiece Tokenizer 학습을 위한 text file 생성"
      ]
    },
    {
      "cell_type": "code",
      "execution_count": null,
      "metadata": {
        "id": "XJEFbpPv8u3O"
      },
      "outputs": [],
      "source": [
        "with open('chatbot_qna.txt', 'w', encoding='utf-8') as f:\n",
        "    for line in All_texts:\n",
        "        f.write(line + '\\n')"
      ]
    },
    {
      "cell_type": "code",
      "execution_count": null,
      "metadata": {
        "id": "Ne2P_xEB81cf"
      },
      "outputs": [],
      "source": [
        "input_file = 'chatbot_qna.txt'\n",
        "pad_id = 0             #<pad> token을 0으로 설정\n",
        "vocab_size = 5000      # vocab 사이즈\n",
        "prefix = 'chatbot_qna' # 저장될 tokenizer 모델에 붙는 이름\n",
        "bos_id=1               #<s> token을 1으로 설정\n",
        "eos_id=2               #</s> token을 2으로 설정\n",
        "unk_id=3               #<unknown> token을 3으로 설정\n",
        "\n",
        "cmd = f'--input={input_file} \\\n",
        "--pad_id={pad_id} \\\n",
        "--bos_id={bos_id} \\\n",
        "--eos_id={eos_id} \\\n",
        "--unk_id={unk_id} \\\n",
        "--model_prefix={prefix} \\\n",
        "--vocab_size={vocab_size}'\n",
        "\n",
        "spm.SentencePieceTrainer.Train(cmd)"
      ]
    },
    {
      "cell_type": "markdown",
      "metadata": {
        "id": "ZC_GKVRAKezw"
      },
      "source": [
        "학습 완료된 sentencepiece tokenizer Load"
      ]
    },
    {
      "cell_type": "code",
      "execution_count": null,
      "metadata": {
        "colab": {
          "base_uri": "https://localhost:8080/"
        },
        "id": "eeSxYOD581J0",
        "outputId": "52c21232-16ca-4e4a-9f60-a1191e9cc31c"
      },
      "outputs": [
        {
          "output_type": "execute_result",
          "data": {
            "text/plain": [
              "True"
            ]
          },
          "metadata": {},
          "execution_count": 10
        }
      ],
      "source": [
        "sp = spm.SentencePieceProcessor()\n",
        "sp.Load(f'{prefix}.model')"
      ]
    },
    {
      "cell_type": "code",
      "execution_count": null,
      "metadata": {
        "colab": {
          "base_uri": "https://localhost:8080/",
          "height": 36
        },
        "id": "ZDtQbg5KNo9q",
        "outputId": "c142e546-9f16-4209-a414-cc066150b9ef"
      },
      "outputs": [
        {
          "output_type": "execute_result",
          "data": {
            "text/plain": [
              "'운 나한테이 될고.'"
            ],
            "application/vnd.google.colaboratory.intrinsic+json": {
              "type": "string"
            }
          },
          "metadata": {},
          "execution_count": 11
        }
      ],
      "source": [
        "sp.DecodeIds([170, 367, 10, 129, 16, 4])"
      ]
    },
    {
      "cell_type": "markdown",
      "metadata": {
        "id": "-kw7Kp-nKujU"
      },
      "source": [
        "- Tokenize하기 전에 데이터 자체에 `<s>, </s>`를 넣어줘도 되지만, 패키지 자체에서 알아서 해주는 옵션(sp.SetEncodeExtraOptions)이 있습니다.\n",
        "\n",
        "- `sp.SetEncodeExtraOptions('bos:eos')` : 문장 양 끝에 `<s> , </s>` 추가"
      ]
    },
    {
      "cell_type": "code",
      "execution_count": null,
      "metadata": {
        "colab": {
          "base_uri": "https://localhost:8080/"
        },
        "id": "Wj0q49DV9l4N",
        "outputId": "db02e9ae-fc92-46c1-8816-6eec72992847"
      },
      "outputs": [
        {
          "output_type": "stream",
          "name": "stdout",
          "text": [
            "['<s>', '▁아', '버', '지', '가', '▁방', '에', '▁들어가', '신', '다']\n",
            "[1, 232, 2112, 14, 7, 1467, 31, 1665, 455, 57]\n",
            "아버지가 방에 들어가신다\n",
            "아버지가 방에 들어가신다\n"
          ]
        }
      ],
      "source": [
        "sp.SetEncodeExtraOptions('bos:')   # 문장 처음에 <s>추가 --> Decoder Input에 사용\n",
        "pieces = sp.encode_as_pieces('아버지가 방에 들어가신다')\n",
        "print(pieces)\n",
        "ids = sp.encode_as_ids('아버지가 방에 들어가신다')\n",
        "print(ids)\n",
        "print(sp.DecodePieces(pieces))\n",
        "print(sp.DecodeIds(ids))"
      ]
    },
    {
      "cell_type": "code",
      "execution_count": null,
      "metadata": {
        "colab": {
          "base_uri": "https://localhost:8080/"
        },
        "id": "wzCMLJFP9ii_",
        "outputId": "84c0719d-bdc6-4c0a-90b8-3bda1be8274e"
      },
      "outputs": [
        {
          "output_type": "stream",
          "name": "stdout",
          "text": [
            "['▁아', '버', '지', '가', '▁방', '에', '▁들어가', '신', '다', '</s>']\n",
            "[232, 2112, 14, 7, 1467, 31, 1665, 455, 57, 2]\n",
            "아버지가 방에 들어가신다\n",
            "아버지가 방에 들어가신다\n"
          ]
        }
      ],
      "source": [
        "sp.SetEncodeExtraOptions(':eos')     # 문장 끝에 </s>추가  --> Decoder target에 사용\n",
        "pieces = sp.encode_as_pieces('아버지가 방에 들어가신다')\n",
        "print(pieces)\n",
        "ids = sp.encode_as_ids('아버지가 방에 들어가신다')\n",
        "print(ids)\n",
        "print(sp.DecodePieces(pieces))\n",
        "print(sp.DecodeIds(ids))"
      ]
    },
    {
      "cell_type": "markdown",
      "metadata": {
        "id": "D2HI74wRLpfB"
      },
      "source": [
        "### Question sequence 작성"
      ]
    },
    {
      "cell_type": "code",
      "execution_count": null,
      "metadata": {
        "colab": {
          "base_uri": "https://localhost:8080/"
        },
        "id": "42VM1rBZF-74",
        "outputId": "7e8a1330-37b9-480d-816a-6ca484f4f307"
      },
      "outputs": [
        {
          "output_type": "stream",
          "name": "stdout",
          "text": [
            "[[4228, 299, 5, 4826, 72, 2], [291, 14, 933, 674, 1735, 2], [277, 1280, 2810, 76, 2964, 94, 2], [277, 1280, 2810, 76, 667, 2964, 94, 2], [5, 4549, 4549, 3, 1395, 64, 2]]\n"
          ]
        }
      ],
      "source": [
        "Q_sequences = [sp.encode_as_ids(sent) for sent in Q_texts]\n",
        "\n",
        "print(Q_sequences[:5])"
      ]
    },
    {
      "cell_type": "markdown",
      "metadata": {
        "id": "YAwXDJshLtzl"
      },
      "source": [
        "### Answer sequence input 작성"
      ]
    },
    {
      "cell_type": "code",
      "execution_count": null,
      "metadata": {
        "colab": {
          "base_uri": "https://localhost:8080/"
        },
        "id": "h_hAyKJ_9iZO",
        "outputId": "05915ba1-60e8-43c2-9dcd-cee35579db38"
      },
      "outputs": [
        {
          "output_type": "stream",
          "name": "stdout",
          "text": [
            "[[1, 282, 7, 113, 82, 23, 4], [1, 1459, 5, 3717, 4], [1, 293, 15, 385, 39, 207, 4], [1, 293, 15, 385, 39, 207, 4], [1, 208, 970, 10, 2434, 3090, 173, 14, 40, 4]]\n"
          ]
        }
      ],
      "source": [
        "sp.SetEncodeExtraOptions('bos:')  # 1로 시작\n",
        "A_sequences_inputs = [sp.encode_as_ids(sent) for sent in A_texts]\n",
        "\n",
        "print(A_sequences_inputs[:5])"
      ]
    },
    {
      "cell_type": "markdown",
      "metadata": {
        "id": "1myPZRUrLyYH"
      },
      "source": [
        "### Answer sequence target 작성"
      ]
    },
    {
      "cell_type": "code",
      "execution_count": null,
      "metadata": {
        "colab": {
          "base_uri": "https://localhost:8080/"
        },
        "id": "QfjAYbV2-XJY",
        "outputId": "192efa4a-1ee5-4d8e-ff6e-6a0e1d87bbc2"
      },
      "outputs": [
        {
          "output_type": "stream",
          "name": "stdout",
          "text": [
            "[[282, 7, 113, 82, 23, 4, 2], [1459, 5, 3717, 4, 2], [293, 15, 385, 39, 207, 4, 2], [293, 15, 385, 39, 207, 4, 2], [208, 970, 10, 2434, 3090, 173, 14, 40, 4, 2]]\n"
          ]
        }
      ],
      "source": [
        "sp.SetEncodeExtraOptions(':eos')  # 2로 종료\n",
        "A_sequences_targets = [sp.encode_as_ids(sent) for sent in A_texts]\n",
        "\n",
        "print(A_sequences_targets[:5])"
      ]
    },
    {
      "cell_type": "markdown",
      "metadata": {
        "id": "sxq0lWFpL18P"
      },
      "source": [
        "input text의  max length 지정"
      ]
    },
    {
      "cell_type": "code",
      "execution_count": null,
      "metadata": {
        "colab": {
          "base_uri": "https://localhost:8080/",
          "height": 472
        },
        "id": "yTaMsc5Pv-3S",
        "outputId": "bb61c62d-b821-4a37-eeda-6cae4679a02d"
      },
      "outputs": [
        {
          "output_type": "stream",
          "name": "stdout",
          "text": [
            "Target Text 의 최대 길이 : 56\n",
            "Target Text 의 최대 길이 : 76\n"
          ]
        },
        {
          "output_type": "display_data",
          "data": {
            "text/plain": [
              "<Figure size 640x480 with 1 Axes>"
            ],
            "image/png": "[encoded data removed]"
          },
          "metadata": {}
        }
      ],
      "source": [
        "max_len_Q = max(len(s) for s in Q_texts)\n",
        "print(\"Target Text 의 최대 길이 :\", max_len_Q)\n",
        "\n",
        "max_len_A = max(len(s) for s in A_texts)\n",
        "print(\"Target Text 의 최대 길이 :\", max_len_A)\n",
        "\n",
        "plt.hist([len(s) for s in All_texts]);"
      ]
    },
    {
      "cell_type": "markdown",
      "metadata": {
        "id": "ztI6kZL1y6Tv"
      },
      "source": [
        "Input sequence 의 최대 길이는 30 으로 정한다."
      ]
    },
    {
      "cell_type": "code",
      "execution_count": null,
      "metadata": {
        "id": "y9Sv3xkLFkfp"
      },
      "outputs": [],
      "source": [
        "MAX_LEN = 30"
      ]
    },
    {
      "cell_type": "markdown",
      "metadata": {
        "id": "V1oBupk4lsgp"
      },
      "source": [
        "## sequence padding\n",
        "\n",
        "\n",
        "#### 주의 사항\n",
        "- encoder 는 thought vector 생성 목적이므로 default (pre) 로 padding\n",
        "\n",
        "- decoder 는 teacher forcing 을 해야하므로 post 로 padding"
      ]
    },
    {
      "cell_type": "code",
      "execution_count": null,
      "metadata": {
        "colab": {
          "base_uri": "https://localhost:8080/"
        },
        "id": "WjJudFz1x1_F",
        "outputId": "c0a80fe8-569f-4a98-81be-fb046b1c1490"
      },
      "outputs": [
        {
          "output_type": "stream",
          "name": "stdout",
          "text": [
            "encoder input shape : (11823, 30)\n",
            "encoder_inputs[0] :  [   0    0    0    0    0    0    0    0    0    0    0    0    0    0\n",
            "    0    0    0    0    0    0    0    0    0    0    0  162 1680  318\n",
            " 2391    2]\n",
            "\n",
            "decoder input shape : (11823, 30)\n",
            "decoder_inputs[0] :  [   1 1145   33 3040   45    4    0    0    0    0    0    0    0    0\n",
            "    0    0    0    0    0    0    0    0    0    0    0    0    0    0\n",
            "    0    0]\n",
            "\n",
            "encoder target shape : (11823, 30)\n",
            "encoder_targets[0] :  [1145   33 3040   45    4    2    0    0    0    0    0    0    0    0\n",
            "    0    0    0    0    0    0    0    0    0    0    0    0    0    0\n",
            "    0    0]\n"
          ]
        }
      ],
      "source": [
        "encoder_inputs = pad_sequences(Q_sequences, maxlen=MAX_LEN)\n",
        "print(\"encoder input shape :\", encoder_inputs.shape)\n",
        "print(\"encoder_inputs[0] : \", encoder_inputs[1500])\n",
        "\n",
        "decoder_inputs = pad_sequences(A_sequences_inputs,\n",
        "                               maxlen=MAX_LEN, padding=\"post\")\n",
        "print(\"\\ndecoder input shape :\", decoder_inputs.shape)\n",
        "print(\"decoder_inputs[0] : \", decoder_inputs[1500])\n",
        "\n",
        "decoder_targets = pad_sequences(A_sequences_targets,\n",
        "                                maxlen=MAX_LEN, padding=\"post\")\n",
        "print(\"\\nencoder target shape :\", decoder_targets.shape)\n",
        "print(\"encoder_targets[0] : \", decoder_targets[1500])"
      ]
    },
    {
      "cell_type": "markdown",
      "metadata": {
        "id": "8s4EfHwOlsgu"
      },
      "source": [
        "## Build the model\n",
        "\n",
        "- encoder 와 decoder 의 embedding, lstm 및 dense layer 를 training 할 목적의 model 작성  \n",
        "\n",
        "- encoder 는 decoder 에 states [h, c] 만 전달\n",
        "\n",
        "- prediction 을 위한 inference model 은 training model 에서 만들어진 layer 들의 weight 를 이용하여 별도 작성  \n",
        "\n",
        "### Training : Encoder + Teacher Forcing model"
      ]
    },
    {
      "cell_type": "code",
      "execution_count": null,
      "metadata": {
        "colab": {
          "base_uri": "https://localhost:8080/"
        },
        "id": "b1IC63sLMtFk",
        "outputId": "90158b29-1b1f-4849-9261-5267bdf99d0f"
      },
      "outputs": [
        {
          "output_type": "stream",
          "name": "stdout",
          "text": [
            "Model: \"model\"\n",
            "_________________________________________________________________\n",
            " Layer (type)                Output Shape              Param #   \n",
            "=================================================================\n",
            " Encoder_Input (InputLayer)  [(None, 30)]              0         \n",
            "                                                                 \n",
            " embedding (Embedding)       (None, 30, 100)           500100    \n",
            "                                                                 \n",
            " lstm (LSTM)                 [(None, 128),             117248    \n",
            "                              (None, 128),                       \n",
            "                              (None, 128)]                       \n",
            "                                                                 \n",
            "=================================================================\n",
            "Total params: 617348 (2.35 MB)\n",
            "Trainable params: 617348 (2.35 MB)\n",
            "Non-trainable params: 0 (0.00 Byte)\n",
            "_________________________________________________________________\n"
          ]
        }
      ],
      "source": [
        "#### Encoder\n",
        "encoder_inputs_ = Input(shape=(MAX_LEN,), name='Encoder_Input')\n",
        "# encoder 의 embedding layer\n",
        "embedding_encoder = Embedding(vocab_size + 1, EMBEDDING_DIM)\n",
        "x = embedding_encoder(encoder_inputs_)\n",
        "\n",
        "encoder_outputs, h, c = LSTM(LATENT_DIM, return_state=True)(x)\n",
        "# encoder 는 hidden state and cell state 만 decoder 로 전달\n",
        "encoder_states = [h, c]  # --> thought vector\n",
        "\n",
        "encoder_model = Model(encoder_inputs_, encoder_states)\n",
        "encoder_model.summary()"
      ]
    },
    {
      "cell_type": "markdown",
      "metadata": {
        "id": "ep04zyIVNTn4"
      },
      "source": [
        "### Decoder model for Teacher Forcing\n",
        "- Training stage에서만 사용"
      ]
    },
    {
      "cell_type": "code",
      "execution_count": null,
      "metadata": {
        "colab": {
          "base_uri": "https://localhost:8080/"
        },
        "id": "IjALbWe-z0hx",
        "outputId": "9ecd6930-3a02-4971-fc34-b354fa11bdc2"
      },
      "outputs": [
        {
          "output_type": "stream",
          "name": "stdout",
          "text": [
            "Model: \"model_1\"\n",
            "__________________________________________________________________________________________________\n",
            " Layer (type)                Output Shape                 Param #   Connected to                  \n",
            "==================================================================================================\n",
            " Encoder_Input (InputLayer)  [(None, 30)]                 0         []                            \n",
            "                                                                                                  \n",
            " Decoder_Input (InputLayer)  [(None, 30)]                 0         []                            \n",
            "                                                                                                  \n",
            " embedding (Embedding)       (None, 30, 100)              500100    ['Encoder_Input[0][0]']       \n",
            "                                                                                                  \n",
            " embedding_1 (Embedding)     (None, 30, 100)              500100    ['Decoder_Input[0][0]']       \n",
            "                                                                                                  \n",
            " lstm (LSTM)                 [(None, 128),                117248    ['embedding[0][0]']           \n",
            "                              (None, 128),                                                        \n",
            "                              (None, 128)]                                                        \n",
            "                                                                                                  \n",
            " lstm_1 (LSTM)               [(None, 30, 128),            117248    ['embedding_1[0][0]',         \n",
            "                              (None, 128),                           'lstm[0][1]',                \n",
            "                              (None, 128)]                           'lstm[0][2]']                \n",
            "                                                                                                  \n",
            " Decoder_Output (Dense)      (None, 30, 5000)             645000    ['lstm_1[0][0]']              \n",
            "                                                                                                  \n",
            "==================================================================================================\n",
            "Total params: 1879696 (7.17 MB)\n",
            "Trainable params: 1879696 (7.17 MB)\n",
            "Non-trainable params: 0 (0.00 Byte)\n",
            "__________________________________________________________________________________________________\n"
          ]
        }
      ],
      "source": [
        "# decoder 는 [h, c] 를 initial state 로 사용\n",
        "decoder_inputs_ = Input(shape=(MAX_LEN,), name='Decoder_Input')\n",
        "\n",
        "# decoder 의 embedding layer\n",
        "embedding_decoder = Embedding(vocab_size + 1, EMBEDDING_DIM)\n",
        "x = embedding_decoder(decoder_inputs_)\n",
        "\n",
        "decoder_lstm = LSTM(LATENT_DIM, return_sequences=True, return_state=True)\n",
        "# initial state = encoder [h, c]\n",
        "decoder_outputs, _, _ = decoder_lstm(x, initial_state=encoder_states)\n",
        "\n",
        "# final dense layer\n",
        "decoder_dense = Dense(vocab_size, activation='softmax', name='Decoder_Output')\n",
        "decoder_outputs = decoder_dense(decoder_outputs)\n",
        "\n",
        "# Teacher-forceing model  생성\n",
        "model_teacher_forcing = Model([encoder_inputs_, decoder_inputs_], decoder_outputs)\n",
        "\n",
        "#Compile the model and train it\n",
        "model_teacher_forcing.compile(optimizer=tf.keras.optimizers.Adam(learning_rate=0.001), loss='sparse_categorical_crossentropy',\n",
        "    metrics=['accuracy'])\n",
        "\n",
        "model_teacher_forcing.summary()"
      ]
    },
    {
      "cell_type": "code",
      "execution_count": null,
      "metadata": {
        "colab": {
          "base_uri": "https://localhost:8080/",
          "height": 533
        },
        "id": "dzCp_kCYz0Hk",
        "outputId": "5185feb8-c603-4c56-ebe8-81707ffed433"
      },
      "outputs": [
        {
          "output_type": "execute_result",
          "data": {
            "image/png": "[encoded data removed]",
            "text/plain": [
              "<IPython.core.display.Image object>"
            ]
          },
          "metadata": {},
          "execution_count": 22
        }
      ],
      "source": [
        "plot_model(model_teacher_forcing, show_shapes=True)"
      ]
    },
    {
      "cell_type": "markdown",
      "metadata": {
        "id": "U_m-UDAF5_BC"
      },
      "source": [
        "### Train the model"
      ]
    },
    {
      "cell_type": "code",
      "execution_count": null,
      "metadata": {
        "colab": {
          "base_uri": "https://localhost:8080/"
        },
        "id": "HT4uZpNxlsgw",
        "outputId": "cf689860-af68-4626-d75b-99e7e4482da5"
      },
      "outputs": [
        {
          "output_type": "stream",
          "name": "stdout",
          "text": [
            "Epoch 1/300\n",
            "148/148 [==============================] - 32s 160ms/step - loss: 2.6688 - accuracy: 0.7340 - val_loss: 1.9858 - val_accuracy: 0.7051\n",
            "Epoch 2/300\n",
            "148/148 [==============================] - 6s 40ms/step - loss: 1.5014 - accuracy: 0.7844 - val_loss: 1.7748 - val_accuracy: 0.7593\n",
            "Epoch 3/300\n",
            "148/148 [==============================] - 4s 29ms/step - loss: 1.3837 - accuracy: 0.8023 - val_loss: 1.6978 - val_accuracy: 0.7624\n",
            "Epoch 4/300\n",
            "148/148 [==============================] - 4s 25ms/step - loss: 1.3259 - accuracy: 0.8056 - val_loss: 1.6605 - val_accuracy: 0.7667\n",
            "Epoch 5/300\n",
            "148/148 [==============================] - 5s 31ms/step - loss: 1.2886 - accuracy: 0.8095 - val_loss: 1.6422 - val_accuracy: 0.7689\n",
            "Epoch 6/300\n",
            "148/148 [==============================] - 4s 28ms/step - loss: 1.2585 - accuracy: 0.8119 - val_loss: 1.6244 - val_accuracy: 0.7703\n",
            "Epoch 7/300\n",
            "148/148 [==============================] - 4s 24ms/step - loss: 1.2319 - accuracy: 0.8139 - val_loss: 1.6092 - val_accuracy: 0.7727\n",
            "Epoch 8/300\n",
            "148/148 [==============================] - 3s 21ms/step - loss: 1.2069 - accuracy: 0.8163 - val_loss: 1.5938 - val_accuracy: 0.7746\n",
            "Epoch 9/300\n",
            "148/148 [==============================] - 4s 24ms/step - loss: 1.1818 - accuracy: 0.8184 - val_loss: 1.5782 - val_accuracy: 0.7765\n",
            "Epoch 10/300\n",
            "148/148 [==============================] - 3s 22ms/step - loss: 1.1546 - accuracy: 0.8203 - val_loss: 1.5651 - val_accuracy: 0.7792\n",
            "Epoch 11/300\n",
            "148/148 [==============================] - 3s 19ms/step - loss: 1.1268 - accuracy: 0.8236 - val_loss: 1.5477 - val_accuracy: 0.7816\n",
            "Epoch 12/300\n",
            "148/148 [==============================] - 3s 19ms/step - loss: 1.0985 - accuracy: 0.8276 - val_loss: 1.5336 - val_accuracy: 0.7853\n",
            "Epoch 13/300\n",
            "148/148 [==============================] - 3s 22ms/step - loss: 1.0710 - accuracy: 0.8316 - val_loss: 1.5249 - val_accuracy: 0.7870\n",
            "Epoch 14/300\n",
            "148/148 [==============================] - 3s 22ms/step - loss: 1.0447 - accuracy: 0.8347 - val_loss: 1.5118 - val_accuracy: 0.7885\n",
            "Epoch 15/300\n",
            "148/148 [==============================] - 3s 22ms/step - loss: 1.0192 - accuracy: 0.8375 - val_loss: 1.5049 - val_accuracy: 0.7899\n",
            "Epoch 16/300\n",
            "148/148 [==============================] - 3s 20ms/step - loss: 0.9940 - accuracy: 0.8405 - val_loss: 1.4976 - val_accuracy: 0.7903\n",
            "Epoch 17/300\n",
            "148/148 [==============================] - 3s 23ms/step - loss: 0.9696 - accuracy: 0.8427 - val_loss: 1.4927 - val_accuracy: 0.7914\n",
            "Epoch 18/300\n",
            "148/148 [==============================] - 3s 19ms/step - loss: 0.9464 - accuracy: 0.8451 - val_loss: 1.4869 - val_accuracy: 0.7923\n",
            "Epoch 19/300\n",
            "148/148 [==============================] - 3s 23ms/step - loss: 0.9234 - accuracy: 0.8476 - val_loss: 1.4833 - val_accuracy: 0.7928\n",
            "Epoch 20/300\n",
            "148/148 [==============================] - 3s 19ms/step - loss: 0.9013 - accuracy: 0.8501 - val_loss: 1.4821 - val_accuracy: 0.7936\n",
            "Epoch 21/300\n",
            "148/148 [==============================] - 4s 24ms/step - loss: 0.8800 - accuracy: 0.8523 - val_loss: 1.4815 - val_accuracy: 0.7940\n",
            "Epoch 22/300\n",
            "148/148 [==============================] - 3s 19ms/step - loss: 0.8592 - accuracy: 0.8547 - val_loss: 1.4832 - val_accuracy: 0.7946\n",
            "Epoch 23/300\n",
            "148/148 [==============================] - 3s 19ms/step - loss: 0.8393 - accuracy: 0.8570 - val_loss: 1.4812 - val_accuracy: 0.7953\n",
            "Epoch 24/300\n",
            "148/148 [==============================] - 3s 19ms/step - loss: 0.8199 - accuracy: 0.8592 - val_loss: 1.4844 - val_accuracy: 0.7954\n",
            "Epoch 25/300\n",
            "148/148 [==============================] - 4s 24ms/step - loss: 0.8016 - accuracy: 0.8613 - val_loss: 1.4865 - val_accuracy: 0.7960\n",
            "Epoch 26/300\n",
            "148/148 [==============================] - 3s 19ms/step - loss: 0.7832 - accuracy: 0.8635 - val_loss: 1.4923 - val_accuracy: 0.7957\n",
            "Epoch 27/300\n",
            "148/148 [==============================] - 3s 20ms/step - loss: 0.7655 - accuracy: 0.8659 - val_loss: 1.4998 - val_accuracy: 0.7957\n",
            "Epoch 28/300\n",
            "148/148 [==============================] - 3s 19ms/step - loss: 0.7483 - accuracy: 0.8684 - val_loss: 1.5023 - val_accuracy: 0.7960\n",
            "Epoch 29/300\n",
            "148/148 [==============================] - 3s 21ms/step - loss: 0.7315 - accuracy: 0.8706 - val_loss: 1.5084 - val_accuracy: 0.7962\n",
            "Epoch 30/300\n",
            "148/148 [==============================] - 3s 21ms/step - loss: 0.7154 - accuracy: 0.8727 - val_loss: 1.5162 - val_accuracy: 0.7957\n",
            "Epoch 31/300\n",
            "148/148 [==============================] - 3s 19ms/step - loss: 0.6992 - accuracy: 0.8752 - val_loss: 1.5203 - val_accuracy: 0.7959\n",
            "Epoch 32/300\n",
            "148/148 [==============================] - 3s 20ms/step - loss: 0.6839 - accuracy: 0.8778 - val_loss: 1.5262 - val_accuracy: 0.7961\n",
            "Epoch 33/300\n",
            "148/148 [==============================] - 3s 22ms/step - loss: 0.6687 - accuracy: 0.8799 - val_loss: 1.5344 - val_accuracy: 0.7960\n",
            "Epoch 34/300\n",
            "148/148 [==============================] - 3s 20ms/step - loss: 0.6539 - accuracy: 0.8826 - val_loss: 1.5427 - val_accuracy: 0.7962\n",
            "Epoch 35/300\n",
            "148/148 [==============================] - 3s 19ms/step - loss: 0.6395 - accuracy: 0.8849 - val_loss: 1.5462 - val_accuracy: 0.7963\n",
            "Epoch 36/300\n",
            "148/148 [==============================] - 3s 19ms/step - loss: 0.6252 - accuracy: 0.8872 - val_loss: 1.5571 - val_accuracy: 0.7958\n",
            "Epoch 37/300\n",
            "148/148 [==============================] - 3s 19ms/step - loss: 0.6114 - accuracy: 0.8894 - val_loss: 1.5644 - val_accuracy: 0.7958\n",
            "Epoch 38/300\n",
            "148/148 [==============================] - 3s 23ms/step - loss: 0.5978 - accuracy: 0.8919 - val_loss: 1.5742 - val_accuracy: 0.7952\n",
            "Epoch 39/300\n",
            "148/148 [==============================] - 3s 19ms/step - loss: 0.5846 - accuracy: 0.8939 - val_loss: 1.5818 - val_accuracy: 0.7958\n",
            "Epoch 40/300\n",
            "148/148 [==============================] - 3s 20ms/step - loss: 0.5716 - accuracy: 0.8959 - val_loss: 1.5922 - val_accuracy: 0.7954\n",
            "Epoch 41/300\n",
            "148/148 [==============================] - 3s 20ms/step - loss: 0.5588 - accuracy: 0.8981 - val_loss: 1.6016 - val_accuracy: 0.7960\n",
            "Epoch 42/300\n",
            "148/148 [==============================] - 4s 24ms/step - loss: 0.5460 - accuracy: 0.9005 - val_loss: 1.6117 - val_accuracy: 0.7952\n",
            "Epoch 43/300\n",
            "148/148 [==============================] - 3s 19ms/step - loss: 0.5337 - accuracy: 0.9027 - val_loss: 1.6219 - val_accuracy: 0.7952\n",
            "Epoch 44/300\n",
            "148/148 [==============================] - 3s 19ms/step - loss: 0.5218 - accuracy: 0.9047 - val_loss: 1.6329 - val_accuracy: 0.7949\n",
            "Epoch 45/300\n",
            "148/148 [==============================] - 3s 23ms/step - loss: 0.5098 - accuracy: 0.9067 - val_loss: 1.6441 - val_accuracy: 0.7953\n",
            "Epoch 46/300\n",
            "148/148 [==============================] - 3s 23ms/step - loss: 0.4981 - accuracy: 0.9087 - val_loss: 1.6551 - val_accuracy: 0.7949\n",
            "Epoch 47/300\n",
            "148/148 [==============================] - 3s 19ms/step - loss: 0.4866 - accuracy: 0.9109 - val_loss: 1.6663 - val_accuracy: 0.7946\n",
            "Epoch 48/300\n",
            "148/148 [==============================] - 3s 20ms/step - loss: 0.4753 - accuracy: 0.9127 - val_loss: 1.6782 - val_accuracy: 0.7950\n",
            "Epoch 49/300\n",
            "148/148 [==============================] - 3s 20ms/step - loss: 0.4645 - accuracy: 0.9144 - val_loss: 1.6936 - val_accuracy: 0.7945\n",
            "Epoch 50/300\n",
            "148/148 [==============================] - 3s 22ms/step - loss: 0.4538 - accuracy: 0.9164 - val_loss: 1.7039 - val_accuracy: 0.7946\n",
            "Epoch 51/300\n",
            "148/148 [==============================] - 3s 21ms/step - loss: 0.4435 - accuracy: 0.9183 - val_loss: 1.7177 - val_accuracy: 0.7943\n",
            "Epoch 52/300\n",
            "148/148 [==============================] - 3s 19ms/step - loss: 0.4334 - accuracy: 0.9198 - val_loss: 1.7306 - val_accuracy: 0.7940\n",
            "Epoch 53/300\n",
            "148/148 [==============================] - 3s 19ms/step - loss: 0.4235 - accuracy: 0.9217 - val_loss: 1.7406 - val_accuracy: 0.7942\n",
            "Epoch 54/300\n",
            "148/148 [==============================] - 3s 22ms/step - loss: 0.4139 - accuracy: 0.9231 - val_loss: 1.7534 - val_accuracy: 0.7946\n",
            "Epoch 55/300\n",
            "148/148 [==============================] - 3s 20ms/step - loss: 0.4049 - accuracy: 0.9250 - val_loss: 1.7676 - val_accuracy: 0.7940\n",
            "Epoch 56/300\n",
            "148/148 [==============================] - 3s 19ms/step - loss: 0.3957 - accuracy: 0.9263 - val_loss: 1.7814 - val_accuracy: 0.7938\n",
            "Epoch 57/300\n",
            "148/148 [==============================] - 3s 19ms/step - loss: 0.3868 - accuracy: 0.9282 - val_loss: 1.7916 - val_accuracy: 0.7935\n",
            "Epoch 58/300\n",
            "148/148 [==============================] - 3s 20ms/step - loss: 0.3781 - accuracy: 0.9297 - val_loss: 1.8051 - val_accuracy: 0.7940\n",
            "Epoch 59/300\n",
            "148/148 [==============================] - 3s 22ms/step - loss: 0.3697 - accuracy: 0.9312 - val_loss: 1.8175 - val_accuracy: 0.7937\n",
            "Epoch 60/300\n",
            "148/148 [==============================] - 3s 19ms/step - loss: 0.3616 - accuracy: 0.9327 - val_loss: 1.8345 - val_accuracy: 0.7935\n",
            "Epoch 61/300\n",
            "148/148 [==============================] - 3s 19ms/step - loss: 0.3535 - accuracy: 0.9341 - val_loss: 1.8460 - val_accuracy: 0.7935\n",
            "Epoch 62/300\n",
            "148/148 [==============================] - 3s 23ms/step - loss: 0.3456 - accuracy: 0.9354 - val_loss: 1.8585 - val_accuracy: 0.7933\n",
            "Epoch 63/300\n",
            "148/148 [==============================] - 3s 20ms/step - loss: 0.3376 - accuracy: 0.9371 - val_loss: 1.8700 - val_accuracy: 0.7932\n",
            "Epoch 64/300\n",
            "148/148 [==============================] - 3s 20ms/step - loss: 0.3300 - accuracy: 0.9387 - val_loss: 1.8872 - val_accuracy: 0.7929\n",
            "Epoch 65/300\n",
            "148/148 [==============================] - 3s 19ms/step - loss: 0.3226 - accuracy: 0.9401 - val_loss: 1.8995 - val_accuracy: 0.7932\n",
            "Epoch 66/300\n",
            "148/148 [==============================] - 3s 21ms/step - loss: 0.3153 - accuracy: 0.9412 - val_loss: 1.9156 - val_accuracy: 0.7929\n",
            "Epoch 67/300\n",
            "148/148 [==============================] - 3s 21ms/step - loss: 0.3082 - accuracy: 0.9428 - val_loss: 1.9279 - val_accuracy: 0.7929\n",
            "Epoch 68/300\n",
            "148/148 [==============================] - 3s 19ms/step - loss: 0.3011 - accuracy: 0.9439 - val_loss: 1.9377 - val_accuracy: 0.7933\n",
            "Epoch 69/300\n",
            "148/148 [==============================] - 3s 20ms/step - loss: 0.2940 - accuracy: 0.9454 - val_loss: 1.9560 - val_accuracy: 0.7925\n",
            "Epoch 70/300\n",
            "148/148 [==============================] - 3s 19ms/step - loss: 0.2875 - accuracy: 0.9464 - val_loss: 1.9685 - val_accuracy: 0.7928\n",
            "Epoch 71/300\n",
            "148/148 [==============================] - 3s 22ms/step - loss: 0.2808 - accuracy: 0.9478 - val_loss: 1.9859 - val_accuracy: 0.7925\n",
            "Epoch 72/300\n",
            "148/148 [==============================] - 3s 21ms/step - loss: 0.2745 - accuracy: 0.9490 - val_loss: 1.9979 - val_accuracy: 0.7926\n",
            "Epoch 73/300\n",
            "148/148 [==============================] - 3s 19ms/step - loss: 0.2680 - accuracy: 0.9503 - val_loss: 2.0108 - val_accuracy: 0.7925\n",
            "Epoch 74/300\n",
            "148/148 [==============================] - 3s 22ms/step - loss: 0.2616 - accuracy: 0.9512 - val_loss: 2.0257 - val_accuracy: 0.7922\n",
            "Epoch 75/300\n",
            "148/148 [==============================] - 3s 21ms/step - loss: 0.2552 - accuracy: 0.9525 - val_loss: 2.0392 - val_accuracy: 0.7923\n",
            "Epoch 76/300\n",
            "148/148 [==============================] - 3s 20ms/step - loss: 0.2494 - accuracy: 0.9535 - val_loss: 2.0532 - val_accuracy: 0.7923\n",
            "Epoch 77/300\n",
            "148/148 [==============================] - 3s 19ms/step - loss: 0.2432 - accuracy: 0.9547 - val_loss: 2.0672 - val_accuracy: 0.7922\n",
            "Epoch 78/300\n",
            "148/148 [==============================] - 3s 19ms/step - loss: 0.2375 - accuracy: 0.9559 - val_loss: 2.0805 - val_accuracy: 0.7921\n",
            "Epoch 79/300\n",
            "148/148 [==============================] - 3s 21ms/step - loss: 0.2318 - accuracy: 0.9568 - val_loss: 2.0962 - val_accuracy: 0.7921\n",
            "Epoch 80/300\n",
            "148/148 [==============================] - 3s 19ms/step - loss: 0.2266 - accuracy: 0.9577 - val_loss: 2.1126 - val_accuracy: 0.7920\n",
            "Epoch 81/300\n",
            "148/148 [==============================] - 3s 19ms/step - loss: 0.2215 - accuracy: 0.9586 - val_loss: 2.1231 - val_accuracy: 0.7922\n",
            "Epoch 82/300\n",
            "148/148 [==============================] - 3s 19ms/step - loss: 0.2160 - accuracy: 0.9595 - val_loss: 2.1373 - val_accuracy: 0.7921\n",
            "Epoch 83/300\n",
            "148/148 [==============================] - 3s 21ms/step - loss: 0.2105 - accuracy: 0.9608 - val_loss: 2.1519 - val_accuracy: 0.7917\n",
            "Epoch 84/300\n",
            "148/148 [==============================] - 3s 20ms/step - loss: 0.2053 - accuracy: 0.9619 - val_loss: 2.1656 - val_accuracy: 0.7922\n",
            "Epoch 85/300\n",
            "148/148 [==============================] - 3s 19ms/step - loss: 0.2002 - accuracy: 0.9628 - val_loss: 2.1819 - val_accuracy: 0.7916\n",
            "Epoch 86/300\n",
            "148/148 [==============================] - 3s 19ms/step - loss: 0.1950 - accuracy: 0.9639 - val_loss: 2.1971 - val_accuracy: 0.7917\n",
            "Epoch 87/300\n",
            "148/148 [==============================] - 3s 21ms/step - loss: 0.1909 - accuracy: 0.9646 - val_loss: 2.2089 - val_accuracy: 0.7918\n",
            "Epoch 88/300\n",
            "148/148 [==============================] - 3s 21ms/step - loss: 0.1860 - accuracy: 0.9657 - val_loss: 2.2252 - val_accuracy: 0.7918\n",
            "Epoch 89/300\n",
            "148/148 [==============================] - 3s 19ms/step - loss: 0.1813 - accuracy: 0.9663 - val_loss: 2.2359 - val_accuracy: 0.7911\n",
            "Epoch 90/300\n",
            "148/148 [==============================] - 3s 19ms/step - loss: 0.1769 - accuracy: 0.9673 - val_loss: 2.2533 - val_accuracy: 0.7912\n",
            "Epoch 91/300\n",
            "148/148 [==============================] - 3s 19ms/step - loss: 0.1724 - accuracy: 0.9683 - val_loss: 2.2651 - val_accuracy: 0.7915\n",
            "Epoch 92/300\n",
            "148/148 [==============================] - 3s 23ms/step - loss: 0.1687 - accuracy: 0.9691 - val_loss: 2.2768 - val_accuracy: 0.7914\n",
            "Epoch 93/300\n",
            "148/148 [==============================] - 3s 20ms/step - loss: 0.1639 - accuracy: 0.9700 - val_loss: 2.2883 - val_accuracy: 0.7914\n",
            "Epoch 94/300\n",
            "148/148 [==============================] - 3s 20ms/step - loss: 0.1595 - accuracy: 0.9708 - val_loss: 2.3025 - val_accuracy: 0.7911\n",
            "Epoch 95/300\n",
            "148/148 [==============================] - 3s 20ms/step - loss: 0.1556 - accuracy: 0.9716 - val_loss: 2.3178 - val_accuracy: 0.7911\n",
            "Epoch 96/300\n",
            "148/148 [==============================] - 3s 21ms/step - loss: 0.1519 - accuracy: 0.9724 - val_loss: 2.3321 - val_accuracy: 0.7911\n",
            "Epoch 97/300\n",
            "148/148 [==============================] - 3s 19ms/step - loss: 0.1478 - accuracy: 0.9731 - val_loss: 2.3459 - val_accuracy: 0.7909\n",
            "Epoch 98/300\n",
            "148/148 [==============================] - 3s 19ms/step - loss: 0.1438 - accuracy: 0.9741 - val_loss: 2.3594 - val_accuracy: 0.7910\n",
            "Epoch 99/300\n",
            "148/148 [==============================] - 3s 19ms/step - loss: 0.1404 - accuracy: 0.9748 - val_loss: 2.3730 - val_accuracy: 0.7910\n",
            "Epoch 100/300\n",
            "148/148 [==============================] - 3s 22ms/step - loss: 0.1364 - accuracy: 0.9758 - val_loss: 2.3884 - val_accuracy: 0.7908\n",
            "Epoch 101/300\n",
            "148/148 [==============================] - 3s 22ms/step - loss: 0.1331 - accuracy: 0.9762 - val_loss: 2.4043 - val_accuracy: 0.7906\n",
            "Epoch 102/300\n",
            "148/148 [==============================] - 3s 19ms/step - loss: 0.1300 - accuracy: 0.9768 - val_loss: 2.4164 - val_accuracy: 0.7906\n",
            "Epoch 103/300\n",
            "148/148 [==============================] - 3s 20ms/step - loss: 0.1267 - accuracy: 0.9773 - val_loss: 2.4279 - val_accuracy: 0.7907\n",
            "Epoch 104/300\n",
            "148/148 [==============================] - 3s 20ms/step - loss: 0.1228 - accuracy: 0.9782 - val_loss: 2.4442 - val_accuracy: 0.7910\n",
            "Epoch 105/300\n",
            "148/148 [==============================] - 3s 22ms/step - loss: 0.1201 - accuracy: 0.9788 - val_loss: 2.4561 - val_accuracy: 0.7911\n",
            "Epoch 106/300\n",
            "148/148 [==============================] - 3s 20ms/step - loss: 0.1166 - accuracy: 0.9795 - val_loss: 2.4694 - val_accuracy: 0.7908\n",
            "Epoch 107/300\n",
            "148/148 [==============================] - 3s 19ms/step - loss: 0.1136 - accuracy: 0.9800 - val_loss: 2.4853 - val_accuracy: 0.7904\n",
            "Epoch 108/300\n",
            "148/148 [==============================] - 3s 19ms/step - loss: 0.1104 - accuracy: 0.9806 - val_loss: 2.4991 - val_accuracy: 0.7909\n",
            "Epoch 109/300\n",
            "148/148 [==============================] - 3s 21ms/step - loss: 0.1075 - accuracy: 0.9813 - val_loss: 2.5114 - val_accuracy: 0.7910\n",
            "Epoch 110/300\n",
            "148/148 [==============================] - 3s 19ms/step - loss: 0.1044 - accuracy: 0.9819 - val_loss: 2.5196 - val_accuracy: 0.7911\n",
            "Epoch 111/300\n",
            "148/148 [==============================] - 3s 20ms/step - loss: 0.1019 - accuracy: 0.9824 - val_loss: 2.5358 - val_accuracy: 0.7907\n",
            "Epoch 112/300\n",
            "148/148 [==============================] - 3s 19ms/step - loss: 0.0992 - accuracy: 0.9829 - val_loss: 2.5518 - val_accuracy: 0.7906\n",
            "Epoch 113/300\n",
            "148/148 [==============================] - 3s 21ms/step - loss: 0.0964 - accuracy: 0.9836 - val_loss: 2.5666 - val_accuracy: 0.7910\n",
            "Epoch 114/300\n",
            "148/148 [==============================] - 3s 21ms/step - loss: 0.0939 - accuracy: 0.9839 - val_loss: 2.5828 - val_accuracy: 0.7906\n",
            "Epoch 115/300\n",
            "148/148 [==============================] - 3s 20ms/step - loss: 0.0915 - accuracy: 0.9845 - val_loss: 2.5957 - val_accuracy: 0.7904\n",
            "Epoch 116/300\n",
            "148/148 [==============================] - 3s 20ms/step - loss: 0.0889 - accuracy: 0.9850 - val_loss: 2.6051 - val_accuracy: 0.7904\n",
            "Epoch 117/300\n",
            "148/148 [==============================] - 3s 20ms/step - loss: 0.0860 - accuracy: 0.9855 - val_loss: 2.6179 - val_accuracy: 0.7905\n",
            "Epoch 118/300\n",
            "148/148 [==============================] - 3s 21ms/step - loss: 0.0833 - accuracy: 0.9862 - val_loss: 2.6305 - val_accuracy: 0.7904\n",
            "Epoch 119/300\n",
            "148/148 [==============================] - 3s 19ms/step - loss: 0.0811 - accuracy: 0.9867 - val_loss: 2.6442 - val_accuracy: 0.7900\n",
            "Epoch 120/300\n",
            "148/148 [==============================] - 3s 20ms/step - loss: 0.0788 - accuracy: 0.9871 - val_loss: 2.6560 - val_accuracy: 0.7900\n",
            "Epoch 121/300\n",
            "148/148 [==============================] - 3s 20ms/step - loss: 0.0767 - accuracy: 0.9874 - val_loss: 2.6702 - val_accuracy: 0.7899\n",
            "Epoch 122/300\n",
            "148/148 [==============================] - 3s 21ms/step - loss: 0.0748 - accuracy: 0.9879 - val_loss: 2.6816 - val_accuracy: 0.7898\n",
            "Epoch 123/300\n",
            "148/148 [==============================] - 3s 19ms/step - loss: 0.0723 - accuracy: 0.9885 - val_loss: 2.6951 - val_accuracy: 0.7899\n",
            "Epoch 124/300\n",
            "148/148 [==============================] - 3s 21ms/step - loss: 0.0701 - accuracy: 0.9890 - val_loss: 2.7040 - val_accuracy: 0.7900\n",
            "Epoch 125/300\n",
            "148/148 [==============================] - 3s 19ms/step - loss: 0.0681 - accuracy: 0.9892 - val_loss: 2.7201 - val_accuracy: 0.7900\n",
            "Epoch 126/300\n",
            "148/148 [==============================] - 3s 22ms/step - loss: 0.0664 - accuracy: 0.9897 - val_loss: 2.7376 - val_accuracy: 0.7889\n",
            "Epoch 127/300\n",
            "148/148 [==============================] - 3s 19ms/step - loss: 0.0651 - accuracy: 0.9899 - val_loss: 2.7426 - val_accuracy: 0.7900\n",
            "Epoch 128/300\n",
            "148/148 [==============================] - 3s 20ms/step - loss: 0.0633 - accuracy: 0.9903 - val_loss: 2.7504 - val_accuracy: 0.7900\n",
            "Epoch 129/300\n",
            "148/148 [==============================] - 3s 19ms/step - loss: 0.0611 - accuracy: 0.9905 - val_loss: 2.7664 - val_accuracy: 0.7900\n",
            "Epoch 130/300\n",
            "148/148 [==============================] - 3s 21ms/step - loss: 0.0588 - accuracy: 0.9912 - val_loss: 2.7806 - val_accuracy: 0.7905\n",
            "Epoch 131/300\n",
            "148/148 [==============================] - 3s 19ms/step - loss: 0.0572 - accuracy: 0.9913 - val_loss: 2.7865 - val_accuracy: 0.7898\n",
            "Epoch 132/300\n",
            "148/148 [==============================] - 3s 20ms/step - loss: 0.0556 - accuracy: 0.9918 - val_loss: 2.8041 - val_accuracy: 0.7897\n",
            "Epoch 133/300\n",
            "148/148 [==============================] - 3s 19ms/step - loss: 0.0553 - accuracy: 0.9916 - val_loss: 2.8101 - val_accuracy: 0.7903\n",
            "Epoch 134/300\n",
            "148/148 [==============================] - 3s 21ms/step - loss: 0.0541 - accuracy: 0.9919 - val_loss: 2.8249 - val_accuracy: 0.7901\n",
            "Epoch 135/300\n",
            "148/148 [==============================] - 3s 20ms/step - loss: 0.0516 - accuracy: 0.9923 - val_loss: 2.8375 - val_accuracy: 0.7902\n",
            "Epoch 136/300\n",
            "148/148 [==============================] - 3s 20ms/step - loss: 0.0494 - accuracy: 0.9928 - val_loss: 2.8499 - val_accuracy: 0.7901\n",
            "Epoch 137/300\n",
            "148/148 [==============================] - 3s 19ms/step - loss: 0.0473 - accuracy: 0.9931 - val_loss: 2.8620 - val_accuracy: 0.7899\n",
            "Epoch 138/300\n",
            "148/148 [==============================] - 3s 21ms/step - loss: 0.0458 - accuracy: 0.9935 - val_loss: 2.8729 - val_accuracy: 0.7899\n",
            "Epoch 139/300\n",
            "148/148 [==============================] - 3s 21ms/step - loss: 0.0449 - accuracy: 0.9935 - val_loss: 2.8900 - val_accuracy: 0.7900\n",
            "Epoch 140/300\n",
            "148/148 [==============================] - 3s 20ms/step - loss: 0.0435 - accuracy: 0.9939 - val_loss: 2.8981 - val_accuracy: 0.7902\n",
            "Epoch 141/300\n",
            "148/148 [==============================] - 3s 19ms/step - loss: 0.0423 - accuracy: 0.9940 - val_loss: 2.9068 - val_accuracy: 0.7896\n",
            "Epoch 142/300\n",
            "148/148 [==============================] - 3s 22ms/step - loss: 0.0412 - accuracy: 0.9944 - val_loss: 2.9216 - val_accuracy: 0.7898\n",
            "Epoch 143/300\n",
            "148/148 [==============================] - 3s 21ms/step - loss: 0.0398 - accuracy: 0.9946 - val_loss: 2.9270 - val_accuracy: 0.7900\n",
            "Epoch 144/300\n",
            "148/148 [==============================] - 3s 19ms/step - loss: 0.0385 - accuracy: 0.9947 - val_loss: 2.9392 - val_accuracy: 0.7897\n",
            "Epoch 145/300\n",
            "148/148 [==============================] - 3s 21ms/step - loss: 0.0373 - accuracy: 0.9949 - val_loss: 2.9502 - val_accuracy: 0.7903\n",
            "Epoch 146/300\n",
            "148/148 [==============================] - 3s 19ms/step - loss: 0.0362 - accuracy: 0.9951 - val_loss: 2.9630 - val_accuracy: 0.7894\n",
            "Epoch 147/300\n",
            "148/148 [==============================] - 3s 22ms/step - loss: 0.0356 - accuracy: 0.9953 - val_loss: 2.9708 - val_accuracy: 0.7900\n",
            "Epoch 148/300\n",
            "148/148 [==============================] - 3s 19ms/step - loss: 0.0349 - accuracy: 0.9953 - val_loss: 2.9851 - val_accuracy: 0.7896\n",
            "Epoch 149/300\n",
            "148/148 [==============================] - 3s 19ms/step - loss: 0.0336 - accuracy: 0.9955 - val_loss: 2.9905 - val_accuracy: 0.7896\n",
            "Epoch 150/300\n",
            "148/148 [==============================] - 3s 19ms/step - loss: 0.0327 - accuracy: 0.9957 - val_loss: 3.0026 - val_accuracy: 0.7901\n",
            "Epoch 151/300\n",
            "148/148 [==============================] - 3s 21ms/step - loss: 0.0320 - accuracy: 0.9956 - val_loss: 3.0149 - val_accuracy: 0.7900\n",
            "Epoch 152/300\n",
            "148/148 [==============================] - 3s 20ms/step - loss: 0.0305 - accuracy: 0.9960 - val_loss: 3.0268 - val_accuracy: 0.7899\n",
            "Epoch 153/300\n",
            "148/148 [==============================] - 3s 19ms/step - loss: 0.0295 - accuracy: 0.9962 - val_loss: 3.0362 - val_accuracy: 0.7901\n",
            "Epoch 154/300\n",
            "148/148 [==============================] - 3s 19ms/step - loss: 0.0282 - accuracy: 0.9965 - val_loss: 3.0415 - val_accuracy: 0.7899\n",
            "Epoch 155/300\n",
            "148/148 [==============================] - 3s 20ms/step - loss: 0.0275 - accuracy: 0.9966 - val_loss: 3.0507 - val_accuracy: 0.7900\n",
            "Epoch 156/300\n",
            "148/148 [==============================] - 4s 24ms/step - loss: 0.0273 - accuracy: 0.9966 - val_loss: 3.0644 - val_accuracy: 0.7899\n",
            "Epoch 157/300\n",
            "148/148 [==============================] - 3s 19ms/step - loss: 0.0264 - accuracy: 0.9966 - val_loss: 3.0758 - val_accuracy: 0.7900\n",
            "Epoch 158/300\n",
            "148/148 [==============================] - 3s 19ms/step - loss: 0.0253 - accuracy: 0.9969 - val_loss: 3.0782 - val_accuracy: 0.7900\n",
            "Epoch 159/300\n",
            "148/148 [==============================] - 3s 19ms/step - loss: 0.0239 - accuracy: 0.9971 - val_loss: 3.0922 - val_accuracy: 0.7900\n",
            "Epoch 160/300\n",
            "148/148 [==============================] - 3s 21ms/step - loss: 0.0234 - accuracy: 0.9973 - val_loss: 3.1015 - val_accuracy: 0.7896\n",
            "Epoch 161/300\n",
            "148/148 [==============================] - 3s 20ms/step - loss: 0.0224 - accuracy: 0.9974 - val_loss: 3.1124 - val_accuracy: 0.7899\n",
            "Epoch 162/300\n",
            "148/148 [==============================] - 3s 19ms/step - loss: 0.0217 - accuracy: 0.9976 - val_loss: 3.1200 - val_accuracy: 0.7897\n",
            "Epoch 163/300\n",
            "148/148 [==============================] - 3s 20ms/step - loss: 0.0210 - accuracy: 0.9976 - val_loss: 3.1364 - val_accuracy: 0.7892\n",
            "Epoch 164/300\n",
            "148/148 [==============================] - 3s 22ms/step - loss: 0.0218 - accuracy: 0.9975 - val_loss: 3.1431 - val_accuracy: 0.7895\n",
            "Epoch 165/300\n",
            "148/148 [==============================] - 3s 21ms/step - loss: 0.0222 - accuracy: 0.9974 - val_loss: 3.1475 - val_accuracy: 0.7901\n",
            "Epoch 166/300\n",
            "148/148 [==============================] - 3s 19ms/step - loss: 0.0212 - accuracy: 0.9976 - val_loss: 3.1578 - val_accuracy: 0.7898\n",
            "Epoch 167/300\n",
            "148/148 [==============================] - 3s 21ms/step - loss: 0.0196 - accuracy: 0.9979 - val_loss: 3.1711 - val_accuracy: 0.7894\n",
            "Epoch 168/300\n",
            "148/148 [==============================] - 3s 20ms/step - loss: 0.0188 - accuracy: 0.9979 - val_loss: 3.1794 - val_accuracy: 0.7896\n",
            "Epoch 169/300\n",
            "148/148 [==============================] - 3s 21ms/step - loss: 0.0176 - accuracy: 0.9981 - val_loss: 3.1871 - val_accuracy: 0.7895\n",
            "Epoch 170/300\n",
            "148/148 [==============================] - 3s 19ms/step - loss: 0.0166 - accuracy: 0.9982 - val_loss: 3.1959 - val_accuracy: 0.7899\n",
            "Epoch 171/300\n",
            "148/148 [==============================] - 3s 19ms/step - loss: 0.0158 - accuracy: 0.9984 - val_loss: 3.2057 - val_accuracy: 0.7899\n",
            "Epoch 172/300\n",
            "148/148 [==============================] - 3s 19ms/step - loss: 0.0152 - accuracy: 0.9984 - val_loss: 3.2129 - val_accuracy: 0.7897\n",
            "Epoch 173/300\n",
            "148/148 [==============================] - 3s 22ms/step - loss: 0.0146 - accuracy: 0.9986 - val_loss: 3.2251 - val_accuracy: 0.7898\n",
            "Epoch 174/300\n",
            "148/148 [==============================] - 3s 19ms/step - loss: 0.0139 - accuracy: 0.9987 - val_loss: 3.2341 - val_accuracy: 0.7894\n",
            "Epoch 175/300\n",
            "148/148 [==============================] - 3s 19ms/step - loss: 0.0137 - accuracy: 0.9987 - val_loss: 3.2429 - val_accuracy: 0.7896\n",
            "Epoch 176/300\n",
            "148/148 [==============================] - 3s 19ms/step - loss: 0.0140 - accuracy: 0.9986 - val_loss: 3.2488 - val_accuracy: 0.7901\n",
            "Epoch 177/300\n",
            "148/148 [==============================] - 3s 21ms/step - loss: 0.0139 - accuracy: 0.9987 - val_loss: 3.2626 - val_accuracy: 0.7895\n",
            "Epoch 178/300\n",
            "148/148 [==============================] - 3s 20ms/step - loss: 0.0138 - accuracy: 0.9987 - val_loss: 3.2641 - val_accuracy: 0.7897\n",
            "Epoch 179/300\n",
            "148/148 [==============================] - 3s 19ms/step - loss: 0.0150 - accuracy: 0.9984 - val_loss: 3.2757 - val_accuracy: 0.7898\n",
            "Epoch 180/300\n",
            "148/148 [==============================] - 3s 19ms/step - loss: 0.0171 - accuracy: 0.9981 - val_loss: 3.2738 - val_accuracy: 0.7899\n",
            "Epoch 181/300\n",
            "148/148 [==============================] - 3s 20ms/step - loss: 0.0171 - accuracy: 0.9981 - val_loss: 3.2911 - val_accuracy: 0.7894\n",
            "Epoch 182/300\n",
            "148/148 [==============================] - 3s 21ms/step - loss: 0.0153 - accuracy: 0.9984 - val_loss: 3.2985 - val_accuracy: 0.7902\n",
            "Epoch 183/300\n",
            "148/148 [==============================] - 3s 20ms/step - loss: 0.0124 - accuracy: 0.9989 - val_loss: 3.3060 - val_accuracy: 0.7902\n",
            "Epoch 184/300\n",
            "148/148 [==============================] - 3s 20ms/step - loss: 0.0106 - accuracy: 0.9991 - val_loss: 3.3126 - val_accuracy: 0.7900\n",
            "Epoch 185/300\n",
            "148/148 [==============================] - 3s 19ms/step - loss: 0.0095 - accuracy: 0.9992 - val_loss: 3.3197 - val_accuracy: 0.7901\n",
            "Epoch 186/300\n",
            "148/148 [==============================] - 3s 21ms/step - loss: 0.0087 - accuracy: 0.9993 - val_loss: 3.3266 - val_accuracy: 0.7899\n",
            "Epoch 187/300\n",
            "148/148 [==============================] - 3s 21ms/step - loss: 0.0084 - accuracy: 0.9993 - val_loss: 3.3359 - val_accuracy: 0.7903\n",
            "Epoch 188/300\n",
            "148/148 [==============================] - 3s 19ms/step - loss: 0.0080 - accuracy: 0.9994 - val_loss: 3.3427 - val_accuracy: 0.7902\n",
            "Epoch 189/300\n",
            "148/148 [==============================] - 3s 21ms/step - loss: 0.0078 - accuracy: 0.9994 - val_loss: 3.3502 - val_accuracy: 0.7903\n",
            "Epoch 190/300\n",
            "148/148 [==============================] - 3s 22ms/step - loss: 0.0078 - accuracy: 0.9994 - val_loss: 3.3631 - val_accuracy: 0.7903\n",
            "Epoch 191/300\n",
            "148/148 [==============================] - 3s 19ms/step - loss: 0.0080 - accuracy: 0.9994 - val_loss: 3.3684 - val_accuracy: 0.7904\n",
            "Epoch 192/300\n",
            "148/148 [==============================] - 3s 19ms/step - loss: 0.0089 - accuracy: 0.9992 - val_loss: 3.3765 - val_accuracy: 0.7900\n",
            "Epoch 193/300\n",
            "148/148 [==============================] - 3s 19ms/step - loss: 0.0100 - accuracy: 0.9990 - val_loss: 3.3797 - val_accuracy: 0.7897\n",
            "Epoch 194/300\n",
            "148/148 [==============================] - 3s 20ms/step - loss: 0.0131 - accuracy: 0.9984 - val_loss: 3.3857 - val_accuracy: 0.7898\n",
            "Epoch 195/300\n",
            "148/148 [==============================] - 3s 21ms/step - loss: 0.0184 - accuracy: 0.9970 - val_loss: 3.3893 - val_accuracy: 0.7889\n",
            "Epoch 196/300\n",
            "148/148 [==============================] - 3s 19ms/step - loss: 0.0193 - accuracy: 0.9970 - val_loss: 3.3908 - val_accuracy: 0.7896\n",
            "Epoch 197/300\n",
            "148/148 [==============================] - 3s 19ms/step - loss: 0.0124 - accuracy: 0.9986 - val_loss: 3.4008 - val_accuracy: 0.7902\n",
            "Epoch 198/300\n",
            "148/148 [==============================] - 3s 20ms/step - loss: 0.0084 - accuracy: 0.9994 - val_loss: 3.4070 - val_accuracy: 0.7902\n",
            "Epoch 199/300\n",
            "148/148 [==============================] - 3s 21ms/step - loss: 0.0067 - accuracy: 0.9995 - val_loss: 3.4147 - val_accuracy: 0.7904\n",
            "Epoch 200/300\n",
            "148/148 [==============================] - 3s 19ms/step - loss: 0.0059 - accuracy: 0.9996 - val_loss: 3.4221 - val_accuracy: 0.7901\n",
            "Epoch 201/300\n",
            "148/148 [==============================] - 3s 19ms/step - loss: 0.0055 - accuracy: 0.9996 - val_loss: 3.4291 - val_accuracy: 0.7904\n",
            "Epoch 202/300\n",
            "148/148 [==============================] - 3s 20ms/step - loss: 0.0052 - accuracy: 0.9996 - val_loss: 3.4364 - val_accuracy: 0.7904\n",
            "Epoch 203/300\n",
            "148/148 [==============================] - 3s 22ms/step - loss: 0.0050 - accuracy: 0.9996 - val_loss: 3.4403 - val_accuracy: 0.7904\n",
            "Epoch 204/300\n",
            "148/148 [==============================] - 3s 19ms/step - loss: 0.0048 - accuracy: 0.9996 - val_loss: 3.4464 - val_accuracy: 0.7904\n",
            "Epoch 205/300\n",
            "148/148 [==============================] - 3s 19ms/step - loss: 0.0047 - accuracy: 0.9997 - val_loss: 3.4533 - val_accuracy: 0.7903\n",
            "Epoch 206/300\n",
            "148/148 [==============================] - 3s 19ms/step - loss: 0.0045 - accuracy: 0.9997 - val_loss: 3.4572 - val_accuracy: 0.7905\n",
            "Epoch 207/300\n",
            "148/148 [==============================] - 3s 22ms/step - loss: 0.0044 - accuracy: 0.9997 - val_loss: 3.4647 - val_accuracy: 0.7903\n",
            "Epoch 208/300\n",
            "148/148 [==============================] - 3s 19ms/step - loss: 0.0043 - accuracy: 0.9997 - val_loss: 3.4691 - val_accuracy: 0.7904\n",
            "Epoch 209/300\n",
            "148/148 [==============================] - 3s 19ms/step - loss: 0.0042 - accuracy: 0.9997 - val_loss: 3.4769 - val_accuracy: 0.7904\n",
            "Epoch 210/300\n",
            "148/148 [==============================] - 3s 19ms/step - loss: 0.0044 - accuracy: 0.9997 - val_loss: 3.4822 - val_accuracy: 0.7906\n",
            "Epoch 211/300\n",
            "148/148 [==============================] - 3s 23ms/step - loss: 0.0045 - accuracy: 0.9996 - val_loss: 3.4924 - val_accuracy: 0.7906\n",
            "Epoch 212/300\n",
            "148/148 [==============================] - 3s 22ms/step - loss: 0.0052 - accuracy: 0.9995 - val_loss: 3.4997 - val_accuracy: 0.7900\n",
            "Epoch 213/300\n",
            "148/148 [==============================] - 3s 19ms/step - loss: 0.0076 - accuracy: 0.9991 - val_loss: 3.5117 - val_accuracy: 0.7900\n",
            "Epoch 214/300\n",
            "148/148 [==============================] - 3s 19ms/step - loss: 0.0145 - accuracy: 0.9976 - val_loss: 3.5093 - val_accuracy: 0.7900\n",
            "Epoch 215/300\n",
            "148/148 [==============================] - 3s 19ms/step - loss: 0.0165 - accuracy: 0.9971 - val_loss: 3.5093 - val_accuracy: 0.7898\n",
            "Epoch 216/300\n",
            "148/148 [==============================] - 3s 23ms/step - loss: 0.0121 - accuracy: 0.9982 - val_loss: 3.5145 - val_accuracy: 0.7900\n",
            "Epoch 217/300\n",
            "148/148 [==============================] - 3s 19ms/step - loss: 0.0075 - accuracy: 0.9992 - val_loss: 3.5164 - val_accuracy: 0.7908\n",
            "Epoch 218/300\n",
            "148/148 [==============================] - 3s 19ms/step - loss: 0.0050 - accuracy: 0.9996 - val_loss: 3.5209 - val_accuracy: 0.7905\n",
            "Epoch 219/300\n",
            "148/148 [==============================] - 3s 19ms/step - loss: 0.0039 - accuracy: 0.9997 - val_loss: 3.5297 - val_accuracy: 0.7906\n",
            "Epoch 220/300\n",
            "148/148 [==============================] - 3s 21ms/step - loss: 0.0035 - accuracy: 0.9997 - val_loss: 3.5364 - val_accuracy: 0.7908\n",
            "Epoch 221/300\n",
            "148/148 [==============================] - 3s 19ms/step - loss: 0.0033 - accuracy: 0.9997 - val_loss: 3.5397 - val_accuracy: 0.7907\n",
            "Epoch 222/300\n",
            "148/148 [==============================] - 3s 19ms/step - loss: 0.0031 - accuracy: 0.9997 - val_loss: 3.5450 - val_accuracy: 0.7907\n",
            "Epoch 223/300\n",
            "148/148 [==============================] - 3s 19ms/step - loss: 0.0030 - accuracy: 0.9997 - val_loss: 3.5522 - val_accuracy: 0.7907\n",
            "Epoch 224/300\n",
            "148/148 [==============================] - 3s 22ms/step - loss: 0.0029 - accuracy: 0.9997 - val_loss: 3.5559 - val_accuracy: 0.7908\n",
            "Epoch 225/300\n",
            "148/148 [==============================] - 3s 20ms/step - loss: 0.0028 - accuracy: 0.9997 - val_loss: 3.5597 - val_accuracy: 0.7907\n",
            "Epoch 226/300\n",
            "148/148 [==============================] - 3s 19ms/step - loss: 0.0027 - accuracy: 0.9997 - val_loss: 3.5648 - val_accuracy: 0.7908\n",
            "Epoch 227/300\n",
            "148/148 [==============================] - 3s 19ms/step - loss: 0.0026 - accuracy: 0.9997 - val_loss: 3.5680 - val_accuracy: 0.7908\n",
            "Epoch 228/300\n",
            "148/148 [==============================] - 3s 20ms/step - loss: 0.0026 - accuracy: 0.9997 - val_loss: 3.5763 - val_accuracy: 0.7908\n",
            "Epoch 229/300\n",
            "148/148 [==============================] - 3s 21ms/step - loss: 0.0025 - accuracy: 0.9998 - val_loss: 3.5784 - val_accuracy: 0.7907\n",
            "Epoch 230/300\n",
            "148/148 [==============================] - 3s 19ms/step - loss: 0.0025 - accuracy: 0.9997 - val_loss: 3.5868 - val_accuracy: 0.7907\n",
            "Epoch 231/300\n",
            "148/148 [==============================] - 3s 19ms/step - loss: 0.0025 - accuracy: 0.9997 - val_loss: 3.5881 - val_accuracy: 0.7907\n",
            "Epoch 232/300\n",
            "148/148 [==============================] - 3s 20ms/step - loss: 0.0026 - accuracy: 0.9997 - val_loss: 3.5962 - val_accuracy: 0.7909\n",
            "Epoch 233/300\n",
            "148/148 [==============================] - 3s 22ms/step - loss: 0.0028 - accuracy: 0.9997 - val_loss: 3.6027 - val_accuracy: 0.7904\n",
            "Epoch 234/300\n",
            "148/148 [==============================] - 3s 19ms/step - loss: 0.0039 - accuracy: 0.9996 - val_loss: 3.6066 - val_accuracy: 0.7906\n",
            "Epoch 235/300\n",
            "148/148 [==============================] - 3s 19ms/step - loss: 0.0107 - accuracy: 0.9981 - val_loss: 3.6130 - val_accuracy: 0.7903\n",
            "Epoch 236/300\n",
            "148/148 [==============================] - 3s 19ms/step - loss: 0.0200 - accuracy: 0.9955 - val_loss: 3.6091 - val_accuracy: 0.7902\n",
            "Epoch 237/300\n",
            "148/148 [==============================] - 3s 22ms/step - loss: 0.0136 - accuracy: 0.9974 - val_loss: 3.6097 - val_accuracy: 0.7906\n",
            "Epoch 238/300\n",
            "148/148 [==============================] - 3s 19ms/step - loss: 0.0068 - accuracy: 0.9991 - val_loss: 3.6074 - val_accuracy: 0.7911\n",
            "Epoch 239/300\n",
            "148/148 [==============================] - 3s 19ms/step - loss: 0.0038 - accuracy: 0.9996 - val_loss: 3.6118 - val_accuracy: 0.7913\n",
            "Epoch 240/300\n",
            "148/148 [==============================] - 3s 19ms/step - loss: 0.0028 - accuracy: 0.9997 - val_loss: 3.6175 - val_accuracy: 0.7912\n",
            "Epoch 241/300\n",
            "148/148 [==============================] - 3s 20ms/step - loss: 0.0025 - accuracy: 0.9997 - val_loss: 3.6219 - val_accuracy: 0.7913\n",
            "Epoch 242/300\n",
            "148/148 [==============================] - 3s 20ms/step - loss: 0.0023 - accuracy: 0.9997 - val_loss: 3.6241 - val_accuracy: 0.7915\n",
            "Epoch 243/300\n",
            "148/148 [==============================] - 3s 19ms/step - loss: 0.0022 - accuracy: 0.9997 - val_loss: 3.6288 - val_accuracy: 0.7913\n",
            "Epoch 244/300\n",
            "148/148 [==============================] - 3s 19ms/step - loss: 0.0021 - accuracy: 0.9997 - val_loss: 3.6341 - val_accuracy: 0.7911\n",
            "Epoch 245/300\n",
            "148/148 [==============================] - 3s 22ms/step - loss: 0.0021 - accuracy: 0.9997 - val_loss: 3.6383 - val_accuracy: 0.7912\n",
            "Epoch 246/300\n",
            "148/148 [==============================] - 3s 21ms/step - loss: 0.0020 - accuracy: 0.9997 - val_loss: 3.6395 - val_accuracy: 0.7913\n",
            "Epoch 247/300\n",
            "148/148 [==============================] - 3s 19ms/step - loss: 0.0019 - accuracy: 0.9997 - val_loss: 3.6442 - val_accuracy: 0.7914\n",
            "Epoch 248/300\n",
            "148/148 [==============================] - 3s 21ms/step - loss: 0.0019 - accuracy: 0.9997 - val_loss: 3.6479 - val_accuracy: 0.7913\n",
            "Epoch 249/300\n",
            "148/148 [==============================] - 3s 19ms/step - loss: 0.0018 - accuracy: 0.9997 - val_loss: 3.6537 - val_accuracy: 0.7912\n",
            "Epoch 250/300\n",
            "148/148 [==============================] - 3s 22ms/step - loss: 0.0018 - accuracy: 0.9997 - val_loss: 3.6578 - val_accuracy: 0.7911\n",
            "Epoch 251/300\n",
            "148/148 [==============================] - 3s 19ms/step - loss: 0.0018 - accuracy: 0.9997 - val_loss: 3.6607 - val_accuracy: 0.7912\n",
            "Epoch 252/300\n",
            "148/148 [==============================] - 3s 19ms/step - loss: 0.0017 - accuracy: 0.9997 - val_loss: 3.6671 - val_accuracy: 0.7913\n",
            "Epoch 253/300\n",
            "148/148 [==============================] - 3s 19ms/step - loss: 0.0017 - accuracy: 0.9997 - val_loss: 3.6712 - val_accuracy: 0.7913\n",
            "Epoch 254/300\n",
            "148/148 [==============================] - 3s 22ms/step - loss: 0.0017 - accuracy: 0.9997 - val_loss: 3.6764 - val_accuracy: 0.7911\n",
            "Epoch 255/300\n",
            "148/148 [==============================] - 3s 19ms/step - loss: 0.0017 - accuracy: 0.9997 - val_loss: 3.6824 - val_accuracy: 0.7909\n",
            "Epoch 256/300\n",
            "148/148 [==============================] - 3s 19ms/step - loss: 0.0017 - accuracy: 0.9997 - val_loss: 3.6867 - val_accuracy: 0.7908\n",
            "Epoch 257/300\n",
            "148/148 [==============================] - 3s 19ms/step - loss: 0.0017 - accuracy: 0.9997 - val_loss: 3.6961 - val_accuracy: 0.7911\n",
            "Epoch 258/300\n",
            "148/148 [==============================] - 3s 20ms/step - loss: 0.0024 - accuracy: 0.9996 - val_loss: 3.6943 - val_accuracy: 0.7906\n",
            "Epoch 259/300\n",
            "148/148 [==============================] - 3s 20ms/step - loss: 0.0119 - accuracy: 0.9974 - val_loss: 3.6915 - val_accuracy: 0.7904\n",
            "Epoch 260/300\n",
            "148/148 [==============================] - 3s 19ms/step - loss: 0.0211 - accuracy: 0.9949 - val_loss: 3.6924 - val_accuracy: 0.7908\n",
            "Epoch 261/300\n",
            "148/148 [==============================] - 3s 19ms/step - loss: 0.0121 - accuracy: 0.9975 - val_loss: 3.6923 - val_accuracy: 0.7908\n",
            "Epoch 262/300\n",
            "148/148 [==============================] - 3s 20ms/step - loss: 0.0054 - accuracy: 0.9992 - val_loss: 3.6941 - val_accuracy: 0.7911\n",
            "Epoch 263/300\n",
            "148/148 [==============================] - 3s 21ms/step - loss: 0.0029 - accuracy: 0.9996 - val_loss: 3.6983 - val_accuracy: 0.7911\n",
            "Epoch 264/300\n",
            "148/148 [==============================] - 3s 20ms/step - loss: 0.0022 - accuracy: 0.9997 - val_loss: 3.7045 - val_accuracy: 0.7908\n",
            "Epoch 265/300\n",
            "148/148 [==============================] - 3s 19ms/step - loss: 0.0019 - accuracy: 0.9997 - val_loss: 3.7094 - val_accuracy: 0.7908\n",
            "Epoch 266/300\n",
            "148/148 [==============================] - 3s 19ms/step - loss: 0.0017 - accuracy: 0.9997 - val_loss: 3.7135 - val_accuracy: 0.7908\n",
            "Epoch 267/300\n",
            "148/148 [==============================] - 3s 22ms/step - loss: 0.0017 - accuracy: 0.9997 - val_loss: 3.7166 - val_accuracy: 0.7910\n",
            "Epoch 268/300\n",
            "148/148 [==============================] - 3s 22ms/step - loss: 0.0016 - accuracy: 0.9997 - val_loss: 3.7179 - val_accuracy: 0.7909\n",
            "Epoch 269/300\n",
            "148/148 [==============================] - 3s 19ms/step - loss: 0.0015 - accuracy: 0.9997 - val_loss: 3.7229 - val_accuracy: 0.7911\n",
            "Epoch 270/300\n",
            "148/148 [==============================] - 3s 19ms/step - loss: 0.0015 - accuracy: 0.9997 - val_loss: 3.7254 - val_accuracy: 0.7908\n",
            "Epoch 271/300\n",
            "148/148 [==============================] - 3s 22ms/step - loss: 0.0014 - accuracy: 0.9997 - val_loss: 3.7279 - val_accuracy: 0.7909\n",
            "Epoch 272/300\n",
            "148/148 [==============================] - 3s 21ms/step - loss: 0.0014 - accuracy: 0.9997 - val_loss: 3.7301 - val_accuracy: 0.7911\n",
            "Epoch 273/300\n",
            "148/148 [==============================] - 3s 19ms/step - loss: 0.0014 - accuracy: 0.9998 - val_loss: 3.7348 - val_accuracy: 0.7909\n",
            "Epoch 274/300\n",
            "148/148 [==============================] - 3s 19ms/step - loss: 0.0014 - accuracy: 0.9997 - val_loss: 3.7393 - val_accuracy: 0.7910\n",
            "Epoch 275/300\n",
            "148/148 [==============================] - 3s 21ms/step - loss: 0.0013 - accuracy: 0.9998 - val_loss: 3.7412 - val_accuracy: 0.7911\n",
            "Epoch 276/300\n",
            "148/148 [==============================] - 3s 20ms/step - loss: 0.0013 - accuracy: 0.9997 - val_loss: 3.7442 - val_accuracy: 0.7910\n",
            "Epoch 277/300\n",
            "148/148 [==============================] - 3s 19ms/step - loss: 0.0013 - accuracy: 0.9997 - val_loss: 3.7481 - val_accuracy: 0.7912\n",
            "Epoch 278/300\n",
            "148/148 [==============================] - 3s 19ms/step - loss: 0.0013 - accuracy: 0.9997 - val_loss: 3.7507 - val_accuracy: 0.7910\n",
            "Epoch 279/300\n",
            "148/148 [==============================] - 3s 21ms/step - loss: 0.0012 - accuracy: 0.9997 - val_loss: 3.7564 - val_accuracy: 0.7911\n",
            "Epoch 280/300\n",
            "148/148 [==============================] - 3s 21ms/step - loss: 0.0012 - accuracy: 0.9997 - val_loss: 3.7597 - val_accuracy: 0.7910\n",
            "Epoch 281/300\n",
            "148/148 [==============================] - 3s 19ms/step - loss: 0.0012 - accuracy: 0.9998 - val_loss: 3.7640 - val_accuracy: 0.7910\n",
            "Epoch 282/300\n",
            "148/148 [==============================] - 3s 21ms/step - loss: 0.0012 - accuracy: 0.9997 - val_loss: 3.7695 - val_accuracy: 0.7911\n",
            "Epoch 283/300\n",
            "148/148 [==============================] - 3s 21ms/step - loss: 0.0012 - accuracy: 0.9997 - val_loss: 3.7701 - val_accuracy: 0.7910\n",
            "Epoch 284/300\n",
            "148/148 [==============================] - 3s 21ms/step - loss: 0.0012 - accuracy: 0.9997 - val_loss: 3.7756 - val_accuracy: 0.7911\n",
            "Epoch 285/300\n",
            "148/148 [==============================] - 3s 19ms/step - loss: 0.0012 - accuracy: 0.9997 - val_loss: 3.7784 - val_accuracy: 0.7906\n",
            "Epoch 286/300\n",
            "148/148 [==============================] - 3s 19ms/step - loss: 0.0016 - accuracy: 0.9997 - val_loss: 3.7770 - val_accuracy: 0.7905\n",
            "Epoch 287/300\n",
            "148/148 [==============================] - 3s 20ms/step - loss: 0.0160 - accuracy: 0.9961 - val_loss: 3.7821 - val_accuracy: 0.7893\n",
            "Epoch 288/300\n",
            "148/148 [==============================] - 3s 23ms/step - loss: 0.0223 - accuracy: 0.9943 - val_loss: 3.7675 - val_accuracy: 0.7911\n",
            "Epoch 289/300\n",
            "148/148 [==============================] - 3s 19ms/step - loss: 0.0092 - accuracy: 0.9981 - val_loss: 3.7711 - val_accuracy: 0.7908\n",
            "Epoch 290/300\n",
            "148/148 [==============================] - 3s 19ms/step - loss: 0.0036 - accuracy: 0.9995 - val_loss: 3.7732 - val_accuracy: 0.7912\n",
            "Epoch 291/300\n",
            "148/148 [==============================] - 3s 19ms/step - loss: 0.0020 - accuracy: 0.9997 - val_loss: 3.7793 - val_accuracy: 0.7904\n",
            "Epoch 292/300\n",
            "148/148 [==============================] - 3s 21ms/step - loss: 0.0016 - accuracy: 0.9997 - val_loss: 3.7822 - val_accuracy: 0.7908\n",
            "Epoch 293/300\n",
            "148/148 [==============================] - 3s 19ms/step - loss: 0.0015 - accuracy: 0.9997 - val_loss: 3.7852 - val_accuracy: 0.7908\n",
            "Epoch 294/300\n",
            "148/148 [==============================] - 3s 21ms/step - loss: 0.0014 - accuracy: 0.9997 - val_loss: 3.7883 - val_accuracy: 0.7908\n",
            "Epoch 295/300\n",
            "148/148 [==============================] - 3s 19ms/step - loss: 0.0013 - accuracy: 0.9998 - val_loss: 3.7899 - val_accuracy: 0.7910\n",
            "Epoch 296/300\n",
            "148/148 [==============================] - 3s 22ms/step - loss: 0.0013 - accuracy: 0.9997 - val_loss: 3.7937 - val_accuracy: 0.7911\n",
            "Epoch 297/300\n",
            "148/148 [==============================] - 3s 20ms/step - loss: 0.0012 - accuracy: 0.9997 - val_loss: 3.7943 - val_accuracy: 0.7910\n",
            "Epoch 298/300\n",
            "148/148 [==============================] - 3s 19ms/step - loss: 0.0012 - accuracy: 0.9997 - val_loss: 3.7993 - val_accuracy: 0.7910\n",
            "Epoch 299/300\n",
            "148/148 [==============================] - 3s 19ms/step - loss: 0.0011 - accuracy: 0.9997 - val_loss: 3.8025 - val_accuracy: 0.7912\n",
            "Epoch 300/300\n",
            "148/148 [==============================] - 3s 21ms/step - loss: 0.0011 - accuracy: 0.9997 - val_loss: 3.8038 - val_accuracy: 0.7910\n"
          ]
        }
      ],
      "source": [
        "EPOCHS = 300\n",
        "BATCH_SIZE = 64\n",
        "history = model_teacher_forcing.fit([encoder_inputs, decoder_inputs],\n",
        "                    decoder_targets, batch_size=BATCH_SIZE, epochs=EPOCHS,\n",
        "                   validation_split=0.2)"
      ]
    },
    {
      "cell_type": "markdown",
      "metadata": {
        "id": "jqt6bVBZN-ck"
      },
      "source": [
        "accuracy, loss 시각화"
      ]
    },
    {
      "cell_type": "code",
      "execution_count": null,
      "metadata": {
        "colab": {
          "base_uri": "https://localhost:8080/",
          "height": 368
        },
        "id": "nCLIcYy8lsgy",
        "outputId": "358a7346-e458-48bf-939b-04c991b6334d"
      },
      "outputs": [
        {
          "output_type": "display_data",
          "data": {
            "text/plain": [
              "<Figure size 1200x400 with 2 Axes>"
            ],
            "image/png": "[encoded data removed]"
          },
          "metadata": {}
        }
      ],
      "source": [
        "# plot some data\n",
        "plt.figure(figsize=(12, 4))\n",
        "plt.subplot(1, 2, 1)\n",
        "plt.plot(history.history['loss'], label='loss')\n",
        "plt.plot(history.history['val_loss'], label='val_loss')\n",
        "plt.legend()\n",
        "\n",
        "# accuracies\n",
        "plt.subplot(1, 2, 2)\n",
        "plt.plot(history.history['accuracy'], label='acc')\n",
        "plt.plot(history.history['val_accuracy'], label='val_acc')\n",
        "plt.legend()\n",
        "plt.show()"
      ]
    },
    {
      "cell_type": "code",
      "execution_count": null,
      "metadata": {
        "id": "qCkeujkMlsg0",
        "colab": {
          "base_uri": "https://localhost:8080/"
        },
        "outputId": "900c87cc-6178-4edc-abbd-a2b71b06f881"
      },
      "outputs": [
        {
          "output_type": "stream",
          "name": "stderr",
          "text": [
            "/usr/local/lib/python3.10/dist-packages/keras/src/engine/training.py:3103: UserWarning: You are saving your model as an HDF5 file via `model.save()`. This file format is considered legacy. We recommend using instead the native Keras format, e.g. `model.save('my_model.keras')`.\n",
            "  saving_api.save_model(\n"
          ]
        }
      ],
      "source": [
        "# save model\n",
        "model_teacher_forcing.save('s2s.h5')"
      ]
    },
    {
      "cell_type": "markdown",
      "metadata": {
        "id": "B3n59rHJlsg1"
      },
      "source": [
        "### Make Predictions - Inference phase\n",
        "\n",
        "- prediction 을 위한 별도의 encoder model\n",
        "- encoder 의 states 를 initial state 로 받는 decoder model 작성  \n",
        "\n",
        "- encoder 는 training 단계와 동일하게 input_text 를 입력으로 받고 encoder_states 를 출력으로 하므로 이전에 define 한 encoder_input_ 과 encoder_states 변수 재사용"
      ]
    },
    {
      "cell_type": "code",
      "execution_count": null,
      "metadata": {
        "colab": {
          "base_uri": "https://localhost:8080/"
        },
        "id": "KEb2UN2t9d2U",
        "outputId": "adfb2616-1691-4e72-a366-6bf355bddd34"
      },
      "outputs": [
        {
          "output_type": "stream",
          "name": "stdout",
          "text": [
            "Model: \"model_2\"\n",
            "__________________________________________________________________________________________________\n",
            " Layer (type)                Output Shape                 Param #   Connected to                  \n",
            "==================================================================================================\n",
            " Decoder_input (InputLayer)  [(None, 1)]                  0         []                            \n",
            "                                                                                                  \n",
            " embedding_1 (Embedding)     multiple                     500100    ['Decoder_input[0][0]']       \n",
            "                                                                                                  \n",
            " Decoder_hidden_h (InputLay  [(None, 128)]                0         []                            \n",
            " er)                                                                                              \n",
            "                                                                                                  \n",
            " Decoder_hidden_c (InputLay  [(None, 128)]                0         []                            \n",
            " er)                                                                                              \n",
            "                                                                                                  \n",
            " lstm_1 (LSTM)               multiple                     117248    ['embedding_1[1][0]',         \n",
            "                                                                     'Decoder_hidden_h[0][0]',    \n",
            "                                                                     'Decoder_hidden_c[0][0]']    \n",
            "                                                                                                  \n",
            " Decoder_Output (Dense)      multiple                     645000    ['lstm_1[1][0]']              \n",
            "                                                                                                  \n",
            "==================================================================================================\n",
            "Total params: 1262348 (4.82 MB)\n",
            "Trainable params: 1262348 (4.82 MB)\n",
            "Non-trainable params: 0 (0.00 Byte)\n",
            "__________________________________________________________________________________________________\n"
          ]
        }
      ],
      "source": [
        "# Decoder for inference\n",
        "decoder_state_input_h = Input(shape=(LATENT_DIM,), name='Decoder_hidden_h')\n",
        "decoder_state_input_c = Input(shape=(LATENT_DIM,), name='Decoder_hidden_c')\n",
        "decoder_states_inputs = [decoder_state_input_h, decoder_state_input_c]\n",
        "\n",
        "decoder_inputs_single = Input(shape=(1,), name='Decoder_input')\n",
        "x = embedding_decoder(decoder_inputs_single)\n",
        "\n",
        "# output, hidden states 를 저장\n",
        "decoder_outputs, h, c = decoder_lstm(x, initial_state=decoder_states_inputs)\n",
        "decoder_states = [h, c]\n",
        "\n",
        "decoder_outputs = decoder_dense(decoder_outputs)\n",
        "\n",
        "decoder_model = Model(\n",
        "    [decoder_inputs_single] + decoder_states_inputs,    #decoder_model.predict([target_seq] + states_value)\n",
        "    [decoder_outputs] + decoder_states\n",
        ")\n",
        "\n",
        "decoder_model.summary()"
      ]
    },
    {
      "cell_type": "code",
      "execution_count": null,
      "metadata": {
        "colab": {
          "base_uri": "https://localhost:8080/",
          "height": 422
        },
        "id": "aClaYIzf0yns",
        "outputId": "5d1f06a2-e0cb-4c3e-dd7d-b39184c10b51"
      },
      "outputs": [
        {
          "output_type": "execute_result",
          "data": {
            "image/png": "[encoded data removed]",
            "text/plain": [
              "<IPython.core.display.Image object>"
            ]
          },
          "metadata": {},
          "execution_count": 27
        }
      ],
      "source": [
        "plot_model(decoder_model, show_shapes=True)"
      ]
    },
    {
      "cell_type": "markdown",
      "metadata": {
        "id": "OS_0Zqpo-32_"
      },
      "source": [
        "### 다음의 inference module 작성\n",
        "- question 을 encoder 에 입력하여 thought vector 반환\n",
        "- start token 설정\n",
        "- 가장 확률 높은 next word 선택\n",
        "- end token 생성 될 때까지 반복\n",
        "- predict 결과가 sequence 로 반환되므로 index 를 word 로 변환"
      ]
    },
    {
      "cell_type": "code",
      "execution_count": null,
      "metadata": {
        "id": "6i4yEvRC-zFg"
      },
      "outputs": [],
      "source": [
        "def decode_sequence(input_seq, temperature=1.0):\n",
        "    # 입력된 질문을 encoder 에 입력하여 state vector 생성\n",
        "    states_value = encoder_model.predict(input_seq)\n",
        "    # size 1 짜리 빈 target sequence 생성\n",
        "    target_seq = np.zeros((1, 1))\n",
        "    # target sequence 의 첫번째 character 를 <s> 로 assign -> 1\n",
        "    target_seq[0, 0] = 1\n",
        "    eos = 2  # </s>\n",
        "\n",
        "    # 답변 생성 시작\n",
        "    output_ids = []\n",
        "    for _ in range(max_len_A):\n",
        "        output_tokens, h, c = decoder_model.predict([target_seq] + states_value)\n",
        "\n",
        "        # 확률 분포에 따라 단어 샘플링\n",
        "        output_probs = output_tokens[0, 0, :]\n",
        "\n",
        "        # 온도 조절 적용\n",
        "        output_probs = np.log(output_probs + 1e-10) / temperature\n",
        "        output_probs = np.exp(output_probs) / np.sum(np.exp(output_probs))\n",
        "\n",
        "        idx = np.random.choice(len(output_probs), p=output_probs)\n",
        "\n",
        "        if eos == idx:  # End sentence of EOS\n",
        "            break\n",
        "\n",
        "        if idx > 0:  # idx 0 은 zero padding 이므로 skip\n",
        "            output_ids.append(int(idx))\n",
        "\n",
        "        # 생성된 word 를 decoder 의 다음 input 으로 사용\n",
        "        target_seq[0, 0] = idx\n",
        "        # Update states\n",
        "        states_value = [h, c]\n",
        "\n",
        "    return output_ids"
      ]
    },
    {
      "cell_type": "markdown",
      "metadata": {
        "id": "0tbXK6zjCBv8"
      },
      "source": [
        "- sample Q & A test"
      ]
    },
    {
      "cell_type": "code",
      "execution_count": null,
      "metadata": {
        "colab": {
          "base_uri": "https://localhost:8080/"
        },
        "id": "EaVj30TGB-ny",
        "outputId": "38f83b8d-7ac9-4a39-bb9b-5fc08dfb348a"
      },
      "outputs": [
        {
          "output_type": "stream",
          "name": "stdout",
          "text": [
            "1/1 [==============================] - 1s 605ms/step\n",
            "1/1 [==============================] - 1s 507ms/step\n",
            "1/1 [==============================] - 0s 28ms/step\n",
            "1/1 [==============================] - 0s 31ms/step\n",
            "1/1 [==============================] - 0s 38ms/step\n",
            "1/1 [==============================] - 0s 29ms/step\n",
            "1/1 [==============================] - 0s 33ms/step\n",
            "-\n",
            "질문 : 나 좋아하는 남자애 없나봄. 넘 외로워.\n",
            "답변 : 좋아하는 사람이 생길 거예요.\n",
            "1/1 [==============================] - 0s 25ms/step\n",
            "1/1 [==============================] - 0s 29ms/step\n",
            "1/1 [==============================] - 0s 27ms/step\n",
            "1/1 [==============================] - 0s 38ms/step\n",
            "1/1 [==============================] - 0s 30ms/step\n",
            "-\n",
            "질문 : 학교 가서 어떻게 얼굴 보지\n",
            "답변 : 선생님이요?\n",
            "1/1 [==============================] - 0s 28ms/step\n",
            "1/1 [==============================] - 0s 27ms/step\n",
            "1/1 [==============================] - 0s 32ms/step\n",
            "1/1 [==============================] - 0s 32ms/step\n",
            "1/1 [==============================] - 0s 17ms/step\n",
            "1/1 [==============================] - 0s 20ms/step\n",
            "1/1 [==============================] - 0s 19ms/step\n",
            "1/1 [==============================] - 0s 18ms/step\n",
            "1/1 [==============================] - 0s 18ms/step\n",
            "-\n",
            "질문 : 친구랑 비교 돼\n",
            "답변 : 비교하면 끝도 없어요.\n",
            "1/1 [==============================] - 0s 21ms/step\n",
            "1/1 [==============================] - 0s 18ms/step\n",
            "1/1 [==============================] - 0s 20ms/step\n",
            "1/1 [==============================] - 0s 19ms/step\n",
            "1/1 [==============================] - 0s 20ms/step\n",
            "1/1 [==============================] - 0s 19ms/step\n",
            "1/1 [==============================] - 0s 19ms/step\n",
            "1/1 [==============================] - 0s 22ms/step\n",
            "1/1 [==============================] - 0s 19ms/step\n",
            "1/1 [==============================] - 0s 18ms/step\n",
            "1/1 [==============================] - 0s 18ms/step\n",
            "1/1 [==============================] - 0s 17ms/step\n",
            "1/1 [==============================] - 0s 18ms/step\n",
            "1/1 [==============================] - 0s 17ms/step\n",
            "-\n",
            "질문 : 남자친구가 나쁜 의도는 아닌데 표현이 너무 서툴러.\n",
            "답변 : 더 좋은 표현들로 천천히 고쳐나가봐요.\n",
            "1/1 [==============================] - 0s 21ms/step\n",
            "1/1 [==============================] - 0s 23ms/step\n",
            "1/1 [==============================] - 0s 18ms/step\n",
            "1/1 [==============================] - 0s 17ms/step\n",
            "1/1 [==============================] - 0s 18ms/step\n",
            "1/1 [==============================] - 0s 20ms/step\n",
            "1/1 [==============================] - 0s 18ms/step\n",
            "1/1 [==============================] - 0s 20ms/step\n",
            "1/1 [==============================] - 0s 19ms/step\n",
            "-\n",
            "질문 : 수학여행가는데 옷 뭐입을까\n",
            "답변 : 뭘 입어도 멋져요.\n"
          ]
        }
      ],
      "source": [
        "sp.Load(f'{prefix}.model')\n",
        "\n",
        "for _ in range(5):\n",
        "    i = np.random.choice(len(Q_texts))\n",
        "    input_seq = encoder_inputs[i:i+1]\n",
        "    response = decode_sequence(input_seq)\n",
        "    print('-')\n",
        "    print('질문 :', Q_texts[i])\n",
        "    print('답변 :', sp.DecodeIds(response))"
      ]
    },
    {
      "cell_type": "code",
      "execution_count": null,
      "metadata": {
        "colab": {
          "base_uri": "https://localhost:8080/"
        },
        "id": "CWrUaHuZlsg6",
        "outputId": "b1d856b9-5844-481d-f5d2-77ca9e8a77fd",
        "scrolled": true
      },
      "outputs": [
        {
          "output_type": "stream",
          "name": "stdout",
          "text": [
            "1/1 [==============================] - 0s 16ms/step\n",
            "1/1 [==============================] - 0s 19ms/step\n",
            "1/1 [==============================] - 0s 18ms/step\n",
            "1/1 [==============================] - 0s 18ms/step\n",
            "1/1 [==============================] - 0s 18ms/step\n",
            "1/1 [==============================] - 0s 18ms/step\n",
            "1/1 [==============================] - 0s 22ms/step\n",
            "1/1 [==============================] - 0s 20ms/step\n",
            "1/1 [==============================] - 0s 19ms/step\n",
            "1/1 [==============================] - 0s 19ms/step\n",
            "-\n",
            "질문 강아지 키울까\n",
            "답변: 책임질 수 있을 때 키워 보세요.\n"
          ]
        }
      ],
      "source": [
        "txt = \"강아지 키울까\"\n",
        "input_sequence = sp.encode_as_ids(txt)\n",
        "encoder_input = pad_sequences([input_sequence], maxlen=MAX_LEN)\n",
        "\n",
        "response = decode_sequence(encoder_input)\n",
        "print('-')\n",
        "print('질문', txt)\n",
        "print('답변:', sp.DecodeIds(response))"
      ]
    },
    {
      "cell_type": "code",
      "execution_count": null,
      "metadata": {
        "id": "5eLku_gCQBpg"
      },
      "outputs": [],
      "source": []
    },
    {
      "cell_type": "code",
      "execution_count": null,
      "metadata": {
        "colab": {
          "base_uri": "https://localhost:8080/"
        },
        "id": "M0EdrUH8lsg8",
        "outputId": "06330340-7220-4f14-a600-7461f6eda048"
      },
      "outputs": [
        {
          "name": "stdout",
          "output_type": "stream",
          "text": [
            "챗봇 대화 시작 .....\n",
            "질문 :배고파\n",
            "1/1 [==============================] - 0s 17ms/step\n",
            "1/1 [==============================] - 0s 18ms/step\n",
            "1/1 [==============================] - 0s 18ms/step\n",
            "1/1 [==============================] - 0s 19ms/step\n",
            "1/1 [==============================] - 0s 20ms/step\n",
            "1/1 [==============================] - 0s 19ms/step\n",
            "1/1 [==============================] - 0s 20ms/step\n",
            "답변 : 뭐 좀 챙겨드세요.\n",
            "질문 :quit\n"
          ]
        }
      ],
      "source": [
        "print(\"챗봇 대화 시작 .....\")\n",
        "\n",
        "while True:\n",
        "    txt = input(\"질문 :\")\n",
        "    if txt.lower() == \"quit\":\n",
        "        break\n",
        "\n",
        "    input_sequence = sp.encode_as_ids(txt)\n",
        "    encoder_input = pad_sequences([input_sequence], maxlen=MAX_LEN)\n",
        "\n",
        "    answer = decode_sequence(encoder_input)\n",
        "\n",
        "    print(\"답변 :\", sp.DecodeIds(answer))"
      ]
    },
    {
      "cell_type": "code",
      "source": [],
      "metadata": {
        "id": "uk-wwwHeJ3UU"
      },
      "execution_count": null,
      "outputs": []
    }
  ],
  "metadata": {
    "accelerator": "GPU",
    "colab": {
      "provenance": []
    },
    "kernelspec": {
      "display_name": "Python 3 (ipykernel)",
      "language": "python",
      "name": "python3"
    },
    "language_info": {
      "codemirror_mode": {
        "name": "ipython",
        "version": 3
      },
      "file_extension": ".py",
      "mimetype": "text/x-python",
      "name": "python",
      "nbconvert_exporter": "python",
      "pygments_lexer": "ipython3",
      "version": "3.9.16"
    }
  },
  "nbformat": 4,
  "nbformat_minor": 0
}