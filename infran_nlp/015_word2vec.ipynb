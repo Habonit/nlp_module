{
  "cells": [
    {
      "cell_type": "markdown",
      "metadata": {
        "id": "8q7LM7qpaE2B"
      },
      "source": [
        "# 015. word2vec 작성\n",
        "\n",
        "- skipgram, window size 2 의 simplified word2vec model 작성"
      ]
    },
    {
      "cell_type": "code",
      "execution_count": 2,
      "metadata": {
        "id": "b8s0c3FqaE2C"
      },
      "outputs": [],
      "source": [
        "import tensorflow as tf\n",
        "from tensorflow.keras.models import Sequential\n",
        "from tensorflow.keras.layers import Dense, Activation, Input\n",
        "import numpy as np\n",
        "import re"
      ]
    },
    {
      "cell_type": "markdown",
      "metadata": {
        "id": "3gKCm5JkaE2C"
      },
      "source": [
        "### Toy 말뭉치"
      ]
    },
    {
      "cell_type": "code",
      "execution_count": 14,
      "metadata": {
        "id": "aXJo0CTGaE2D"
      },
      "outputs": [],
      "source": [
        "corpus = ['king is a very strong man $$@df212#@',\n",
        "          'queen is a wise and pretty woman',\n",
        "          'boy is a young man',\n",
        "          'girl is a young and pretty woman',\n",
        "          'prince is young and will be a strong and wise king',\n",
        "          'princess is a young woman and will be a pretty and wise queen',\n",
        "          'man is strong',\n",
        "          'woman is pretty',\n",
        "          'prince is a boy will be a kingㄱㅇㄹ',\n",
        "          'princess is a girl will be a queen']\n",
        "\n",
        "# corpus = ['왕은 매우 강한 남자이다',\n",
        "#           '여왕은 현명한 예쁜 여자이다',\n",
        "#           '소년은 젊은 남자이다',\n",
        "#           '소녀는 젊은 예쁜 여자이다',\n",
        "#           '왕자는 젊고 현명한 왕이 될 것이다',\n",
        "#           '공주는 젊고 예쁜 현명한 여왕이 될 것이다',\n",
        "#           '남자는 강하다',\n",
        "#           '여자는 예쁘다',\n",
        "#           '왕자는 왕이 될 소년이다',\n",
        "#           '공주는 왕비가 될 소녀이다']"
      ]
    },
    {
      "cell_type": "code",
      "execution_count": null,
      "metadata": {
        "colab": {
          "base_uri": "https://localhost:8080/"
        },
        "id": "X1C-vJv9aE2D",
        "outputId": "1d6dc6b8-d7ae-4441-ff93-bcac69ec1d31"
      },
      "outputs": [],
      "source": [
        "cleaned_corpus = []\n",
        "for text in corpus:\n",
        "    text = re.sub(r'[^a-zA-Z ]', '', text)  #영문\n",
        "    # text = re.sub(r'[^가-힣 ]', '', text)  #한글\n",
        "    print(text)\n",
        "    cleaned_corpus.append(text.lower())"
      ]
    },
    {
      "cell_type": "markdown",
      "metadata": {
        "id": "7Wit5hWIaE2D"
      },
      "source": [
        "### stopword 제거"
      ]
    },
    {
      "cell_type": "code",
      "execution_count": null,
      "metadata": {
        "id": "FxvzVLIeaE2D"
      },
      "outputs": [],
      "source": [
        "from konlpy.tag import Okt\n",
        "okt = Okt()\n",
        "okt.morphs()"
      ]
    },
    {
      "cell_type": "code",
      "execution_count": 5,
      "metadata": {
        "id": "LMaaXWQnaE2E"
      },
      "outputs": [],
      "source": [
        "stop_words = ['is', 'a' ,'will', 'be', 'and']\n",
        "#stop_words = ['은', '가', '이다', '는', '이', '될']\n",
        "results = []\n",
        "for text in corpus:\n",
        "    tmp = []\n",
        "    #for word in okt.morphs(text):\n",
        "    for word in text.split():\n",
        "        if word not in stop_words:\n",
        "            tmp.append(word)\n",
        "    results.append(' '.join(tmp))"
      ]
    },
    {
      "cell_type": "code",
      "execution_count": null,
      "metadata": {
        "colab": {
          "base_uri": "https://localhost:8080/"
        },
        "id": "sN5exbc2aE2E",
        "outputId": "679db22e-0349-436f-b583-63e4bf6a4f0d"
      },
      "outputs": [],
      "source": [
        "cleaned_corpus = results\n",
        "cleaned_corpus"
      ]
    },
    {
      "cell_type": "markdown",
      "metadata": {
        "id": "Kr6-FKwvaE2E"
      },
      "source": [
        "### vocaburary 모음 작성"
      ]
    },
    {
      "cell_type": "code",
      "execution_count": null,
      "metadata": {
        "colab": {
          "base_uri": "https://localhost:8080/"
        },
        "id": "bQS0k-RvaE2E",
        "outputId": "1f47b544-5f62-4e98-d4b5-3b057943bb80"
      },
      "outputs": [],
      "source": [
        "words = []\n",
        "\n",
        "for sentence in corpus:\n",
        "    for word in sentence.split(' '):\n",
        "        words.append(word)\n",
        "\n",
        "words = list(set(words))\n",
        "words"
      ]
    },
    {
      "cell_type": "markdown",
      "metadata": {
        "id": "S_U0GGZhaE2E"
      },
      "source": [
        "### word-to-index, index-to-word 작성\n",
        "\n",
        "- word 를 index 로 변환  \n",
        "\n",
        "- sentence 를 word index 로 변환  \n",
        "\n",
        "- window size 에 따라 train data 생성"
      ]
    },
    {
      "cell_type": "code",
      "execution_count": 8,
      "metadata": {
        "id": "IeH1rHkVaE2E"
      },
      "outputs": [],
      "source": [
        "word2index = dict((w, i) for i, w in enumerate(words))\n",
        "index2word = dict((i, w) for i, w in enumerate(words))"
      ]
    },
    {
      "cell_type": "code",
      "execution_count": null,
      "metadata": {
        "colab": {
          "base_uri": "https://localhost:8080/"
        },
        "id": "iQ8rgXBaaE2E",
        "outputId": "5432027e-feaa-44f7-8f02-eccc572c1394"
      },
      "outputs": [],
      "source": [
        "word2index"
      ]
    },
    {
      "cell_type": "markdown",
      "metadata": {
        "id": "_rZqEidnaE2E"
      },
      "source": [
        "### skip-gram 으로 training data 생성"
      ]
    },
    {
      "cell_type": "code",
      "execution_count": null,
      "metadata": {
        "colab": {
          "base_uri": "https://localhost:8080/"
        },
        "id": "0AzsPAvIaE2F",
        "outputId": "9d1da3e1-e0d2-49b2-c88d-d2143e6fde0c"
      },
      "outputs": [],
      "source": [
        "sentences = []\n",
        "for sentence in corpus:\n",
        "    sentences.append(sentence.split())\n",
        "sentences"
      ]
    },
    {
      "cell_type": "code",
      "execution_count": 11,
      "metadata": {
        "id": "gdeP4OPxaE2F"
      },
      "outputs": [],
      "source": [
        "WINDOW_SIZE = 2\n",
        "\n",
        "data = []\n",
        "for sentence in sentences:\n",
        "    for idx, word in enumerate(sentence):\n",
        "        for neighbor in sentence[max(idx - WINDOW_SIZE, 0) : min(idx + WINDOW_SIZE, len(sentence)) + 1] :\n",
        "            if neighbor != word:\n",
        "                data.append([word, neighbor])"
      ]
    },
    {
      "cell_type": "code",
      "execution_count": null,
      "metadata": {
        "colab": {
          "base_uri": "https://localhost:8080/"
        },
        "id": "RgYx8SwAaE2F",
        "outputId": "5e9bb5c0-1913-46f5-83c5-3a902882c46a"
      },
      "outputs": [],
      "source": [
        "data[:10]"
      ]
    },
    {
      "cell_type": "code",
      "execution_count": null,
      "metadata": {
        "colab": {
          "base_uri": "https://localhost:8080/",
          "height": 206
        },
        "id": "rF2MS7A0aE2F",
        "outputId": "a6bc7ff9-f24e-48fe-ac12-32b9cad4b56d"
      },
      "outputs": [],
      "source": [
        "import pandas as pd\n",
        "\n",
        "df = pd.DataFrame(data, columns = ['input', 'label'])\n",
        "df.head()"
      ]
    },
    {
      "cell_type": "markdown",
      "metadata": {
        "id": "T5LYCLhdaE2F"
      },
      "source": [
        "### One hot encoding"
      ]
    },
    {
      "cell_type": "code",
      "execution_count": null,
      "metadata": {
        "colab": {
          "base_uri": "https://localhost:8080/"
        },
        "id": "B_H_vbQWaE2F",
        "outputId": "a0ed109c-2852-4358-c6ec-18842072ca40"
      },
      "outputs": [],
      "source": [
        "from tensorflow.keras.utils import to_categorical\n",
        "\n",
        "len(words)"
      ]
    },
    {
      "cell_type": "markdown",
      "metadata": {
        "id": "lER0iaMoaE2F"
      },
      "source": [
        "### One hot encoding 된 train, label data"
      ]
    },
    {
      "cell_type": "code",
      "execution_count": 15,
      "metadata": {
        "id": "_cvLB6zraE2F"
      },
      "outputs": [],
      "source": [
        "X = [] # input word\n",
        "Y = [] # target word\n",
        "\n",
        "for x, y in zip(df['input'], df['label']):\n",
        "    X.append(to_categorical(word2index[x], len(words)))\n",
        "    Y.append(to_categorical(word2index[x], len(words)))"
      ]
    },
    {
      "cell_type": "code",
      "execution_count": null,
      "metadata": {
        "colab": {
          "base_uri": "https://localhost:8080/"
        },
        "id": "0Wh-pRMYaE2F",
        "outputId": "28cea6d3-7983-422b-ba45-f25647c34662"
      },
      "outputs": [],
      "source": [
        "print(X[:3])\n",
        "print(Y[:3])"
      ]
    },
    {
      "cell_type": "code",
      "execution_count": 17,
      "metadata": {
        "id": "olHHHVg_aE2F"
      },
      "outputs": [],
      "source": [
        "# convert them to numpy arrays\n",
        "X_train = np.array(X)\n",
        "Y_train = np.array(Y)"
      ]
    },
    {
      "cell_type": "markdown",
      "metadata": {
        "id": "tCCrYjTRaE2G"
      },
      "source": [
        "**시각화를 위해 hidden layer 의 unit 을 2 로 제한**"
      ]
    },
    {
      "cell_type": "code",
      "execution_count": 18,
      "metadata": {
        "id": "VraMW-RgaE2G"
      },
      "outputs": [],
      "source": [
        "model = Sequential()\n",
        "model.add(Input(shape=(len(words),)))\n",
        "model.add(Dense(2))\n",
        "model.add(Dense(len(words)))\n",
        "\n",
        "model.compile(loss=\"categorical_crossentropy\", optimizer='adam', metrics=['accuracy'])"
      ]
    },
    {
      "cell_type": "code",
      "execution_count": null,
      "metadata": {
        "colab": {
          "base_uri": "https://localhost:8080/"
        },
        "id": "u2kWqQkFaE2G",
        "outputId": "17edc230-2c8f-427f-b746-b392e2df08c5",
        "scrolled": true
      },
      "outputs": [],
      "source": [
        "model.fit(X_train, Y_train, epochs=500, batch_size=3)"
      ]
    },
    {
      "cell_type": "markdown",
      "metadata": {
        "id": "79ruvaqlaE2G"
      },
      "source": [
        "### 첫번째 Hidden Layer 추출 및 weight + bias 를 vector 로 합산"
      ]
    },
    {
      "cell_type": "code",
      "execution_count": null,
      "metadata": {
        "colab": {
          "base_uri": "https://localhost:8080/",
          "height": 209
        },
        "id": "YTe-OC2LaE2G",
        "outputId": "2dd4e37a-7518-4397-cd21-1f2f4423415c"
      },
      "outputs": [],
      "source": [
        "model.summary()"
      ]
    },
    {
      "cell_type": "code",
      "execution_count": null,
      "metadata": {
        "colab": {
          "base_uri": "https://localhost:8080/"
        },
        "id": "8Cf3AGeLaE2G",
        "outputId": "2cb5af5f-7c55-4dbd-b29f-e5b4adda6b77"
      },
      "outputs": [],
      "source": [
        "model.layers[0].get_weights()"
      ]
    },
    {
      "cell_type": "code",
      "execution_count": null,
      "metadata": {
        "colab": {
          "base_uri": "https://localhost:8080/"
        },
        "id": "WsfhyXgTaE2G",
        "outputId": "26e43fbc-4eb6-4b62-966f-d1c125ceb85e"
      },
      "outputs": [],
      "source": [
        "vectors= model.layers[0].get_weights()[0] + model.layers[0].get_weights()[1]\n",
        "vectors[:5]"
      ]
    },
    {
      "cell_type": "code",
      "execution_count": null,
      "metadata": {
        "colab": {
          "base_uri": "https://localhost:8080/"
        },
        "id": "k9fUpLT3aE2G",
        "outputId": "9deb5add-64fc-4159-bded-a1836b09a51e"
      },
      "outputs": [],
      "source": [
        "words"
      ]
    },
    {
      "cell_type": "code",
      "execution_count": null,
      "metadata": {
        "colab": {
          "base_uri": "https://localhost:8080/",
          "height": 613
        },
        "id": "VaaVLO61aE2G",
        "outputId": "1f42222e-86b3-4967-e1ee-6081b0cfd63c"
      },
      "outputs": [],
      "source": [
        "w2v = pd.DataFrame(vectors, columns = ['x1', 'x2'])\n",
        "w2v['word'] = words\n",
        "w2v"
      ]
    },
    {
      "cell_type": "code",
      "execution_count": null,
      "metadata": {
        "colab": {
          "base_uri": "https://localhost:8080/",
          "height": 683
        },
        "id": "8zAWNi2TaE2G",
        "outputId": "ac7b1dbc-5f96-4952-dd68-77dab92b73d7"
      },
      "outputs": [],
      "source": [
        "import matplotlib.pyplot as plt\n",
        "%matplotlib inline\n",
        "#한글 폰트 사용\n",
        "# from matplotlib import font_manager\n",
        "# import matplotlib\n",
        "# font_path = \"C:/Windows/Fonts/H2GTRM.TTF\"                       #폰트 경로\n",
        "# font_name = font_manager.FontProperties(fname=font_path).get_name()  #폰트 이름 얻어오기\n",
        "# matplotlib.rc('font', family=font_name)                                 #font 지정\n",
        "# matplotlib.rcParams['axes.unicode_minus'] = False               #한글사용시 마이너스 사인 깨짐 방지\n",
        "\n",
        "fig, ax = plt.subplots(figsize=(12,8))\n",
        "\n",
        "for word, x1, x2 in zip(w2v['word'], w2v['x1'], w2v['x2']):\n",
        "    ax.annotate(word, (x1, x2))\n",
        "\n",
        "PADDING = 1.0\n",
        "x_axis_min = np.min(vectors, axis=0)[0] - PADDING\n",
        "y_axis_min = np.min(vectors, axis=0)[1] - PADDING\n",
        "x_axis_max = np.max(vectors, axis=0)[0] + PADDING\n",
        "y_axis_max = np.max(vectors, axis=0)[1] + PADDING\n",
        "\n",
        "plt.xlim(x_axis_min, x_axis_max)\n",
        "plt.ylim(y_axis_min, y_axis_max)\n",
        "plt.xlabel('x1')\n",
        "plt.ylabel('x2')\n",
        "\n",
        "plt.show()"
      ]
    },
    {
      "cell_type": "code",
      "execution_count": 25,
      "metadata": {
        "id": "hBy01H05aE2H"
      },
      "outputs": [],
      "source": []
    }
  ],
  "metadata": {
    "colab": {
      "provenance": []
    },
    "kernelspec": {
      "display_name": "nlp",
      "language": "python",
      "name": "python3"
    },
    "language_info": {
      "codemirror_mode": {
        "name": "ipython",
        "version": 3
      },
      "file_extension": ".py",
      "mimetype": "text/x-python",
      "name": "python",
      "nbconvert_exporter": "python",
      "pygments_lexer": "ipython3",
      "version": "3.12.3"
    }
  },
  "nbformat": 4,
  "nbformat_minor": 0
}
