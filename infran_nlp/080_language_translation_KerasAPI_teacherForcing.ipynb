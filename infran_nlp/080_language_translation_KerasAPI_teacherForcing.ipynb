{
 "cells": [
  {
   "cell_type": "markdown",
   "metadata": {
    "id": "Q15ChKHSG8y4"
   },
   "source": [
    "# 080. seq2seq language translation\n",
    "\n",
    "### Encoder-Decoder model\n",
    "\n",
    "\n",
    "- 영어-한국어 번역"
   ]
  },
  {
   "cell_type": "code",
   "execution_count": 44,
   "metadata": {
    "colab": {
     "base_uri": "https://localhost:8080/"
    },
    "id": "8qdw8FpThxGP",
    "outputId": "4b4b5e42-0322-438a-af60-81d1f68634ed"
   },
   "outputs": [
    {
     "name": "stdout",
     "output_type": "stream",
     "text": [
      "^C\n"
     ]
    },
    {
     "name": "stdout",
     "output_type": "stream",
     "text": [
      "Requirement already satisfied: gdown in c:\\users\\khk17\\workspace\\python\\nlp_module\\nlp_venv\\lib\\site-packages (5.2.0)\n",
      "Requirement already satisfied: beautifulsoup4 in c:\\users\\khk17\\workspace\\python\\nlp_module\\nlp_venv\\lib\\site-packages (from gdown) (4.12.3)\n",
      "Requirement already satisfied: filelock in c:\\users\\khk17\\workspace\\python\\nlp_module\\nlp_venv\\lib\\site-packages (from gdown) (3.16.1)\n",
      "Requirement already satisfied: requests[socks] in c:\\users\\khk17\\workspace\\python\\nlp_module\\nlp_venv\\lib\\site-packages (from gdown) (2.32.3)\n",
      "Requirement already satisfied: tqdm in c:\\users\\khk17\\workspace\\python\\nlp_module\\nlp_venv\\lib\\site-packages (from gdown) (4.66.5)\n",
      "Requirement already satisfied: soupsieve>1.2 in c:\\users\\khk17\\workspace\\python\\nlp_module\\nlp_venv\\lib\\site-packages (from beautifulsoup4->gdown) (2.6)\n",
      "Requirement already satisfied: charset-normalizer<4,>=2 in c:\\users\\khk17\\workspace\\python\\nlp_module\\nlp_venv\\lib\\site-packages (from requests[socks]->gdown) (3.4.0)\n",
      "Requirement already satisfied: idna<4,>=2.5 in c:\\users\\khk17\\workspace\\python\\nlp_module\\nlp_venv\\lib\\site-packages (from requests[socks]->gdown) (3.10)\n",
      "Requirement already satisfied: urllib3<3,>=1.21.1 in c:\\users\\khk17\\workspace\\python\\nlp_module\\nlp_venv\\lib\\site-packages (from requests[socks]->gdown) (2.2.3)\n",
      "Requirement already satisfied: certifi>=2017.4.17 in c:\\users\\khk17\\workspace\\python\\nlp_module\\nlp_venv\\lib\\site-packages (from requests[socks]->gdown) (2024.8.30)\n",
      "Requirement already satisfied: PySocks!=1.5.7,>=1.5.6 in c:\\users\\khk17\\workspace\\python\\nlp_module\\nlp_venv\\lib\\site-packages (from requests[socks]->gdown) (1.7.1)\n",
      "Requirement already satisfied: colorama in c:\\users\\khk17\\workspace\\python\\nlp_module\\nlp_venv\\lib\\site-packages (from tqdm->gdown) (0.4.6)\n"
     ]
    },
    {
     "name": "stderr",
     "output_type": "stream",
     "text": [
      "\n",
      "[notice] A new release of pip is available: 24.0 -> 24.2\n",
      "[notice] To update, run: python.exe -m pip install --upgrade pip\n"
     ]
    }
   ],
   "source": [
    "!pip install --upgrade --no-cache-dir gdown"
   ]
  },
  {
   "cell_type": "markdown",
   "metadata": {
    "id": "_kawPBRbh6NO"
   },
   "source": [
    "한글 Glove file download"
   ]
  },
  {
   "cell_type": "code",
   "execution_count": 33,
   "metadata": {
    "colab": {
     "base_uri": "https://localhost:8080/"
    },
    "id": "HC1Ot3voh4-k",
    "outputId": "58bafb3c-2404-483d-d1da-3f3a4f0896d5"
   },
   "outputs": [
    {
     "name": "stderr",
     "output_type": "stream",
     "text": [
      "Downloading...\n",
      "From (original): https://drive.google.com/uc?id=1zR1TJm9hjqinSU0OkCcAmaVjfeTgmoOC\n",
      "From (redirected): https://drive.google.com/uc?id=1zR1TJm9hjqinSU0OkCcAmaVjfeTgmoOC&confirm=t&uuid=d89247bc-7625-47e5-90a5-6878480cbf11\n",
      "To: c:\\Users\\khk17\\workspace\\python\\nlp_module\\infran_nlp\\glove.6B.100d.txt\n",
      "\n",
      "  0%|          | 0.00/347M [00:00<?, ?B/s]\n",
      "  0%|          | 524k/347M [00:00<01:55, 3.00MB/s]\n",
      "  1%|          | 2.10M/347M [00:00<00:42, 8.09MB/s]\n",
      "  1%|          | 3.67M/347M [00:00<00:31, 10.9MB/s]\n",
      "  2%|▏         | 5.77M/347M [00:00<00:25, 13.4MB/s]\n",
      "  2%|▏         | 7.86M/347M [00:00<00:22, 14.8MB/s]\n",
      "  3%|▎         | 9.96M/347M [00:00<00:21, 15.8MB/s]\n",
      "  3%|▎         | 12.1M/347M [00:01<00:32, 10.3MB/s]\n",
      "  4%|▍         | 14.2M/347M [00:01<00:27, 12.0MB/s]\n",
      "  5%|▍         | 16.3M/347M [00:01<00:24, 13.5MB/s]\n",
      "  5%|▌         | 18.4M/347M [00:01<00:23, 14.2MB/s]\n",
      "  6%|▌         | 20.4M/347M [00:01<00:30, 10.6MB/s]\n",
      "  6%|▋         | 22.5M/347M [00:01<00:27, 11.9MB/s]\n",
      "  7%|▋         | 24.6M/347M [00:02<00:24, 12.9MB/s]\n",
      "  8%|▊         | 26.7M/347M [00:02<00:22, 14.0MB/s]\n",
      "  8%|▊         | 28.8M/347M [00:02<00:21, 14.7MB/s]\n",
      "  9%|▉         | 30.9M/347M [00:02<00:20, 15.5MB/s]\n",
      " 10%|▉         | 33.0M/347M [00:02<00:19, 15.7MB/s]\n",
      " 10%|█         | 35.1M/347M [00:02<00:18, 16.4MB/s]\n",
      " 11%|█         | 37.2M/347M [00:02<00:18, 16.6MB/s]\n",
      " 11%|█▏        | 39.3M/347M [00:02<00:18, 17.0MB/s]\n",
      " 12%|█▏        | 41.4M/347M [00:02<00:17, 17.2MB/s]\n",
      " 13%|█▎        | 43.5M/347M [00:03<00:17, 17.5MB/s]\n",
      " 13%|█▎        | 45.6M/347M [00:03<00:17, 17.6MB/s]\n",
      " 14%|█▎        | 47.7M/347M [00:03<00:17, 17.6MB/s]\n",
      " 14%|█▍        | 49.8M/347M [00:03<00:16, 17.6MB/s]\n",
      " 15%|█▍        | 51.9M/347M [00:03<00:16, 17.8MB/s]\n",
      " 16%|█▌        | 54.0M/347M [00:03<00:16, 17.3MB/s]\n",
      " 16%|█▌        | 56.1M/347M [00:03<00:16, 17.4MB/s]\n",
      " 17%|█▋        | 58.2M/347M [00:03<00:16, 17.5MB/s]\n",
      " 17%|█▋        | 60.3M/347M [00:04<00:17, 16.5MB/s]\n",
      " 18%|█▊        | 62.4M/347M [00:04<00:16, 16.9MB/s]\n",
      " 19%|█▊        | 64.5M/347M [00:04<00:16, 17.1MB/s]\n",
      " 19%|█▉        | 66.6M/347M [00:04<00:16, 17.1MB/s]\n",
      " 20%|█▉        | 68.7M/347M [00:04<00:16, 16.8MB/s]\n",
      " 20%|██        | 70.8M/347M [00:04<00:15, 17.3MB/s]\n",
      " 21%|██        | 72.9M/347M [00:04<00:15, 17.8MB/s]\n",
      " 22%|██▏       | 75.0M/347M [00:04<00:15, 18.0MB/s]\n",
      " 22%|██▏       | 77.1M/347M [00:05<00:14, 18.3MB/s]\n",
      " 23%|██▎       | 79.2M/347M [00:05<00:14, 18.7MB/s]\n",
      " 23%|██▎       | 81.3M/347M [00:05<00:20, 13.0MB/s]\n",
      " 24%|██▍       | 82.8M/347M [00:05<00:20, 12.9MB/s]\n",
      " 24%|██▍       | 84.9M/347M [00:05<00:18, 14.0MB/s]\n",
      " 25%|██▌       | 87.0M/347M [00:05<00:17, 14.8MB/s]\n",
      " 26%|██▌       | 89.1M/347M [00:05<00:17, 14.8MB/s]\n",
      " 26%|██▋       | 91.2M/347M [00:06<00:16, 15.9MB/s]\n",
      " 27%|██▋       | 93.3M/347M [00:06<00:15, 16.5MB/s]\n",
      " 27%|██▋       | 95.4M/347M [00:06<00:15, 16.7MB/s]\n",
      " 28%|██▊       | 97.5M/347M [00:06<00:16, 15.5MB/s]\n",
      " 29%|██▊       | 99.6M/347M [00:06<00:15, 16.3MB/s]\n",
      " 29%|██▉       | 102M/347M [00:06<00:14, 17.2MB/s] \n",
      " 30%|██▉       | 104M/347M [00:06<00:13, 17.7MB/s]\n",
      " 31%|███       | 106M/347M [00:06<00:13, 18.1MB/s]\n",
      " 31%|███       | 108M/347M [00:06<00:13, 17.9MB/s]\n",
      " 32%|███▏      | 110M/347M [00:07<00:13, 18.1MB/s]\n",
      " 32%|███▏      | 112M/347M [00:07<00:13, 18.0MB/s]\n",
      " 33%|███▎      | 114M/347M [00:07<00:12, 18.2MB/s]\n",
      " 34%|███▎      | 116M/347M [00:07<00:12, 18.1MB/s]\n",
      " 34%|███▍      | 118M/347M [00:07<00:12, 18.3MB/s]\n",
      " 35%|███▍      | 121M/347M [00:07<00:12, 18.4MB/s]\n",
      " 35%|███▌      | 123M/347M [00:07<00:11, 18.7MB/s]\n",
      " 36%|███▌      | 125M/347M [00:07<00:11, 18.9MB/s]\n",
      " 37%|███▋      | 127M/347M [00:08<00:12, 17.2MB/s]\n",
      " 37%|███▋      | 129M/347M [00:08<00:12, 17.1MB/s]\n",
      " 38%|███▊      | 131M/347M [00:08<00:12, 17.3MB/s]\n",
      " 38%|███▊      | 133M/347M [00:08<00:14, 14.8MB/s]\n",
      " 39%|███▉      | 135M/347M [00:08<00:14, 14.3MB/s]\n",
      " 39%|███▉      | 137M/347M [00:08<00:13, 15.5MB/s]\n",
      " 40%|████      | 139M/347M [00:08<00:12, 16.6MB/s]\n",
      " 41%|████      | 141M/347M [00:08<00:12, 17.0MB/s]\n",
      " 41%|████      | 143M/347M [00:09<00:11, 17.5MB/s]\n",
      " 42%|████▏     | 145M/347M [00:09<00:11, 17.7MB/s]\n",
      " 42%|████▏     | 147M/347M [00:09<00:11, 17.8MB/s]\n",
      " 43%|████▎     | 149M/347M [00:09<00:11, 17.8MB/s]\n",
      " 44%|████▎     | 152M/347M [00:09<00:12, 15.3MB/s]\n",
      " 44%|████▍     | 154M/347M [00:09<00:20, 9.48MB/s]\n",
      " 45%|████▍     | 156M/347M [00:10<00:17, 10.9MB/s]\n",
      " 45%|████▌     | 158M/347M [00:10<00:15, 12.4MB/s]\n",
      " 46%|████▌     | 160M/347M [00:10<00:18, 9.96MB/s]\n",
      " 47%|████▋     | 162M/347M [00:10<00:16, 11.5MB/s]\n",
      " 47%|████▋     | 164M/347M [00:10<00:14, 12.8MB/s]\n",
      " 48%|████▊     | 166M/347M [00:10<00:12, 14.0MB/s]\n",
      " 48%|████▊     | 168M/347M [00:10<00:11, 15.0MB/s]\n",
      " 49%|████▉     | 170M/347M [00:11<00:11, 15.6MB/s]\n",
      " 50%|████▉     | 172M/347M [00:11<00:10, 16.4MB/s]\n",
      " 50%|█████     | 175M/347M [00:11<00:10, 16.6MB/s]\n",
      " 51%|█████     | 177M/347M [00:11<00:10, 16.7MB/s]\n",
      " 52%|█████▏    | 179M/347M [00:11<00:10, 16.8MB/s]\n",
      " 52%|█████▏    | 181M/347M [00:11<00:09, 16.8MB/s]\n",
      " 53%|█████▎    | 183M/347M [00:11<00:09, 16.9MB/s]\n",
      " 53%|█████▎    | 185M/347M [00:11<00:09, 17.2MB/s]\n",
      " 54%|█████▍    | 187M/347M [00:12<00:09, 17.5MB/s]\n",
      " 55%|█████▍    | 189M/347M [00:12<00:08, 17.9MB/s]\n",
      " 55%|█████▌    | 191M/347M [00:12<00:08, 18.2MB/s]\n",
      " 56%|█████▌    | 193M/347M [00:12<00:08, 18.4MB/s]\n",
      " 56%|█████▋    | 196M/347M [00:12<00:08, 18.5MB/s]\n",
      " 57%|█████▋    | 198M/347M [00:12<00:07, 18.8MB/s]\n",
      " 58%|█████▊    | 200M/347M [00:12<00:07, 18.8MB/s]\n",
      " 58%|█████▊    | 202M/347M [00:12<00:07, 18.7MB/s]\n",
      " 59%|█████▉    | 204M/347M [00:12<00:07, 18.9MB/s]\n",
      " 59%|█████▉    | 206M/347M [00:13<00:07, 18.9MB/s]\n",
      " 60%|█████▉    | 208M/347M [00:13<00:07, 18.8MB/s]\n",
      " 61%|██████    | 210M/347M [00:13<00:07, 19.0MB/s]\n",
      " 61%|██████    | 212M/347M [00:13<00:07, 17.6MB/s]\n",
      " 62%|██████▏   | 214M/347M [00:13<00:07, 17.9MB/s]\n",
      " 62%|██████▏   | 217M/347M [00:13<00:07, 18.1MB/s]\n",
      " 63%|██████▎   | 219M/347M [00:13<00:07, 18.3MB/s]\n",
      " 64%|██████▎   | 221M/347M [00:13<00:07, 15.9MB/s]\n",
      " 64%|██████▍   | 223M/347M [00:14<00:07, 16.5MB/s]\n",
      " 65%|██████▍   | 225M/347M [00:14<00:07, 17.1MB/s]\n",
      " 65%|██████▌   | 227M/347M [00:14<00:06, 17.7MB/s]\n",
      " 66%|██████▌   | 229M/347M [00:14<00:09, 13.0MB/s]\n",
      " 67%|██████▋   | 231M/347M [00:14<00:08, 14.2MB/s]\n",
      " 67%|██████▋   | 233M/347M [00:14<00:07, 15.4MB/s]\n",
      " 68%|██████▊   | 235M/347M [00:14<00:06, 16.3MB/s]\n",
      " 68%|██████▊   | 238M/347M [00:14<00:06, 16.7MB/s]\n",
      " 69%|██████▉   | 240M/347M [00:15<00:06, 17.2MB/s]\n",
      " 70%|██████▉   | 242M/347M [00:15<00:05, 17.6MB/s]\n",
      " 70%|███████   | 244M/347M [00:15<00:05, 18.1MB/s]\n",
      " 71%|███████   | 246M/347M [00:15<00:05, 18.2MB/s]\n",
      " 71%|███████▏  | 248M/347M [00:15<00:05, 18.3MB/s]\n",
      " 72%|███████▏  | 250M/347M [00:15<00:05, 18.5MB/s]\n",
      " 73%|███████▎  | 252M/347M [00:15<00:05, 18.6MB/s]\n",
      " 73%|███████▎  | 254M/347M [00:15<00:05, 18.4MB/s]\n",
      " 74%|███████▍  | 256M/347M [00:16<00:04, 18.5MB/s]\n",
      " 74%|███████▍  | 258M/347M [00:16<00:04, 18.7MB/s]\n",
      " 75%|███████▌  | 261M/347M [00:16<00:04, 18.3MB/s]\n",
      " 76%|███████▌  | 263M/347M [00:16<00:04, 18.2MB/s]\n",
      " 76%|███████▋  | 265M/347M [00:16<00:04, 18.2MB/s]\n",
      " 77%|███████▋  | 267M/347M [00:16<00:04, 18.5MB/s]\n",
      " 77%|███████▋  | 269M/347M [00:16<00:04, 18.6MB/s]\n",
      " 78%|███████▊  | 271M/347M [00:16<00:04, 18.3MB/s]\n",
      " 79%|███████▊  | 273M/347M [00:16<00:04, 18.4MB/s]\n",
      " 79%|███████▉  | 275M/347M [00:17<00:03, 18.1MB/s]\n",
      " 80%|███████▉  | 277M/347M [00:17<00:03, 17.9MB/s]\n",
      " 81%|████████  | 279M/347M [00:17<00:03, 18.2MB/s]\n",
      " 81%|████████  | 282M/347M [00:17<00:03, 18.4MB/s]\n",
      " 82%|████████▏ | 284M/347M [00:17<00:03, 18.6MB/s]\n",
      " 82%|████████▏ | 286M/347M [00:17<00:03, 18.5MB/s]\n",
      " 83%|████████▎ | 288M/347M [00:17<00:03, 18.8MB/s]\n",
      " 84%|████████▎ | 290M/347M [00:17<00:03, 18.6MB/s]\n",
      " 84%|████████▍ | 292M/347M [00:17<00:02, 18.6MB/s]\n",
      " 85%|████████▍ | 294M/347M [00:18<00:02, 18.6MB/s]\n",
      " 85%|████████▌ | 296M/347M [00:18<00:03, 12.8MB/s]\n",
      " 86%|████████▌ | 298M/347M [00:18<00:03, 14.0MB/s]\n",
      " 87%|████████▋ | 300M/347M [00:18<00:03, 15.2MB/s]\n",
      " 87%|████████▋ | 303M/347M [00:18<00:02, 16.2MB/s]\n",
      " 88%|████████▊ | 305M/347M [00:19<00:05, 7.34MB/s]\n",
      " 88%|████████▊ | 307M/347M [00:19<00:04, 8.92MB/s]\n",
      " 89%|████████▉ | 309M/347M [00:19<00:03, 10.5MB/s]\n",
      " 89%|████████▉ | 310M/347M [00:19<00:03, 10.5MB/s]\n",
      " 90%|████████▉ | 312M/347M [00:19<00:03, 10.7MB/s]\n",
      " 90%|█████████ | 314M/347M [00:19<00:02, 12.2MB/s]\n",
      " 91%|█████████ | 316M/347M [00:20<00:02, 13.5MB/s]\n",
      " 92%|█████████▏| 318M/347M [00:20<00:01, 14.6MB/s]\n",
      " 92%|█████████▏| 320M/347M [00:20<00:02, 13.1MB/s]\n",
      " 93%|█████████▎| 322M/347M [00:20<00:01, 14.1MB/s]\n",
      " 93%|█████████▎| 325M/347M [00:20<00:01, 15.0MB/s]\n",
      " 94%|█████████▍| 327M/347M [00:20<00:01, 15.4MB/s]\n",
      " 95%|█████████▍| 329M/347M [00:20<00:01, 16.0MB/s]\n",
      " 95%|█████████▌| 331M/347M [00:21<00:00, 16.7MB/s]\n",
      " 96%|█████████▌| 333M/347M [00:21<00:00, 17.0MB/s]\n",
      " 97%|█████████▋| 335M/347M [00:21<00:00, 17.2MB/s]\n",
      " 97%|█████████▋| 337M/347M [00:21<00:00, 17.4MB/s]\n",
      " 98%|█████████▊| 339M/347M [00:21<00:00, 17.5MB/s]\n",
      " 98%|█████████▊| 341M/347M [00:21<00:00, 17.6MB/s]\n",
      " 99%|█████████▉| 343M/347M [00:21<00:00, 17.5MB/s]\n",
      "100%|█████████▉| 346M/347M [00:21<00:00, 17.7MB/s]\n",
      "100%|██████████| 347M/347M [00:21<00:00, 15.8MB/s]\n"
     ]
    }
   ],
   "source": [
    "!gdown 1zR1TJm9hjqinSU0OkCcAmaVjfeTgmoOC"
   ]
  },
  {
   "cell_type": "code",
   "execution_count": 1,
   "metadata": {
    "id": "LC4sXvgFG8y5"
   },
   "outputs": [],
   "source": [
    "import numpy as np\n",
    "import pandas as pd\n",
    "import matplotlib.pyplot as plt\n",
    "\n",
    "import tensorflow as tf\n",
    "from tensorflow.keras.models import Model\n",
    "from tensorflow.keras.layers import Dense, Embedding, Input, LSTM, Bidirectional\n",
    "\n",
    "from tensorflow.keras.preprocessing.text import Tokenizer\n",
    "from tensorflow.keras.preprocessing.sequence import pad_sequences\n",
    "from tensorflow.keras.utils import to_categorical\n",
    "from tensorflow.keras.optimizers import Adam\n",
    "from tensorflow.keras.utils import plot_model"
   ]
  },
  {
   "cell_type": "code",
   "execution_count": 2,
   "metadata": {
    "id": "k9fxpcfPG8y9"
   },
   "outputs": [],
   "source": [
    "BATCH_SIZE = 64\n",
    "MAX_VOCAB_SIZE = 10000\n",
    "EMBEDDING_DIM = 100\n",
    "LATENT_DIM = 512"
   ]
  },
  {
   "cell_type": "markdown",
   "metadata": {
    "id": "88dOCLrOG8zA"
   },
   "source": [
    "## 입력 data list 작성  \n",
    "\n",
    "### 1. input_texts     : original language 의 input text  \n",
    "\n",
    "\n",
    "### 2. Teacher Forcing 용 input / target data 생성\n",
    "\n",
    "- target_texts_inputs  : 1 만큼 offset 된 target language sentence $\\rightarrow$ `<sos>....`  \n",
    "- target_texts  : target language sentence  $\\rightarrow$ `.....<eos>`\n",
    "\n",
    "\n",
    "\n",
    "- data 는 http://www.manythings.org/anki/  (Tab-delimited Bilingual Sentence Pairs) 에서 download  \n",
    "\n",
    "\n",
    "    - English(input) + `\\t` + The Other Language(target) + `\\t` + Attribution(기여자) 형식으로 구성\n",
    "        ex)\n",
    "        - Hi.\t안녕.\tCC-BY 2.0 (France) Attribution: tatoeba.org #538123 (CM) & #8355888 (Eunhee).\n",
    "        - I like horses.\t나는 말을 좋아해.\tCC-BY 2.0 (France) Attribution: tatoeba.org #1331062 (Kirschen112) & #8365125 (Eunhee)\n",
    "        - We had fun with Tom.\t우리는 톰과 즐거운 시간을 가졌다.\tCC-BY 2.0 (France) Attribution: tatoeba.org #6845055 (CK) & #6845295 (dalgarak)\n",
    "\n",
    "        \n",
    "   "
   ]
  },
  {
   "cell_type": "code",
   "execution_count": 3,
   "metadata": {
    "id": "GajIBj3cG8zA"
   },
   "outputs": [],
   "source": [
    "file_path = tf.keras.utils.get_file(\"kor.txt\",\n",
    "             \"https://raw.githubusercontent.com/ironmanciti/infran_NLP/main/data/kor.txt\")"
   ]
  },
  {
   "cell_type": "markdown",
   "metadata": {
    "id": "HlozoHc8GI8C"
   },
   "source": [
    "- teacher forcing 용 input, target 작성"
   ]
  },
  {
   "cell_type": "code",
   "execution_count": 18,
   "metadata": {
    "colab": {
     "base_uri": "https://localhost:8080/"
    },
    "id": "FyP9H8NeG8zD",
    "outputId": "2a5bd0f4-0a83-48d5-cd61-1f53bb3d3aa0"
   },
   "outputs": [
    {
     "name": "stdout",
     "output_type": "stream",
     "text": [
      "English : ['Can rabbits swim?', 'Can we talk here?', 'Choose carefully.', 'Come immediately.', 'Did you know him?', 'Do you like fish?', 'Do you like fish?', 'Do you like fish?', 'Do you like fish?', 'Do you like tofu?']\n",
      "\n",
      "Teacher Forcing Input : ['<sos> 토끼는 수영할 수 있을까?', '<sos> 여기서 대화해도 될까요?', '<sos> 신중하게 골라.', '<sos> 즉시 와.', '<sos> 그를 알고 계셨어요?', '<sos> 생선 좋아해요?', '<sos> 생선 좋아해?', '<sos> 물고기 좋아하나요?', '<sos> 물고기 좋아해?', '<sos> 두부 좋아해?']\n",
      "\n",
      "Teacher Forcing Target ['토끼는 수영할 수 있을까? <eos>', '여기서 대화해도 될까요? <eos>', '신중하게 골라. <eos>', '즉시 와. <eos>', '그를 알고 계셨어요? <eos>', '생선 좋아해요? <eos>', '생선 좋아해? <eos>', '물고기 좋아하나요? <eos>', '물고기 좋아해? <eos>', '두부 좋아해? <eos>']\n"
     ]
    }
   ],
   "source": [
    "file_path = r\"C:\\Users\\khk17\\workspace\\python\\nlp_module\\data\\kor.txt\"\n",
    "\n",
    "with open(file_path, 'r', encoding='utf-8') as f:\n",
    "    data = f.readlines()\n",
    "\n",
    "eng_texts = []\n",
    "kor_inputs = []\n",
    "kor_targets = []\n",
    "\n",
    "for line in data:\n",
    "\n",
    "    if '\\t' not in line:     # \\t 가 없는 line 은 skip\n",
    "        continue\n",
    "\n",
    "    # input 과 target translation 구분\n",
    "    english, korean, attribution = line.split('\\t')\n",
    "\n",
    "    # target input 과 output 을 teacher forcing 입력 구성\n",
    "    input = '<sos> ' + korean\n",
    "    target = korean + ' <eos>'\n",
    "\n",
    "    eng_texts.append(english)     # 영어 문장\n",
    "\n",
    "    kor_inputs.append(input)\n",
    "    kor_targets.append(target)\n",
    "\n",
    "len(eng_texts), len(kor_inputs), len(kor_targets)\n",
    "\n",
    "print(\"English :\", eng_texts[1100:1110])\n",
    "print(\"\\nTeacher Forcing Input :\", kor_inputs[1100:1110])\n",
    "print(\"\\nTeacher Forcing Target\", kor_targets[1100:1110])"
   ]
  },
  {
   "cell_type": "markdown",
   "metadata": {
    "id": "9xJ-KzkAG8zK"
   },
   "source": [
    "## Tokenization\n",
    "\n",
    "- language 가 2 개 이므로 언어별로 서로 다른 tokenizer 생성. 따라서, 2 개의 word_index 구성\n",
    "\n",
    "### 영어 input text 의 tokenizer"
   ]
  },
  {
   "cell_type": "code",
   "execution_count": 21,
   "metadata": {
    "colab": {
     "base_uri": "https://localhost:8080/"
    },
    "id": "xnBwFkjtG8zO",
    "outputId": "ad5e20ec-72d0-4c40-b184-1a3e5b50057b"
   },
   "outputs": [
    {
     "name": "stdout",
     "output_type": "stream",
     "text": [
      "ENG\n",
      "[1, 1397, 2, 7, 774]\n",
      "I baked Tom a cake.\n",
      "------------------------------\n"
     ]
    }
   ],
   "source": [
    "# 영어 텍스트 데이터를 위한 Tokenizer 객체 생성 (최대 단어 수 지정)\n",
    "tokenizer_eng = Tokenizer(num_words=MAX_VOCAB_SIZE)\n",
    "\n",
    "# 영어 텍스트 데이터를 사용하여 토크나이저 학습 수행 (단어 인덱스 구축)\n",
    "tokenizer_eng.fit_on_texts(eng_texts)\n",
    "\n",
    "# 영어 텍스트 데이터를 시퀀스로 변환\n",
    "eng_sequences = tokenizer_eng.texts_to_sequences(eng_texts)\n",
    "\n",
    "print('ENG')\n",
    "print(eng_sequences[1500])\n",
    "print(eng_texts[1500])\n",
    "print(\"-\"*30)\n",
    "\n"
   ]
  },
  {
   "cell_type": "code",
   "execution_count": 22,
   "metadata": {
    "colab": {
     "base_uri": "https://localhost:8080/"
    },
    "id": "IeySmpW7G8zS",
    "outputId": "b7f1af6f-b6b7-46bf-e232-644294a91d9c"
   },
   "outputs": [
    {
     "name": "stdout",
     "output_type": "stream",
     "text": [
      "unique input token 수 : 3199\n",
      "Input Text 의 단어 수 : 3200\n",
      "Input Text 의 최대 길이 : 101\n"
     ]
    }
   ],
   "source": [
    "# 영어 단어를 인덱스로 매핑한 사전 가져오기\n",
    "word2idx_eng = tokenizer_eng.word_index\n",
    "\n",
    "# 고유한 입력 토큰 수 출력\n",
    "print(f'unique input token 수 : {len(word2idx_eng)}')\n",
    "\n",
    "# 사용할 단어 수 계산 (최대 어휘 크기와 실제 단어 수 + 1 중 작은 값)\n",
    "num_words_eng = min(MAX_VOCAB_SIZE, len(word2idx_eng) + 1)\n",
    "print(\"Input Text 의 단어 수 :\", num_words_eng)\n",
    "\n",
    "# 입력 텍스트의 최대 길이 계산\n",
    "max_len_eng = max(len(s) for s in eng_sequences)\n",
    "print(\"Input Text 의 최대 길이 :\", max_len_eng)"
   ]
  },
  {
   "cell_type": "markdown",
   "metadata": {
    "id": "UnAyAZK6G8zU"
   },
   "source": [
    "### 한국어 Input Text"
   ]
  },
  {
   "cell_type": "markdown",
   "metadata": {
    "id": "RvBj6QEPG8zX"
   },
   "source": [
    "### Translation language 의 tokenizer\n",
    "- 주의 사항 : $<sos>, <eos>$때문에 special character 를 filtering 하면 안됨"
   ]
  },
  {
   "cell_type": "code",
   "execution_count": 25,
   "metadata": {
    "colab": {
     "base_uri": "https://localhost:8080/"
    },
    "id": "7Qqal6P9G8zX",
    "outputId": "ca6dac20-95c9-4be4-e50e-e17b34edd25c"
   },
   "outputs": [
    {
     "name": "stdout",
     "output_type": "stream",
     "text": [
      "KOR\n",
      "[1, 4, 106, 1155, 3548]\n",
      "<sos> 나는 톰에게 케이크를 구워줬다.\n",
      "[4, 106, 1155, 3548, 2]\n",
      "나는 톰에게 케이크를 구워줬다. <eos>\n",
      "------------------------------\n"
     ]
    }
   ],
   "source": [
    "# 한국어 텍스트 데이터를 위한 Tokenizer 객체 생성 (최대 단어 수 지정, 필터 비활성화)\n",
    "tokenizer_kor = Tokenizer(num_words=MAX_VOCAB_SIZE, filters=\"\")\n",
    "\n",
    "# 한국어 입력 및 타겟 텍스트 데이터를 사용하여 토크나이저 학습 수행 (단어 인덱스 구축)\n",
    "tokenizer_kor.fit_on_texts(kor_inputs + kor_targets)\n",
    "\n",
    "# 한국어 입력 텍스트 데이터를 시퀀스로 변환\n",
    "kor_input_sequences = tokenizer_kor.texts_to_sequences(kor_inputs)\n",
    "\n",
    "# 한국어 타겟 텍스트 데이터를 시퀀스로 변환\n",
    "kor_target_sequences = tokenizer_kor.texts_to_sequences(kor_targets)\n",
    "\n",
    "print('KOR')\n",
    "print(kor_input_sequences[1500])\n",
    "print(kor_inputs[1500])\n",
    "print(kor_target_sequences[1500])\n",
    "print(kor_targets[1500])\n",
    "print(\"-\"*30)"
   ]
  },
  {
   "cell_type": "code",
   "execution_count": 26,
   "metadata": {
    "colab": {
     "base_uri": "https://localhost:8080/"
    },
    "id": "QUXO5Ny7G8zc",
    "outputId": "b01964d1-994e-419d-caa4-d3ce437826a5"
   },
   "outputs": [
    {
     "name": "stdout",
     "output_type": "stream",
     "text": [
      "unique output tokens : 8287\n",
      "Target 언어의 단어 수 : 8288\n",
      "Target 언어의 최대 길이 : 90\n"
     ]
    }
   ],
   "source": [
    "# 한국어 단어를 인덱스로 매핑한 사전 가져오기\n",
    "word2idx_kor = tokenizer_kor.word_index\n",
    "\n",
    "# 고유한 출력 토큰 수 출력\n",
    "print(f'unique output tokens : {len(word2idx_kor)}')\n",
    "\n",
    "# 사용할 단어 수 계산 (실제 단어 수 + 1)\n",
    "num_words_kor = len(word2idx_kor) + 1\n",
    "print(\"Target 언어의 단어 수 :\", num_words_kor)\n",
    "\n",
    "# 타겟 텍스트의 최대 길이 계산\n",
    "max_len_kor = max(len(s) for s in kor_target_sequences)\n",
    "print(\"Target 언어의 최대 길이 :\", max_len_kor)"
   ]
  },
  {
   "cell_type": "markdown",
   "metadata": {
    "id": "XujZjSHZG8zh"
   },
   "source": [
    "## sequence padding\n",
    "\n",
    "\n",
    "### 주의 사항\n",
    "- encoder 는 thought vector 생성 목적이므로 `pre`(default) 로 padding\n",
    "\n",
    "\n",
    "- decoder 는 teacher forcing 을 해야하므로 `post` 로 padding"
   ]
  },
  {
   "cell_type": "code",
   "execution_count": 27,
   "metadata": {
    "colab": {
     "base_uri": "https://localhost:8080/"
    },
    "id": "6xE80jITG8zh",
    "outputId": "7b7c6976-74e2-4c49-db3f-dc73e15b1d2d",
    "scrolled": false
   },
   "outputs": [
    {
     "name": "stdout",
     "output_type": "stream",
     "text": [
      "encoder input shape : (5890, 101)\n",
      "encoder_inputs[0] :  [   0    0    0    0    0    0    0    0    0    0    0    0    0    0\n",
      "    0    0    0    0    0    0    0    0    0    0    0    0    0    0\n",
      "    0    0    0    0    0    0    0    0    0    0    0    0    0    0\n",
      "    0    0    0    0    0    0    0    0    0    0    0    0    0    0\n",
      "    0    0    0    0    0    0    0    0    0    0    0    0    0    0\n",
      "    0    0    0    0    0    0    0    0    0    0    0    0    0    0\n",
      "    0    0    0    0    0    0    0    0    0    0    0    0    1 1397\n",
      "    2    7  774]\n",
      "\n",
      "decoder input shape : (5890, 90)\n",
      "decoder_inputs[0] :  [   1    4  106 1155 3548    0    0    0    0    0    0    0    0    0\n",
      "    0    0    0    0    0    0    0    0    0    0    0    0    0    0\n",
      "    0    0    0    0    0    0    0    0    0    0    0    0    0    0\n",
      "    0    0    0    0    0    0    0    0    0    0    0    0    0    0\n",
      "    0    0    0    0    0    0    0    0    0    0    0    0    0    0\n",
      "    0    0    0    0    0    0    0    0    0    0    0    0    0    0\n",
      "    0    0    0    0    0    0]\n",
      "\n",
      "decoder target shape : (5890, 90)\n",
      "decoder_targets[0] :  [   4  106 1155 3548    2    0    0    0    0    0    0    0    0    0\n",
      "    0    0    0    0    0    0    0    0    0    0    0    0    0    0\n",
      "    0    0    0    0    0    0    0    0    0    0    0    0    0    0\n",
      "    0    0    0    0    0    0    0    0    0    0    0    0    0    0\n",
      "    0    0    0    0    0    0    0    0    0    0    0    0    0    0\n",
      "    0    0    0    0    0    0    0    0    0    0    0    0    0    0\n",
      "    0    0    0    0    0    0]\n"
     ]
    }
   ],
   "source": [
    "# 영어 시퀀스를 패딩 처리하여 인코더 입력으로 변환 (최대 길이 max_len_eng로 설정)\n",
    "encoder_inputs = pad_sequences(eng_sequences, maxlen=max_len_eng)\n",
    "print(\"encoder input shape :\", encoder_inputs.shape)\n",
    "print(\"encoder_inputs[0] : \", encoder_inputs[1500])\n",
    "\n",
    "# 한국어 입력 시퀀스를 패딩 처리하여 디코더 입력으로 변환 (최대 길이 max_len_kor로 설정, 'post' 방식으로 패딩)\n",
    "decoder_inputs = pad_sequences(kor_input_sequences, maxlen=max_len_kor, padding=\"post\")\n",
    "print(\"\\ndecoder input shape :\", decoder_inputs.shape)\n",
    "print(\"decoder_inputs[0] : \", decoder_inputs[1500])\n",
    "\n",
    "# 한국어 타겟 시퀀스를 패딩 처리하여 디코더 타겟으로 변환 (최대 길이 max_len_kor로 설정, 'post' 방식으로 패딩)\n",
    "decoder_targets = pad_sequences(kor_target_sequences, maxlen=max_len_kor, padding=\"post\")\n",
    "print(\"\\ndecoder target shape :\", decoder_targets.shape)\n",
    "print(\"decoder_targets[0] : \", decoder_targets[1500])"
   ]
  },
  {
   "cell_type": "markdown",
   "metadata": {
    "id": "TWIdoqQGG8zk"
   },
   "source": [
    "## pretrained word embedding 값을 transfer learning\n",
    "\n",
    "- Embedding layer 의 weight 를 pre-trained model 로 초기화  \n",
    "\n",
    "\n",
    "- glove.6B 의 EMBEDDING_DIM version 사용  \n",
    "    - space 로 구분된 text file\n",
    "    - 첫번째는 word 이고 두번째 이후는 weight vector 값이다\n",
    "\n",
    "\n",
    "- word index 가 1 부터 시작하므로 0 padding 감안하여 num_words 는 len(word2idx)+1, 혹은 MAX_VOCAB_SIZE 중 작은 것 선택  \n",
    "\n",
    "\n",
    "- embedding_dict dictionary : key - word, value - embedding_vector"
   ]
  },
  {
   "cell_type": "code",
   "execution_count": 34,
   "metadata": {
    "id": "9_uGq7s8G8zq"
   },
   "outputs": [],
   "source": [
    "def make_embedding(num_words, embedding_dim, tokenizer, max_vocab_size):\n",
    "    # 임베딩 사전을 저장할 딕셔너리 초기화\n",
    "    embeddings_dict = {}\n",
    "\n",
    "    # GloVe 임베딩 파일 경로 설정\n",
    "    output = './glove.6B.100d.txt'\n",
    "\n",
    "    # GloVe 임베딩 파일 열기\n",
    "    with open(output, encoding=\"utf8\") as f:\n",
    "        # 파일의 각 줄에 대해 반복\n",
    "        for i, line in enumerate(f):\n",
    "            values = line.split()            # 각 줄을 읽어와서 공백으로 분리\n",
    "            word = values[0]                 # 첫번째 값은 단어\n",
    "            # 두번째 값부터 마지막 값까지는 해당 단어의 임베딩 벡터 값\n",
    "            coefs = np.asarray(values[1:], dtype='float32')\n",
    "            embeddings_dict[word] = coefs    # 임베딩 사전에 단어와 임베딩 벡터 저장\n",
    "\n",
    "    # 임베딩 매트릭스 초기화 (0으로 초기화)\n",
    "    embedding_matrix = np.zeros((num_words, embedding_dim))\n",
    "\n",
    "    print(\"word 갯수 =\", num_words)\n",
    "    print(embedding_matrix.shape)\n",
    "\n",
    "    # 토크나이저의 단어 인덱스를 사용하여 임베딩 매트릭스 채우기\n",
    "    for word, i in tokenizer.word_index.items():\n",
    "        if i < max_vocab_size:\n",
    "            embedding_vector = embeddings_dict.get(word)  # 해당 단어의 임베딩 벡터 가져오기\n",
    "            if embedding_vector is not None:              # 해당 단어가 임베딩 사전에 있으면\n",
    "                embedding_matrix[i] = embedding_vector    # 임베딩 매트릭스에 벡터 값 저장\n",
    "\n",
    "    return embedding_matrix"
   ]
  },
  {
   "cell_type": "code",
   "execution_count": 29,
   "metadata": {
    "colab": {
     "base_uri": "https://localhost:8080/"
    },
    "id": "eHnRPkgFG8zv",
    "outputId": "13c85bf9-778e-4c78-c944-8712cf9b3736"
   },
   "outputs": [
    {
     "data": {
      "text/plain": [
       "8288"
      ]
     },
     "execution_count": 29,
     "metadata": {},
     "output_type": "execute_result"
    }
   ],
   "source": [
    "# 사용할 단어 수 계산 (최대 어휘 크기와 실제 단어 수 + 1 중 작은 값)\n",
    "num_words = min(MAX_VOCAB_SIZE, len(word2idx_kor) + 1)\n",
    "num_words"
   ]
  },
  {
   "cell_type": "markdown",
   "metadata": {
    "id": "VjrgS3RWG8zy"
   },
   "source": [
    "### embedding layer 작성\n",
    "\n",
    "- encoder 와 decoder 의 Embedding layer 에 pre-trained embedding weight 를 초기값으로 load"
   ]
  },
  {
   "cell_type": "code",
   "execution_count": 35,
   "metadata": {
    "colab": {
     "base_uri": "https://localhost:8080/"
    },
    "id": "Lu4ntZP8G8zy",
    "outputId": "18dc152a-e4c8-4e9e-e778-c2fadf3484a1"
   },
   "outputs": [
    {
     "name": "stdout",
     "output_type": "stream",
     "text": [
      "word 갯수 = 3200\n",
      "(3200, 100)\n"
     ]
    }
   ],
   "source": [
    "# 임베딩 레이어 생성\n",
    "\n",
    "# 영어 단어에 대한 임베딩 매트릭스 생성\n",
    "embedding_matrix = make_embedding(num_words_eng, EMBEDDING_DIM,\n",
    "                                  tokenizer_eng, MAX_VOCAB_SIZE)\n",
    "\n",
    "# 임베딩 레이어 생성\n",
    "embedding_layer = Embedding(num_words_eng, EMBEDDING_DIM,\n",
    "                            weights=[embedding_matrix], trainable=True)"
   ]
  },
  {
   "cell_type": "code",
   "execution_count": 42,
   "metadata": {},
   "outputs": [
    {
     "data": {
      "text/plain": [
       "array([ 0.28536999,  0.75628   , -0.17794999,  0.11613   ,  0.97584999,\n",
       "       -0.12008   ,  0.21697   ,  0.71994001, -0.031774  , -0.27201   ,\n",
       "        0.024977  , -0.33441001,  0.049251  ,  0.20123   , -0.54048997,\n",
       "        0.55483001,  1.32690001,  0.65780002, -0.70861   ,  0.13022   ,\n",
       "       -0.16769999,  0.20343   , -0.3317    , -0.68989003,  0.25454   ,\n",
       "       -0.72728002, -0.17238   , -0.30289999,  0.23326001, -0.60742003,\n",
       "       -1.17490005, -0.046057  , -0.60587001,  1.30739999, -0.37977999,\n",
       "        0.12758   , -0.051791  , -0.12640999, -0.15013   , -0.72033   ,\n",
       "        0.43708   , -0.95697999, -0.14129999, -0.11999   ,  0.43878001,\n",
       "        0.027117  ,  0.59021002,  0.24453001,  0.52182001,  0.27636001,\n",
       "        0.71995002, -0.57356   ,  0.28636   , -0.15308   , -0.98852998,\n",
       "       -1.78719997, -0.56085998, -0.66083002,  1.67030001,  0.34053999,\n",
       "        0.024841  ,  1.38540006,  0.25459   ,  0.47657001,  0.59289002,\n",
       "       -0.050394  ,  0.11254   ,  0.88479   ,  0.14150999,  0.64695001,\n",
       "        0.4851    ,  0.010365  ,  0.025033  , -0.32815   ,  0.33234999,\n",
       "       -0.71438998,  1.01670003,  0.24420001, -1.18739998,  0.37167999,\n",
       "       -0.50950998,  0.31758001,  0.63227999,  0.033917  , -0.20174   ,\n",
       "        0.46630999, -0.48460999, -0.41542   ,  0.018823  , -0.21981999,\n",
       "        0.88441998, -1.09449995,  1.13469994, -0.014952  , -0.66417998,\n",
       "       -0.45427999, -0.090082  , -0.82059002,  0.86532998,  0.16142   ])"
      ]
     },
     "execution_count": 42,
     "metadata": {},
     "output_type": "execute_result"
    }
   ],
   "source": [
    "embedding_matrix[3000]"
   ]
  },
  {
   "cell_type": "markdown",
   "metadata": {
    "id": "0lTBcpJ7G8z2"
   },
   "source": [
    "## Build model\n",
    "\n",
    "- encoder 와 decoder 의 embedding, lstm 및 dense layer 를 training 할 목적의 model 작성  \n",
    "\n",
    "- encoder 는 decoder 에 states [h, c] 만 전달\n",
    "\n",
    "- prediction 을 위한 model 은 training model 에서 만들어진 layer 들의 weight 를 이용하여 별도 작성  "
   ]
  },
  {
   "cell_type": "markdown",
   "metadata": {
    "id": "uahjsXKTG8z2"
   },
   "source": [
    "## Encoder model 작성  \n",
    "\n",
    "- Training과 Inference State 에서 모두 사용"
   ]
  },
  {
   "cell_type": "code",
   "execution_count": 45,
   "metadata": {},
   "outputs": [
    {
     "data": {
      "text/plain": [
       "101"
      ]
     },
     "execution_count": 45,
     "metadata": {},
     "output_type": "execute_result"
    }
   ],
   "source": [
    "max_len_eng"
   ]
  },
  {
   "cell_type": "code",
   "execution_count": 46,
   "metadata": {
    "colab": {
     "base_uri": "https://localhost:8080/"
    },
    "id": "p_q7v3baG8z3",
    "outputId": "084e115c-05f6-4df5-ccaa-2a438573cf1d"
   },
   "outputs": [
    {
     "data": {
      "text/html": [
       "<pre style=\"white-space:pre;overflow-x:auto;line-height:normal;font-family:Menlo,'DejaVu Sans Mono',consolas,'Courier New',monospace\"><span style=\"font-weight: bold\">Model: \"functional\"</span>\n",
       "</pre>\n"
      ],
      "text/plain": [
       "\u001b[1mModel: \"functional\"\u001b[0m\n"
      ]
     },
     "metadata": {},
     "output_type": "display_data"
    },
    {
     "data": {
      "text/html": [
       "<pre style=\"white-space:pre;overflow-x:auto;line-height:normal;font-family:Menlo,'DejaVu Sans Mono',consolas,'Courier New',monospace\">┏━━━━━━━━━━━━━━━━━━━━━━━━━━━━━━━━━┳━━━━━━━━━━━━━━━━━━━━━━━━┳━━━━━━━━━━━━━━━┓\n",
       "┃<span style=\"font-weight: bold\"> Layer (type)                    </span>┃<span style=\"font-weight: bold\"> Output Shape           </span>┃<span style=\"font-weight: bold\">       Param # </span>┃\n",
       "┡━━━━━━━━━━━━━━━━━━━━━━━━━━━━━━━━━╇━━━━━━━━━━━━━━━━━━━━━━━━╇━━━━━━━━━━━━━━━┩\n",
       "│ Encoder_Input (<span style=\"color: #0087ff; text-decoration-color: #0087ff\">InputLayer</span>)      │ (<span style=\"color: #00d7ff; text-decoration-color: #00d7ff\">None</span>, <span style=\"color: #00af00; text-decoration-color: #00af00\">101</span>)            │             <span style=\"color: #00af00; text-decoration-color: #00af00\">0</span> │\n",
       "├─────────────────────────────────┼────────────────────────┼───────────────┤\n",
       "│ embedding (<span style=\"color: #0087ff; text-decoration-color: #0087ff\">Embedding</span>)           │ (<span style=\"color: #00d7ff; text-decoration-color: #00d7ff\">None</span>, <span style=\"color: #00af00; text-decoration-color: #00af00\">101</span>, <span style=\"color: #00af00; text-decoration-color: #00af00\">100</span>)       │       <span style=\"color: #00af00; text-decoration-color: #00af00\">320,000</span> │\n",
       "├─────────────────────────────────┼────────────────────────┼───────────────┤\n",
       "│ lstm (<span style=\"color: #0087ff; text-decoration-color: #0087ff\">LSTM</span>)                     │ [(<span style=\"color: #00d7ff; text-decoration-color: #00d7ff\">None</span>, <span style=\"color: #00af00; text-decoration-color: #00af00\">512</span>), (<span style=\"color: #00d7ff; text-decoration-color: #00d7ff\">None</span>,   │     <span style=\"color: #00af00; text-decoration-color: #00af00\">1,255,424</span> │\n",
       "│                                 │ <span style=\"color: #00af00; text-decoration-color: #00af00\">512</span>), (<span style=\"color: #00d7ff; text-decoration-color: #00d7ff\">None</span>, <span style=\"color: #00af00; text-decoration-color: #00af00\">512</span>)]     │               │\n",
       "└─────────────────────────────────┴────────────────────────┴───────────────┘\n",
       "</pre>\n"
      ],
      "text/plain": [
       "┏━━━━━━━━━━━━━━━━━━━━━━━━━━━━━━━━━┳━━━━━━━━━━━━━━━━━━━━━━━━┳━━━━━━━━━━━━━━━┓\n",
       "┃\u001b[1m \u001b[0m\u001b[1mLayer (type)                   \u001b[0m\u001b[1m \u001b[0m┃\u001b[1m \u001b[0m\u001b[1mOutput Shape          \u001b[0m\u001b[1m \u001b[0m┃\u001b[1m \u001b[0m\u001b[1m      Param #\u001b[0m\u001b[1m \u001b[0m┃\n",
       "┡━━━━━━━━━━━━━━━━━━━━━━━━━━━━━━━━━╇━━━━━━━━━━━━━━━━━━━━━━━━╇━━━━━━━━━━━━━━━┩\n",
       "│ Encoder_Input (\u001b[38;5;33mInputLayer\u001b[0m)      │ (\u001b[38;5;45mNone\u001b[0m, \u001b[38;5;34m101\u001b[0m)            │             \u001b[38;5;34m0\u001b[0m │\n",
       "├─────────────────────────────────┼────────────────────────┼───────────────┤\n",
       "│ embedding (\u001b[38;5;33mEmbedding\u001b[0m)           │ (\u001b[38;5;45mNone\u001b[0m, \u001b[38;5;34m101\u001b[0m, \u001b[38;5;34m100\u001b[0m)       │       \u001b[38;5;34m320,000\u001b[0m │\n",
       "├─────────────────────────────────┼────────────────────────┼───────────────┤\n",
       "│ lstm (\u001b[38;5;33mLSTM\u001b[0m)                     │ [(\u001b[38;5;45mNone\u001b[0m, \u001b[38;5;34m512\u001b[0m), (\u001b[38;5;45mNone\u001b[0m,   │     \u001b[38;5;34m1,255,424\u001b[0m │\n",
       "│                                 │ \u001b[38;5;34m512\u001b[0m), (\u001b[38;5;45mNone\u001b[0m, \u001b[38;5;34m512\u001b[0m)]     │               │\n",
       "└─────────────────────────────────┴────────────────────────┴───────────────┘\n"
      ]
     },
     "metadata": {},
     "output_type": "display_data"
    },
    {
     "data": {
      "text/html": [
       "<pre style=\"white-space:pre;overflow-x:auto;line-height:normal;font-family:Menlo,'DejaVu Sans Mono',consolas,'Courier New',monospace\"><span style=\"font-weight: bold\"> Total params: </span><span style=\"color: #00af00; text-decoration-color: #00af00\">1,575,424</span> (6.01 MB)\n",
       "</pre>\n"
      ],
      "text/plain": [
       "\u001b[1m Total params: \u001b[0m\u001b[38;5;34m1,575,424\u001b[0m (6.01 MB)\n"
      ]
     },
     "metadata": {},
     "output_type": "display_data"
    },
    {
     "data": {
      "text/html": [
       "<pre style=\"white-space:pre;overflow-x:auto;line-height:normal;font-family:Menlo,'DejaVu Sans Mono',consolas,'Courier New',monospace\"><span style=\"font-weight: bold\"> Trainable params: </span><span style=\"color: #00af00; text-decoration-color: #00af00\">1,575,424</span> (6.01 MB)\n",
       "</pre>\n"
      ],
      "text/plain": [
       "\u001b[1m Trainable params: \u001b[0m\u001b[38;5;34m1,575,424\u001b[0m (6.01 MB)\n"
      ]
     },
     "metadata": {},
     "output_type": "display_data"
    },
    {
     "data": {
      "text/html": [
       "<pre style=\"white-space:pre;overflow-x:auto;line-height:normal;font-family:Menlo,'DejaVu Sans Mono',consolas,'Courier New',monospace\"><span style=\"font-weight: bold\"> Non-trainable params: </span><span style=\"color: #00af00; text-decoration-color: #00af00\">0</span> (0.00 B)\n",
       "</pre>\n"
      ],
      "text/plain": [
       "\u001b[1m Non-trainable params: \u001b[0m\u001b[38;5;34m0\u001b[0m (0.00 B)\n"
      ]
     },
     "metadata": {},
     "output_type": "display_data"
    }
   ],
   "source": [
    "# 인코더 정의\n",
    "\n",
    "# 인코더 입력 정의 (최대 길이를 max_len_eng로 설정)\n",
    "encoder_inputs_ = Input(shape=(max_len_eng, ), name='Encoder_Input')\n",
    "\n",
    "# 사전 학습된 임베딩 레이어 사용\n",
    "x = embedding_layer(encoder_inputs_)\n",
    "\n",
    "# LSTM 레이어를 사용하여 인코더 출력과 상태(hidden state와 cell state) 계산\n",
    "encoder_outputs, h, c = LSTM(LATENT_DIM, return_state=True)(x)\n",
    "\n",
    "# 인코더는 hidden state와 cell state만 디코더로 전달 (thought vector)\n",
    "encoder_states = [h, c]\n",
    "\n",
    "# 인코더 모델 정의\n",
    "encoder_model = Model(encoder_inputs_, encoder_states)\n",
    "\n",
    "# 인코더 모델 요약 출력\n",
    "encoder_model.summary()"
   ]
  },
  {
   "cell_type": "markdown",
   "metadata": {
    "id": "r4tlTKf0G8z5"
   },
   "source": [
    "## Decoder model for Teacher Forcing\n",
    "\n",
    "- Training stage 에서 만 사용"
   ]
  },
  {
   "cell_type": "code",
   "execution_count": 48,
   "metadata": {},
   "outputs": [
    {
     "data": {
      "text/plain": [
       "8288"
      ]
     },
     "execution_count": 48,
     "metadata": {},
     "output_type": "execute_result"
    }
   ],
   "source": [
    "num_words_kor"
   ]
  },
  {
   "cell_type": "code",
   "execution_count": 49,
   "metadata": {
    "colab": {
     "base_uri": "https://localhost:8080/"
    },
    "id": "83RPsXl-G8z5",
    "outputId": "10197316-7f3e-4856-827f-cd7b925c55e2"
   },
   "outputs": [
    {
     "data": {
      "text/html": [
       "<pre style=\"white-space:pre;overflow-x:auto;line-height:normal;font-family:Menlo,'DejaVu Sans Mono',consolas,'Courier New',monospace\"><span style=\"font-weight: bold\">Model: \"functional_1\"</span>\n",
       "</pre>\n"
      ],
      "text/plain": [
       "\u001b[1mModel: \"functional_1\"\u001b[0m\n"
      ]
     },
     "metadata": {},
     "output_type": "display_data"
    },
    {
     "data": {
      "text/html": [
       "<pre style=\"white-space:pre;overflow-x:auto;line-height:normal;font-family:Menlo,'DejaVu Sans Mono',consolas,'Courier New',monospace\">┏━━━━━━━━━━━━━━━━━━━━━┳━━━━━━━━━━━━━━━━━━━┳━━━━━━━━━━━━┳━━━━━━━━━━━━━━━━━━━┓\n",
       "┃<span style=\"font-weight: bold\"> Layer (type)        </span>┃<span style=\"font-weight: bold\"> Output Shape      </span>┃<span style=\"font-weight: bold\">    Param # </span>┃<span style=\"font-weight: bold\"> Connected to      </span>┃\n",
       "┡━━━━━━━━━━━━━━━━━━━━━╇━━━━━━━━━━━━━━━━━━━╇━━━━━━━━━━━━╇━━━━━━━━━━━━━━━━━━━┩\n",
       "│ Encoder_Input       │ (<span style=\"color: #00d7ff; text-decoration-color: #00d7ff\">None</span>, <span style=\"color: #00af00; text-decoration-color: #00af00\">101</span>)       │          <span style=\"color: #00af00; text-decoration-color: #00af00\">0</span> │ -                 │\n",
       "│ (<span style=\"color: #0087ff; text-decoration-color: #0087ff\">InputLayer</span>)        │                   │            │                   │\n",
       "├─────────────────────┼───────────────────┼────────────┼───────────────────┤\n",
       "│ Decoder_Input       │ (<span style=\"color: #00d7ff; text-decoration-color: #00d7ff\">None</span>, <span style=\"color: #00af00; text-decoration-color: #00af00\">90</span>)        │          <span style=\"color: #00af00; text-decoration-color: #00af00\">0</span> │ -                 │\n",
       "│ (<span style=\"color: #0087ff; text-decoration-color: #0087ff\">InputLayer</span>)        │                   │            │                   │\n",
       "├─────────────────────┼───────────────────┼────────────┼───────────────────┤\n",
       "│ embedding           │ (<span style=\"color: #00d7ff; text-decoration-color: #00d7ff\">None</span>, <span style=\"color: #00af00; text-decoration-color: #00af00\">101</span>, <span style=\"color: #00af00; text-decoration-color: #00af00\">100</span>)  │    <span style=\"color: #00af00; text-decoration-color: #00af00\">320,000</span> │ Encoder_Input[<span style=\"color: #00af00; text-decoration-color: #00af00\">0</span>]… │\n",
       "│ (<span style=\"color: #0087ff; text-decoration-color: #0087ff\">Embedding</span>)         │                   │            │                   │\n",
       "├─────────────────────┼───────────────────┼────────────┼───────────────────┤\n",
       "│ embedding_1         │ (<span style=\"color: #00d7ff; text-decoration-color: #00d7ff\">None</span>, <span style=\"color: #00af00; text-decoration-color: #00af00\">90</span>, <span style=\"color: #00af00; text-decoration-color: #00af00\">100</span>)   │    <span style=\"color: #00af00; text-decoration-color: #00af00\">828,800</span> │ Decoder_Input[<span style=\"color: #00af00; text-decoration-color: #00af00\">0</span>]… │\n",
       "│ (<span style=\"color: #0087ff; text-decoration-color: #0087ff\">Embedding</span>)         │                   │            │                   │\n",
       "├─────────────────────┼───────────────────┼────────────┼───────────────────┤\n",
       "│ lstm (<span style=\"color: #0087ff; text-decoration-color: #0087ff\">LSTM</span>)         │ [(<span style=\"color: #00d7ff; text-decoration-color: #00d7ff\">None</span>, <span style=\"color: #00af00; text-decoration-color: #00af00\">512</span>),     │  <span style=\"color: #00af00; text-decoration-color: #00af00\">1,255,424</span> │ embedding[<span style=\"color: #00af00; text-decoration-color: #00af00\">0</span>][<span style=\"color: #00af00; text-decoration-color: #00af00\">0</span>]   │\n",
       "│                     │ (<span style=\"color: #00d7ff; text-decoration-color: #00d7ff\">None</span>, <span style=\"color: #00af00; text-decoration-color: #00af00\">512</span>),      │            │                   │\n",
       "│                     │ (<span style=\"color: #00d7ff; text-decoration-color: #00d7ff\">None</span>, <span style=\"color: #00af00; text-decoration-color: #00af00\">512</span>)]      │            │                   │\n",
       "├─────────────────────┼───────────────────┼────────────┼───────────────────┤\n",
       "│ lstm_1 (<span style=\"color: #0087ff; text-decoration-color: #0087ff\">LSTM</span>)       │ [(<span style=\"color: #00d7ff; text-decoration-color: #00d7ff\">None</span>, <span style=\"color: #00af00; text-decoration-color: #00af00\">90</span>, <span style=\"color: #00af00; text-decoration-color: #00af00\">512</span>), │  <span style=\"color: #00af00; text-decoration-color: #00af00\">1,255,424</span> │ embedding_1[<span style=\"color: #00af00; text-decoration-color: #00af00\">0</span>][<span style=\"color: #00af00; text-decoration-color: #00af00\">0</span>… │\n",
       "│                     │ (<span style=\"color: #00d7ff; text-decoration-color: #00d7ff\">None</span>, <span style=\"color: #00af00; text-decoration-color: #00af00\">512</span>),      │            │ lstm[<span style=\"color: #00af00; text-decoration-color: #00af00\">0</span>][<span style=\"color: #00af00; text-decoration-color: #00af00\">1</span>],       │\n",
       "│                     │ (<span style=\"color: #00d7ff; text-decoration-color: #00d7ff\">None</span>, <span style=\"color: #00af00; text-decoration-color: #00af00\">512</span>)]      │            │ lstm[<span style=\"color: #00af00; text-decoration-color: #00af00\">0</span>][<span style=\"color: #00af00; text-decoration-color: #00af00\">2</span>]        │\n",
       "├─────────────────────┼───────────────────┼────────────┼───────────────────┤\n",
       "│ Decoder_Output      │ (<span style=\"color: #00d7ff; text-decoration-color: #00d7ff\">None</span>, <span style=\"color: #00af00; text-decoration-color: #00af00\">90</span>, <span style=\"color: #00af00; text-decoration-color: #00af00\">8288</span>)  │  <span style=\"color: #00af00; text-decoration-color: #00af00\">4,251,744</span> │ lstm_1[<span style=\"color: #00af00; text-decoration-color: #00af00\">0</span>][<span style=\"color: #00af00; text-decoration-color: #00af00\">0</span>]      │\n",
       "│ (<span style=\"color: #0087ff; text-decoration-color: #0087ff\">Dense</span>)             │                   │            │                   │\n",
       "└─────────────────────┴───────────────────┴────────────┴───────────────────┘\n",
       "</pre>\n"
      ],
      "text/plain": [
       "┏━━━━━━━━━━━━━━━━━━━━━┳━━━━━━━━━━━━━━━━━━━┳━━━━━━━━━━━━┳━━━━━━━━━━━━━━━━━━━┓\n",
       "┃\u001b[1m \u001b[0m\u001b[1mLayer (type)       \u001b[0m\u001b[1m \u001b[0m┃\u001b[1m \u001b[0m\u001b[1mOutput Shape     \u001b[0m\u001b[1m \u001b[0m┃\u001b[1m \u001b[0m\u001b[1m   Param #\u001b[0m\u001b[1m \u001b[0m┃\u001b[1m \u001b[0m\u001b[1mConnected to     \u001b[0m\u001b[1m \u001b[0m┃\n",
       "┡━━━━━━━━━━━━━━━━━━━━━╇━━━━━━━━━━━━━━━━━━━╇━━━━━━━━━━━━╇━━━━━━━━━━━━━━━━━━━┩\n",
       "│ Encoder_Input       │ (\u001b[38;5;45mNone\u001b[0m, \u001b[38;5;34m101\u001b[0m)       │          \u001b[38;5;34m0\u001b[0m │ -                 │\n",
       "│ (\u001b[38;5;33mInputLayer\u001b[0m)        │                   │            │                   │\n",
       "├─────────────────────┼───────────────────┼────────────┼───────────────────┤\n",
       "│ Decoder_Input       │ (\u001b[38;5;45mNone\u001b[0m, \u001b[38;5;34m90\u001b[0m)        │          \u001b[38;5;34m0\u001b[0m │ -                 │\n",
       "│ (\u001b[38;5;33mInputLayer\u001b[0m)        │                   │            │                   │\n",
       "├─────────────────────┼───────────────────┼────────────┼───────────────────┤\n",
       "│ embedding           │ (\u001b[38;5;45mNone\u001b[0m, \u001b[38;5;34m101\u001b[0m, \u001b[38;5;34m100\u001b[0m)  │    \u001b[38;5;34m320,000\u001b[0m │ Encoder_Input[\u001b[38;5;34m0\u001b[0m]… │\n",
       "│ (\u001b[38;5;33mEmbedding\u001b[0m)         │                   │            │                   │\n",
       "├─────────────────────┼───────────────────┼────────────┼───────────────────┤\n",
       "│ embedding_1         │ (\u001b[38;5;45mNone\u001b[0m, \u001b[38;5;34m90\u001b[0m, \u001b[38;5;34m100\u001b[0m)   │    \u001b[38;5;34m828,800\u001b[0m │ Decoder_Input[\u001b[38;5;34m0\u001b[0m]… │\n",
       "│ (\u001b[38;5;33mEmbedding\u001b[0m)         │                   │            │                   │\n",
       "├─────────────────────┼───────────────────┼────────────┼───────────────────┤\n",
       "│ lstm (\u001b[38;5;33mLSTM\u001b[0m)         │ [(\u001b[38;5;45mNone\u001b[0m, \u001b[38;5;34m512\u001b[0m),     │  \u001b[38;5;34m1,255,424\u001b[0m │ embedding[\u001b[38;5;34m0\u001b[0m][\u001b[38;5;34m0\u001b[0m]   │\n",
       "│                     │ (\u001b[38;5;45mNone\u001b[0m, \u001b[38;5;34m512\u001b[0m),      │            │                   │\n",
       "│                     │ (\u001b[38;5;45mNone\u001b[0m, \u001b[38;5;34m512\u001b[0m)]      │            │                   │\n",
       "├─────────────────────┼───────────────────┼────────────┼───────────────────┤\n",
       "│ lstm_1 (\u001b[38;5;33mLSTM\u001b[0m)       │ [(\u001b[38;5;45mNone\u001b[0m, \u001b[38;5;34m90\u001b[0m, \u001b[38;5;34m512\u001b[0m), │  \u001b[38;5;34m1,255,424\u001b[0m │ embedding_1[\u001b[38;5;34m0\u001b[0m][\u001b[38;5;34m0\u001b[0m… │\n",
       "│                     │ (\u001b[38;5;45mNone\u001b[0m, \u001b[38;5;34m512\u001b[0m),      │            │ lstm[\u001b[38;5;34m0\u001b[0m][\u001b[38;5;34m1\u001b[0m],       │\n",
       "│                     │ (\u001b[38;5;45mNone\u001b[0m, \u001b[38;5;34m512\u001b[0m)]      │            │ lstm[\u001b[38;5;34m0\u001b[0m][\u001b[38;5;34m2\u001b[0m]        │\n",
       "├─────────────────────┼───────────────────┼────────────┼───────────────────┤\n",
       "│ Decoder_Output      │ (\u001b[38;5;45mNone\u001b[0m, \u001b[38;5;34m90\u001b[0m, \u001b[38;5;34m8288\u001b[0m)  │  \u001b[38;5;34m4,251,744\u001b[0m │ lstm_1[\u001b[38;5;34m0\u001b[0m][\u001b[38;5;34m0\u001b[0m]      │\n",
       "│ (\u001b[38;5;33mDense\u001b[0m)             │                   │            │                   │\n",
       "└─────────────────────┴───────────────────┴────────────┴───────────────────┘\n"
      ]
     },
     "metadata": {},
     "output_type": "display_data"
    },
    {
     "data": {
      "text/html": [
       "<pre style=\"white-space:pre;overflow-x:auto;line-height:normal;font-family:Menlo,'DejaVu Sans Mono',consolas,'Courier New',monospace\"><span style=\"font-weight: bold\"> Total params: </span><span style=\"color: #00af00; text-decoration-color: #00af00\">7,911,392</span> (30.18 MB)\n",
       "</pre>\n"
      ],
      "text/plain": [
       "\u001b[1m Total params: \u001b[0m\u001b[38;5;34m7,911,392\u001b[0m (30.18 MB)\n"
      ]
     },
     "metadata": {},
     "output_type": "display_data"
    },
    {
     "data": {
      "text/html": [
       "<pre style=\"white-space:pre;overflow-x:auto;line-height:normal;font-family:Menlo,'DejaVu Sans Mono',consolas,'Courier New',monospace\"><span style=\"font-weight: bold\"> Trainable params: </span><span style=\"color: #00af00; text-decoration-color: #00af00\">7,911,392</span> (30.18 MB)\n",
       "</pre>\n"
      ],
      "text/plain": [
       "\u001b[1m Trainable params: \u001b[0m\u001b[38;5;34m7,911,392\u001b[0m (30.18 MB)\n"
      ]
     },
     "metadata": {},
     "output_type": "display_data"
    },
    {
     "data": {
      "text/html": [
       "<pre style=\"white-space:pre;overflow-x:auto;line-height:normal;font-family:Menlo,'DejaVu Sans Mono',consolas,'Courier New',monospace\"><span style=\"font-weight: bold\"> Non-trainable params: </span><span style=\"color: #00af00; text-decoration-color: #00af00\">0</span> (0.00 B)\n",
       "</pre>\n"
      ],
      "text/plain": [
       "\u001b[1m Non-trainable params: \u001b[0m\u001b[38;5;34m0\u001b[0m (0.00 B)\n"
      ]
     },
     "metadata": {},
     "output_type": "display_data"
    }
   ],
   "source": [
    "# 디코더 정의\n",
    "\n",
    "# 디코더 입력 정의 (최대 길이를 max_len_kor로 설정)\n",
    "decoder_inputs_ = Input(shape=(max_len_kor,), name=\"Decoder_Input\")\n",
    "\n",
    "# 디코더의 단어 임베딩은 사전 학습된 벡터를 사용하지 않음\n",
    "decoder_embedding = Embedding(num_words_kor, EMBEDDING_DIM)\n",
    "decoder_inputs_x = decoder_embedding(decoder_inputs_)\n",
    "\n",
    "# 교사 강요(Teacher-forcing)를 위한 디코더 LSTM 정의\n",
    "decoder_lstm = LSTM(LATENT_DIM, return_sequences=True, return_state=True)\n",
    "# 초기 상태를 인코더의 [h, c] 상태로 설정\n",
    "decoder_outputs, _, _ = decoder_lstm(decoder_inputs_x, initial_state=encoder_states)\n",
    "\n",
    "# 최종 Dense 레이어 정의\n",
    "decoder_dense = Dense(num_words_kor, activation='softmax', name='Decoder_Output')\n",
    "decoder_outputs = decoder_dense(decoder_outputs)\n",
    "\n",
    "# Teacher-forcing 모델 생성\n",
    "model_teacher_forcing = Model([encoder_inputs_, decoder_inputs_], decoder_outputs)\n",
    "\n",
    "# 모델 컴파일 및 훈련 설정\n",
    "model_teacher_forcing.compile(loss='sparse_categorical_crossentropy',\n",
    "                              optimizer=Adam(0.001), metrics=['accuracy'])\n",
    "\n",
    "# 모델 요약 출력\n",
    "model_teacher_forcing.summary()"
   ]
  },
  {
   "cell_type": "markdown",
   "metadata": {
    "id": "73rTNuLZIaiy"
   },
   "source": [
    "- teacher-forcing model 시각화"
   ]
  },
  {
   "cell_type": "code",
   "execution_count": 50,
   "metadata": {
    "colab": {
     "base_uri": "https://localhost:8080/",
     "height": 533
    },
    "id": "nh-geR7BG8z7",
    "outputId": "2a708f26-f1e9-4678-f808-3d61eec943d5"
   },
   "outputs": [
    {
     "data": {
      "image/png": "[encoded data removed]",
      "text/plain": [
       "<IPython.core.display.Image object>"
      ]
     },
     "execution_count": 50,
     "metadata": {},
     "output_type": "execute_result"
    }
   ],
   "source": [
    "plot_model(model_teacher_forcing, show_shapes=True)"
   ]
  },
  {
   "cell_type": "markdown",
   "metadata": {
    "id": "5wbWW3D9IgZi"
   },
   "source": [
    "- teacher-forcing model train"
   ]
  },
  {
   "cell_type": "code",
   "execution_count": 19,
   "metadata": {
    "colab": {
     "base_uri": "https://localhost:8080/"
    },
    "id": "NbWbW3NsG8z-",
    "outputId": "7dcc56da-b861-41be-fa4d-857be9840d73",
    "scrolled": true
   },
   "outputs": [
    {
     "name": "stdout",
     "output_type": "stream",
     "text": [
      "Epoch 1/100\n",
      "42/42 [==============================] - 19s 300ms/step - loss: 1.4716 - accuracy: 0.9259 - val_loss: 0.7082 - val_accuracy: 0.9196\n",
      "Epoch 2/100\n",
      "42/42 [==============================] - 8s 186ms/step - loss: 0.3474 - accuracy: 0.9527 - val_loss: 0.6826 - val_accuracy: 0.9207\n",
      "Epoch 3/100\n",
      "42/42 [==============================] - 6s 132ms/step - loss: 0.3325 - accuracy: 0.9534 - val_loss: 0.6945 - val_accuracy: 0.9210\n",
      "Epoch 4/100\n",
      "42/42 [==============================] - 5s 125ms/step - loss: 0.3210 - accuracy: 0.9544 - val_loss: 0.6785 - val_accuracy: 0.9218\n",
      "Epoch 5/100\n",
      "42/42 [==============================] - 5s 110ms/step - loss: 0.3098 - accuracy: 0.9557 - val_loss: 0.6873 - val_accuracy: 0.9217\n",
      "Epoch 6/100\n",
      "42/42 [==============================] - 4s 105ms/step - loss: 0.2981 - accuracy: 0.9575 - val_loss: 0.6724 - val_accuracy: 0.9236\n",
      "Epoch 7/100\n",
      "42/42 [==============================] - 5s 112ms/step - loss: 0.2872 - accuracy: 0.9593 - val_loss: 0.6951 - val_accuracy: 0.9232\n",
      "Epoch 8/100\n",
      "42/42 [==============================] - 5s 109ms/step - loss: 0.2759 - accuracy: 0.9607 - val_loss: 0.7106 - val_accuracy: 0.9233\n",
      "Epoch 9/100\n",
      "42/42 [==============================] - 4s 99ms/step - loss: 0.2655 - accuracy: 0.9616 - val_loss: 0.7155 - val_accuracy: 0.9238\n",
      "Epoch 10/100\n",
      "42/42 [==============================] - 5s 116ms/step - loss: 0.2562 - accuracy: 0.9620 - val_loss: 0.7245 - val_accuracy: 0.9241\n",
      "Epoch 11/100\n",
      "42/42 [==============================] - 4s 102ms/step - loss: 0.2477 - accuracy: 0.9626 - val_loss: 0.7380 - val_accuracy: 0.9241\n",
      "Epoch 12/100\n",
      "42/42 [==============================] - 4s 97ms/step - loss: 0.2393 - accuracy: 0.9631 - val_loss: 0.7336 - val_accuracy: 0.9248\n",
      "Epoch 13/100\n",
      "42/42 [==============================] - 4s 97ms/step - loss: 0.2310 - accuracy: 0.9636 - val_loss: 0.7446 - val_accuracy: 0.9247\n",
      "Epoch 14/100\n",
      "42/42 [==============================] - 4s 92ms/step - loss: 0.2224 - accuracy: 0.9641 - val_loss: 0.7477 - val_accuracy: 0.9250\n",
      "Epoch 15/100\n",
      "42/42 [==============================] - 4s 100ms/step - loss: 0.2144 - accuracy: 0.9645 - val_loss: 0.7539 - val_accuracy: 0.9250\n",
      "Epoch 16/100\n",
      "42/42 [==============================] - 4s 100ms/step - loss: 0.2053 - accuracy: 0.9651 - val_loss: 0.7418 - val_accuracy: 0.9260\n",
      "Epoch 17/100\n",
      "42/42 [==============================] - 4s 105ms/step - loss: 0.1964 - accuracy: 0.9656 - val_loss: 0.7491 - val_accuracy: 0.9260\n",
      "Epoch 18/100\n",
      "42/42 [==============================] - 5s 116ms/step - loss: 0.1868 - accuracy: 0.9663 - val_loss: 0.7633 - val_accuracy: 0.9255\n",
      "Epoch 19/100\n",
      "42/42 [==============================] - 4s 95ms/step - loss: 0.1776 - accuracy: 0.9672 - val_loss: 0.7519 - val_accuracy: 0.9266\n",
      "Epoch 20/100\n",
      "42/42 [==============================] - 4s 100ms/step - loss: 0.1677 - accuracy: 0.9680 - val_loss: 0.7546 - val_accuracy: 0.9267\n",
      "Epoch 21/100\n",
      "42/42 [==============================] - 4s 101ms/step - loss: 0.1582 - accuracy: 0.9689 - val_loss: 0.7616 - val_accuracy: 0.9266\n",
      "Epoch 22/100\n",
      "42/42 [==============================] - 4s 101ms/step - loss: 0.1481 - accuracy: 0.9705 - val_loss: 0.7571 - val_accuracy: 0.9271\n",
      "Epoch 23/100\n",
      "42/42 [==============================] - 4s 104ms/step - loss: 0.1383 - accuracy: 0.9724 - val_loss: 0.7626 - val_accuracy: 0.9270\n",
      "Epoch 24/100\n",
      "42/42 [==============================] - 4s 96ms/step - loss: 0.1284 - accuracy: 0.9745 - val_loss: 0.7728 - val_accuracy: 0.9270\n",
      "Epoch 25/100\n",
      "42/42 [==============================] - 4s 106ms/step - loss: 0.1187 - accuracy: 0.9765 - val_loss: 0.7691 - val_accuracy: 0.9275\n",
      "Epoch 26/100\n",
      "42/42 [==============================] - 4s 104ms/step - loss: 0.1097 - accuracy: 0.9788 - val_loss: 0.7869 - val_accuracy: 0.9273\n",
      "Epoch 27/100\n",
      "42/42 [==============================] - 4s 94ms/step - loss: 0.1000 - accuracy: 0.9812 - val_loss: 0.7826 - val_accuracy: 0.9274\n",
      "Epoch 28/100\n",
      "42/42 [==============================] - 4s 105ms/step - loss: 0.0911 - accuracy: 0.9831 - val_loss: 0.7897 - val_accuracy: 0.9273\n",
      "Epoch 29/100\n",
      "42/42 [==============================] - 4s 97ms/step - loss: 0.0832 - accuracy: 0.9848 - val_loss: 0.7963 - val_accuracy: 0.9279\n",
      "Epoch 30/100\n",
      "42/42 [==============================] - 4s 105ms/step - loss: 0.0753 - accuracy: 0.9864 - val_loss: 0.8056 - val_accuracy: 0.9279\n",
      "Epoch 31/100\n",
      "42/42 [==============================] - 4s 92ms/step - loss: 0.0685 - accuracy: 0.9876 - val_loss: 0.7947 - val_accuracy: 0.9281\n",
      "Epoch 32/100\n",
      "42/42 [==============================] - 4s 99ms/step - loss: 0.0619 - accuracy: 0.9889 - val_loss: 0.8012 - val_accuracy: 0.9282\n",
      "Epoch 33/100\n",
      "42/42 [==============================] - 4s 105ms/step - loss: 0.0562 - accuracy: 0.9900 - val_loss: 0.8102 - val_accuracy: 0.9284\n",
      "Epoch 34/100\n",
      "42/42 [==============================] - 4s 95ms/step - loss: 0.0511 - accuracy: 0.9909 - val_loss: 0.8151 - val_accuracy: 0.9283\n",
      "Epoch 35/100\n",
      "42/42 [==============================] - 4s 103ms/step - loss: 0.0465 - accuracy: 0.9919 - val_loss: 0.8188 - val_accuracy: 0.9285\n",
      "Epoch 36/100\n",
      "42/42 [==============================] - 5s 110ms/step - loss: 0.0423 - accuracy: 0.9926 - val_loss: 0.8226 - val_accuracy: 0.9286\n",
      "Epoch 37/100\n",
      "42/42 [==============================] - 4s 95ms/step - loss: 0.0384 - accuracy: 0.9933 - val_loss: 0.8251 - val_accuracy: 0.9286\n",
      "Epoch 38/100\n",
      "42/42 [==============================] - 4s 96ms/step - loss: 0.0350 - accuracy: 0.9940 - val_loss: 0.8321 - val_accuracy: 0.9284\n",
      "Epoch 39/100\n",
      "42/42 [==============================] - 4s 92ms/step - loss: 0.0323 - accuracy: 0.9945 - val_loss: 0.8380 - val_accuracy: 0.9284\n",
      "Epoch 40/100\n",
      "42/42 [==============================] - 4s 100ms/step - loss: 0.0297 - accuracy: 0.9949 - val_loss: 0.8385 - val_accuracy: 0.9286\n",
      "Epoch 41/100\n",
      "42/42 [==============================] - 4s 100ms/step - loss: 0.0270 - accuracy: 0.9954 - val_loss: 0.8362 - val_accuracy: 0.9287\n",
      "Epoch 42/100\n",
      "42/42 [==============================] - 4s 96ms/step - loss: 0.0250 - accuracy: 0.9957 - val_loss: 0.8461 - val_accuracy: 0.9288\n",
      "Epoch 43/100\n",
      "42/42 [==============================] - 4s 104ms/step - loss: 0.0231 - accuracy: 0.9961 - val_loss: 0.8484 - val_accuracy: 0.9288\n",
      "Epoch 44/100\n",
      "42/42 [==============================] - 4s 96ms/step - loss: 0.0214 - accuracy: 0.9963 - val_loss: 0.8497 - val_accuracy: 0.9288\n",
      "Epoch 45/100\n",
      "42/42 [==============================] - 4s 94ms/step - loss: 0.0197 - accuracy: 0.9966 - val_loss: 0.8488 - val_accuracy: 0.9288\n",
      "Epoch 46/100\n",
      "42/42 [==============================] - 4s 97ms/step - loss: 0.0183 - accuracy: 0.9969 - val_loss: 0.8573 - val_accuracy: 0.9287\n",
      "Epoch 47/100\n",
      "42/42 [==============================] - 4s 101ms/step - loss: 0.0171 - accuracy: 0.9971 - val_loss: 0.8578 - val_accuracy: 0.9288\n",
      "Epoch 48/100\n",
      "42/42 [==============================] - 4s 91ms/step - loss: 0.0158 - accuracy: 0.9973 - val_loss: 0.8641 - val_accuracy: 0.9286\n",
      "Epoch 49/100\n",
      "42/42 [==============================] - 4s 96ms/step - loss: 0.0149 - accuracy: 0.9975 - val_loss: 0.8715 - val_accuracy: 0.9286\n",
      "Epoch 50/100\n",
      "42/42 [==============================] - 4s 95ms/step - loss: 0.0138 - accuracy: 0.9976 - val_loss: 0.8685 - val_accuracy: 0.9290\n",
      "Epoch 51/100\n",
      "42/42 [==============================] - 4s 91ms/step - loss: 0.0129 - accuracy: 0.9978 - val_loss: 0.8705 - val_accuracy: 0.9288\n",
      "Epoch 52/100\n",
      "42/42 [==============================] - 4s 96ms/step - loss: 0.0120 - accuracy: 0.9980 - val_loss: 0.8725 - val_accuracy: 0.9289\n",
      "Epoch 53/100\n",
      "42/42 [==============================] - 4s 100ms/step - loss: 0.0113 - accuracy: 0.9980 - val_loss: 0.8746 - val_accuracy: 0.9290\n",
      "Epoch 54/100\n",
      "42/42 [==============================] - 4s 103ms/step - loss: 0.0108 - accuracy: 0.9981 - val_loss: 0.8761 - val_accuracy: 0.9290\n",
      "Epoch 55/100\n",
      "42/42 [==============================] - 4s 103ms/step - loss: 0.0101 - accuracy: 0.9982 - val_loss: 0.8801 - val_accuracy: 0.9289\n",
      "Epoch 56/100\n",
      "42/42 [==============================] - 4s 90ms/step - loss: 0.0095 - accuracy: 0.9982 - val_loss: 0.8837 - val_accuracy: 0.9289\n",
      "Epoch 57/100\n",
      "42/42 [==============================] - 4s 102ms/step - loss: 0.0091 - accuracy: 0.9983 - val_loss: 0.8849 - val_accuracy: 0.9291\n",
      "Epoch 58/100\n",
      "42/42 [==============================] - 4s 103ms/step - loss: 0.0085 - accuracy: 0.9984 - val_loss: 0.8833 - val_accuracy: 0.9290\n",
      "Epoch 59/100\n",
      "42/42 [==============================] - 4s 93ms/step - loss: 0.0082 - accuracy: 0.9984 - val_loss: 0.8910 - val_accuracy: 0.9289\n",
      "Epoch 60/100\n",
      "42/42 [==============================] - 4s 96ms/step - loss: 0.0077 - accuracy: 0.9985 - val_loss: 0.8899 - val_accuracy: 0.9291\n",
      "Epoch 61/100\n",
      "42/42 [==============================] - 4s 99ms/step - loss: 0.0075 - accuracy: 0.9985 - val_loss: 0.8934 - val_accuracy: 0.9289\n",
      "Epoch 62/100\n",
      "42/42 [==============================] - 4s 97ms/step - loss: 0.0071 - accuracy: 0.9985 - val_loss: 0.8986 - val_accuracy: 0.9291\n",
      "Epoch 63/100\n",
      "42/42 [==============================] - 4s 90ms/step - loss: 0.0068 - accuracy: 0.9985 - val_loss: 0.9014 - val_accuracy: 0.9290\n",
      "Epoch 64/100\n",
      "42/42 [==============================] - 4s 91ms/step - loss: 0.0065 - accuracy: 0.9986 - val_loss: 0.8984 - val_accuracy: 0.9291\n",
      "Epoch 65/100\n",
      "42/42 [==============================] - 4s 97ms/step - loss: 0.0062 - accuracy: 0.9986 - val_loss: 0.9014 - val_accuracy: 0.9290\n",
      "Epoch 66/100\n",
      "42/42 [==============================] - 4s 91ms/step - loss: 0.0059 - accuracy: 0.9986 - val_loss: 0.9055 - val_accuracy: 0.9289\n",
      "Epoch 67/100\n",
      "42/42 [==============================] - 4s 90ms/step - loss: 0.0058 - accuracy: 0.9986 - val_loss: 0.9073 - val_accuracy: 0.9288\n",
      "Epoch 68/100\n",
      "42/42 [==============================] - 4s 91ms/step - loss: 0.0056 - accuracy: 0.9986 - val_loss: 0.9078 - val_accuracy: 0.9290\n",
      "Epoch 69/100\n",
      "42/42 [==============================] - 4s 103ms/step - loss: 0.0054 - accuracy: 0.9987 - val_loss: 0.9081 - val_accuracy: 0.9291\n",
      "Epoch 70/100\n",
      "42/42 [==============================] - 4s 94ms/step - loss: 0.0052 - accuracy: 0.9986 - val_loss: 0.9073 - val_accuracy: 0.9290\n",
      "Epoch 71/100\n",
      "42/42 [==============================] - 4s 94ms/step - loss: 0.0051 - accuracy: 0.9987 - val_loss: 0.9144 - val_accuracy: 0.9288\n",
      "Epoch 72/100\n",
      "42/42 [==============================] - 4s 91ms/step - loss: 0.0050 - accuracy: 0.9986 - val_loss: 0.9134 - val_accuracy: 0.9289\n",
      "Epoch 73/100\n",
      "42/42 [==============================] - 4s 97ms/step - loss: 0.0048 - accuracy: 0.9987 - val_loss: 0.9170 - val_accuracy: 0.9291\n",
      "Epoch 74/100\n",
      "42/42 [==============================] - 4s 91ms/step - loss: 0.0048 - accuracy: 0.9987 - val_loss: 0.9179 - val_accuracy: 0.9290\n",
      "Epoch 75/100\n",
      "42/42 [==============================] - 4s 94ms/step - loss: 0.0045 - accuracy: 0.9987 - val_loss: 0.9204 - val_accuracy: 0.9287\n",
      "Epoch 76/100\n",
      "42/42 [==============================] - 4s 92ms/step - loss: 0.0044 - accuracy: 0.9987 - val_loss: 0.9220 - val_accuracy: 0.9290\n",
      "Epoch 77/100\n",
      "42/42 [==============================] - 4s 91ms/step - loss: 0.0044 - accuracy: 0.9987 - val_loss: 0.9256 - val_accuracy: 0.9289\n",
      "Epoch 78/100\n",
      "42/42 [==============================] - 4s 99ms/step - loss: 0.0043 - accuracy: 0.9987 - val_loss: 0.9219 - val_accuracy: 0.9290\n",
      "Epoch 79/100\n",
      "42/42 [==============================] - 4s 100ms/step - loss: 0.0042 - accuracy: 0.9987 - val_loss: 0.9243 - val_accuracy: 0.9289\n",
      "Epoch 80/100\n",
      "42/42 [==============================] - 4s 98ms/step - loss: 0.0041 - accuracy: 0.9987 - val_loss: 0.9309 - val_accuracy: 0.9290\n",
      "Epoch 81/100\n",
      "42/42 [==============================] - 4s 97ms/step - loss: 0.0040 - accuracy: 0.9987 - val_loss: 0.9290 - val_accuracy: 0.9290\n",
      "Epoch 82/100\n",
      "42/42 [==============================] - 4s 96ms/step - loss: 0.0039 - accuracy: 0.9987 - val_loss: 0.9318 - val_accuracy: 0.9291\n",
      "Epoch 83/100\n",
      "42/42 [==============================] - 4s 98ms/step - loss: 0.0038 - accuracy: 0.9986 - val_loss: 0.9342 - val_accuracy: 0.9292\n",
      "Epoch 84/100\n",
      "42/42 [==============================] - 4s 95ms/step - loss: 0.0038 - accuracy: 0.9987 - val_loss: 0.9389 - val_accuracy: 0.9289\n",
      "Epoch 85/100\n",
      "42/42 [==============================] - 4s 91ms/step - loss: 0.0038 - accuracy: 0.9987 - val_loss: 0.9353 - val_accuracy: 0.9291\n",
      "Epoch 86/100\n",
      "42/42 [==============================] - 4s 96ms/step - loss: 0.0037 - accuracy: 0.9986 - val_loss: 0.9335 - val_accuracy: 0.9293\n",
      "Epoch 87/100\n",
      "42/42 [==============================] - 4s 92ms/step - loss: 0.0036 - accuracy: 0.9986 - val_loss: 0.9376 - val_accuracy: 0.9292\n",
      "Epoch 88/100\n",
      "42/42 [==============================] - 4s 95ms/step - loss: 0.0035 - accuracy: 0.9987 - val_loss: 0.9385 - val_accuracy: 0.9292\n",
      "Epoch 89/100\n",
      "42/42 [==============================] - 4s 90ms/step - loss: 0.0035 - accuracy: 0.9986 - val_loss: 0.9384 - val_accuracy: 0.9291\n",
      "Epoch 90/100\n",
      "42/42 [==============================] - 4s 90ms/step - loss: 0.0034 - accuracy: 0.9987 - val_loss: 0.9416 - val_accuracy: 0.9293\n",
      "Epoch 91/100\n",
      "42/42 [==============================] - 4s 97ms/step - loss: 0.0034 - accuracy: 0.9987 - val_loss: 0.9421 - val_accuracy: 0.9292\n",
      "Epoch 92/100\n",
      "42/42 [==============================] - 4s 93ms/step - loss: 0.0034 - accuracy: 0.9987 - val_loss: 0.9435 - val_accuracy: 0.9291\n",
      "Epoch 93/100\n",
      "42/42 [==============================] - 4s 91ms/step - loss: 0.0033 - accuracy: 0.9986 - val_loss: 0.9437 - val_accuracy: 0.9290\n",
      "Epoch 94/100\n",
      "42/42 [==============================] - 4s 102ms/step - loss: 0.0033 - accuracy: 0.9987 - val_loss: 0.9503 - val_accuracy: 0.9290\n",
      "Epoch 95/100\n",
      "42/42 [==============================] - 4s 91ms/step - loss: 0.0032 - accuracy: 0.9987 - val_loss: 0.9458 - val_accuracy: 0.9290\n",
      "Epoch 96/100\n",
      "42/42 [==============================] - 4s 96ms/step - loss: 0.0032 - accuracy: 0.9987 - val_loss: 0.9493 - val_accuracy: 0.9293\n",
      "Epoch 97/100\n",
      "42/42 [==============================] - 4s 101ms/step - loss: 0.0033 - accuracy: 0.9986 - val_loss: 0.9521 - val_accuracy: 0.9293\n",
      "Epoch 98/100\n",
      "42/42 [==============================] - 4s 97ms/step - loss: 0.0032 - accuracy: 0.9987 - val_loss: 0.9501 - val_accuracy: 0.9292\n",
      "Epoch 99/100\n",
      "42/42 [==============================] - 4s 91ms/step - loss: 0.0032 - accuracy: 0.9986 - val_loss: 0.9558 - val_accuracy: 0.9291\n",
      "Epoch 100/100\n",
      "42/42 [==============================] - 4s 90ms/step - loss: 0.0030 - accuracy: 0.9987 - val_loss: 0.9569 - val_accuracy: 0.9290\n"
     ]
    }
   ],
   "source": [
    "history = model_teacher_forcing.fit([encoder_inputs, decoder_inputs],\n",
    "                                    decoder_targets, batch_size=BATCH_SIZE,\n",
    "                                    epochs=70, validation_split=0.2)"
   ]
  },
  {
   "cell_type": "markdown",
   "metadata": {
    "id": "XyUjTEg1IkC5"
   },
   "source": [
    "- accuracy, loss 시각화"
   ]
  },
  {
   "cell_type": "code",
   "execution_count": 20,
   "metadata": {
    "colab": {
     "base_uri": "https://localhost:8080/",
     "height": 368
    },
    "id": "9BWSgxh3G80A",
    "outputId": "0e6362f4-5008-4234-eced-8db070531e75"
   },
   "outputs": [
    {
     "data": {
      "image/png": "[encoded data removed]",
      "text/plain": [
       "<Figure size 1200x400 with 2 Axes>"
      ]
     },
     "metadata": {},
     "output_type": "display_data"
    }
   ],
   "source": [
    "# plot some data\n",
    "fig, (ax1, ax2) = plt.subplots(1, 2, figsize=(12, 4))\n",
    "ax1.plot(history.history['loss'], label='loss')\n",
    "ax1.plot(history.history['val_loss'], label='val_loss')\n",
    "ax1.legend()\n",
    "\n",
    "# accuracies\n",
    "ax2.plot(history.history['accuracy'], label='acc')\n",
    "ax2.plot(history.history['val_accuracy'], label='val_acc')\n",
    "ax2.legend()\n",
    "plt.show()"
   ]
  },
  {
   "cell_type": "markdown",
   "metadata": {
    "id": "7hQEWBi6IpGl"
   },
   "source": [
    "- save model"
   ]
  },
  {
   "cell_type": "code",
   "execution_count": 21,
   "metadata": {
    "colab": {
     "base_uri": "https://localhost:8080/"
    },
    "id": "4G41Pc0MG80C",
    "outputId": "3a6c3158-536d-40d5-fc0d-2ceb420a8a24"
   },
   "outputs": [
    {
     "name": "stderr",
     "output_type": "stream",
     "text": [
      "/usr/local/lib/python3.10/dist-packages/keras/src/engine/training.py:3103: UserWarning: You are saving your model as an HDF5 file via `model.save()`. This file format is considered legacy. We recommend using instead the native Keras format, e.g. `model.save('my_model.keras')`.\n",
      "  saving_api.save_model(\n"
     ]
    }
   ],
   "source": [
    "model_teacher_forcing.save('seq2seq_translation.h5')"
   ]
  },
  {
   "cell_type": "markdown",
   "metadata": {
    "id": "QXpQ5xqKG80E"
   },
   "source": [
    "## Make Predictions - Inference phase\n",
    "\n",
    "- prediction 을 위한 별도의 decoder model 작성  \n",
    "\n",
    "- 별로 training 없이 앞에서 train 된 weights 를 모두 재사용 한다.\n",
    "\n",
    "- decoder 는 encoder 와 분리되어 구성"
   ]
  },
  {
   "cell_type": "code",
   "execution_count": 51,
   "metadata": {
    "colab": {
     "base_uri": "https://localhost:8080/"
    },
    "id": "0JJGUKl-G80E",
    "outputId": "75d43258-d4a8-4911-dbb5-834340c00b07"
   },
   "outputs": [
    {
     "data": {
      "text/html": [
       "<pre style=\"white-space:pre;overflow-x:auto;line-height:normal;font-family:Menlo,'DejaVu Sans Mono',consolas,'Courier New',monospace\"><span style=\"font-weight: bold\">Model: \"functional_2\"</span>\n",
       "</pre>\n"
      ],
      "text/plain": [
       "\u001b[1mModel: \"functional_2\"\u001b[0m\n"
      ]
     },
     "metadata": {},
     "output_type": "display_data"
    },
    {
     "data": {
      "text/html": [
       "<pre style=\"white-space:pre;overflow-x:auto;line-height:normal;font-family:Menlo,'DejaVu Sans Mono',consolas,'Courier New',monospace\">┏━━━━━━━━━━━━━━━━━━━━━┳━━━━━━━━━━━━━━━━━━━┳━━━━━━━━━━━━┳━━━━━━━━━━━━━━━━━━━┓\n",
       "┃<span style=\"font-weight: bold\"> Layer (type)        </span>┃<span style=\"font-weight: bold\"> Output Shape      </span>┃<span style=\"font-weight: bold\">    Param # </span>┃<span style=\"font-weight: bold\"> Connected to      </span>┃\n",
       "┡━━━━━━━━━━━━━━━━━━━━━╇━━━━━━━━━━━━━━━━━━━╇━━━━━━━━━━━━╇━━━━━━━━━━━━━━━━━━━┩\n",
       "│ Decoder_input       │ (<span style=\"color: #00d7ff; text-decoration-color: #00d7ff\">None</span>, <span style=\"color: #00af00; text-decoration-color: #00af00\">1</span>)         │          <span style=\"color: #00af00; text-decoration-color: #00af00\">0</span> │ -                 │\n",
       "│ (<span style=\"color: #0087ff; text-decoration-color: #0087ff\">InputLayer</span>)        │                   │            │                   │\n",
       "├─────────────────────┼───────────────────┼────────────┼───────────────────┤\n",
       "│ embedding_1         │ (<span style=\"color: #00d7ff; text-decoration-color: #00d7ff\">None</span>, <span style=\"color: #00af00; text-decoration-color: #00af00\">1</span>, <span style=\"color: #00af00; text-decoration-color: #00af00\">100</span>)    │    <span style=\"color: #00af00; text-decoration-color: #00af00\">828,800</span> │ Decoder_input[<span style=\"color: #00af00; text-decoration-color: #00af00\">0</span>]… │\n",
       "│ (<span style=\"color: #0087ff; text-decoration-color: #0087ff\">Embedding</span>)         │                   │            │                   │\n",
       "├─────────────────────┼───────────────────┼────────────┼───────────────────┤\n",
       "│ Decoder_hidden_h    │ (<span style=\"color: #00d7ff; text-decoration-color: #00d7ff\">None</span>, <span style=\"color: #00af00; text-decoration-color: #00af00\">512</span>)       │          <span style=\"color: #00af00; text-decoration-color: #00af00\">0</span> │ -                 │\n",
       "│ (<span style=\"color: #0087ff; text-decoration-color: #0087ff\">InputLayer</span>)        │                   │            │                   │\n",
       "├─────────────────────┼───────────────────┼────────────┼───────────────────┤\n",
       "│ Decoder_hidden_c    │ (<span style=\"color: #00d7ff; text-decoration-color: #00d7ff\">None</span>, <span style=\"color: #00af00; text-decoration-color: #00af00\">512</span>)       │          <span style=\"color: #00af00; text-decoration-color: #00af00\">0</span> │ -                 │\n",
       "│ (<span style=\"color: #0087ff; text-decoration-color: #0087ff\">InputLayer</span>)        │                   │            │                   │\n",
       "├─────────────────────┼───────────────────┼────────────┼───────────────────┤\n",
       "│ lstm_1 (<span style=\"color: #0087ff; text-decoration-color: #0087ff\">LSTM</span>)       │ [(<span style=\"color: #00d7ff; text-decoration-color: #00d7ff\">None</span>, <span style=\"color: #00af00; text-decoration-color: #00af00\">1</span>, <span style=\"color: #00af00; text-decoration-color: #00af00\">512</span>),  │  <span style=\"color: #00af00; text-decoration-color: #00af00\">1,255,424</span> │ embedding_1[<span style=\"color: #00af00; text-decoration-color: #00af00\">1</span>][<span style=\"color: #00af00; text-decoration-color: #00af00\">0</span>… │\n",
       "│                     │ (<span style=\"color: #00d7ff; text-decoration-color: #00d7ff\">None</span>, <span style=\"color: #00af00; text-decoration-color: #00af00\">512</span>),      │            │ Decoder_hidden_h… │\n",
       "│                     │ (<span style=\"color: #00d7ff; text-decoration-color: #00d7ff\">None</span>, <span style=\"color: #00af00; text-decoration-color: #00af00\">512</span>)]      │            │ Decoder_hidden_c… │\n",
       "├─────────────────────┼───────────────────┼────────────┼───────────────────┤\n",
       "│ Decoder_Output      │ (<span style=\"color: #00d7ff; text-decoration-color: #00d7ff\">None</span>, <span style=\"color: #00af00; text-decoration-color: #00af00\">1</span>, <span style=\"color: #00af00; text-decoration-color: #00af00\">8288</span>)   │  <span style=\"color: #00af00; text-decoration-color: #00af00\">4,251,744</span> │ lstm_1[<span style=\"color: #00af00; text-decoration-color: #00af00\">1</span>][<span style=\"color: #00af00; text-decoration-color: #00af00\">0</span>]      │\n",
       "│ (<span style=\"color: #0087ff; text-decoration-color: #0087ff\">Dense</span>)             │                   │            │                   │\n",
       "└─────────────────────┴───────────────────┴────────────┴───────────────────┘\n",
       "</pre>\n"
      ],
      "text/plain": [
       "┏━━━━━━━━━━━━━━━━━━━━━┳━━━━━━━━━━━━━━━━━━━┳━━━━━━━━━━━━┳━━━━━━━━━━━━━━━━━━━┓\n",
       "┃\u001b[1m \u001b[0m\u001b[1mLayer (type)       \u001b[0m\u001b[1m \u001b[0m┃\u001b[1m \u001b[0m\u001b[1mOutput Shape     \u001b[0m\u001b[1m \u001b[0m┃\u001b[1m \u001b[0m\u001b[1m   Param #\u001b[0m\u001b[1m \u001b[0m┃\u001b[1m \u001b[0m\u001b[1mConnected to     \u001b[0m\u001b[1m \u001b[0m┃\n",
       "┡━━━━━━━━━━━━━━━━━━━━━╇━━━━━━━━━━━━━━━━━━━╇━━━━━━━━━━━━╇━━━━━━━━━━━━━━━━━━━┩\n",
       "│ Decoder_input       │ (\u001b[38;5;45mNone\u001b[0m, \u001b[38;5;34m1\u001b[0m)         │          \u001b[38;5;34m0\u001b[0m │ -                 │\n",
       "│ (\u001b[38;5;33mInputLayer\u001b[0m)        │                   │            │                   │\n",
       "├─────────────────────┼───────────────────┼────────────┼───────────────────┤\n",
       "│ embedding_1         │ (\u001b[38;5;45mNone\u001b[0m, \u001b[38;5;34m1\u001b[0m, \u001b[38;5;34m100\u001b[0m)    │    \u001b[38;5;34m828,800\u001b[0m │ Decoder_input[\u001b[38;5;34m0\u001b[0m]… │\n",
       "│ (\u001b[38;5;33mEmbedding\u001b[0m)         │                   │            │                   │\n",
       "├─────────────────────┼───────────────────┼────────────┼───────────────────┤\n",
       "│ Decoder_hidden_h    │ (\u001b[38;5;45mNone\u001b[0m, \u001b[38;5;34m512\u001b[0m)       │          \u001b[38;5;34m0\u001b[0m │ -                 │\n",
       "│ (\u001b[38;5;33mInputLayer\u001b[0m)        │                   │            │                   │\n",
       "├─────────────────────┼───────────────────┼────────────┼───────────────────┤\n",
       "│ Decoder_hidden_c    │ (\u001b[38;5;45mNone\u001b[0m, \u001b[38;5;34m512\u001b[0m)       │          \u001b[38;5;34m0\u001b[0m │ -                 │\n",
       "│ (\u001b[38;5;33mInputLayer\u001b[0m)        │                   │            │                   │\n",
       "├─────────────────────┼───────────────────┼────────────┼───────────────────┤\n",
       "│ lstm_1 (\u001b[38;5;33mLSTM\u001b[0m)       │ [(\u001b[38;5;45mNone\u001b[0m, \u001b[38;5;34m1\u001b[0m, \u001b[38;5;34m512\u001b[0m),  │  \u001b[38;5;34m1,255,424\u001b[0m │ embedding_1[\u001b[38;5;34m1\u001b[0m][\u001b[38;5;34m0\u001b[0m… │\n",
       "│                     │ (\u001b[38;5;45mNone\u001b[0m, \u001b[38;5;34m512\u001b[0m),      │            │ Decoder_hidden_h… │\n",
       "│                     │ (\u001b[38;5;45mNone\u001b[0m, \u001b[38;5;34m512\u001b[0m)]      │            │ Decoder_hidden_c… │\n",
       "├─────────────────────┼───────────────────┼────────────┼───────────────────┤\n",
       "│ Decoder_Output      │ (\u001b[38;5;45mNone\u001b[0m, \u001b[38;5;34m1\u001b[0m, \u001b[38;5;34m8288\u001b[0m)   │  \u001b[38;5;34m4,251,744\u001b[0m │ lstm_1[\u001b[38;5;34m1\u001b[0m][\u001b[38;5;34m0\u001b[0m]      │\n",
       "│ (\u001b[38;5;33mDense\u001b[0m)             │                   │            │                   │\n",
       "└─────────────────────┴───────────────────┴────────────┴───────────────────┘\n"
      ]
     },
     "metadata": {},
     "output_type": "display_data"
    },
    {
     "data": {
      "text/html": [
       "<pre style=\"white-space:pre;overflow-x:auto;line-height:normal;font-family:Menlo,'DejaVu Sans Mono',consolas,'Courier New',monospace\"><span style=\"font-weight: bold\"> Total params: </span><span style=\"color: #00af00; text-decoration-color: #00af00\">6,335,968</span> (24.17 MB)\n",
       "</pre>\n"
      ],
      "text/plain": [
       "\u001b[1m Total params: \u001b[0m\u001b[38;5;34m6,335,968\u001b[0m (24.17 MB)\n"
      ]
     },
     "metadata": {},
     "output_type": "display_data"
    },
    {
     "data": {
      "text/html": [
       "<pre style=\"white-space:pre;overflow-x:auto;line-height:normal;font-family:Menlo,'DejaVu Sans Mono',consolas,'Courier New',monospace\"><span style=\"font-weight: bold\"> Trainable params: </span><span style=\"color: #00af00; text-decoration-color: #00af00\">6,335,968</span> (24.17 MB)\n",
       "</pre>\n"
      ],
      "text/plain": [
       "\u001b[1m Trainable params: \u001b[0m\u001b[38;5;34m6,335,968\u001b[0m (24.17 MB)\n"
      ]
     },
     "metadata": {},
     "output_type": "display_data"
    },
    {
     "data": {
      "text/html": [
       "<pre style=\"white-space:pre;overflow-x:auto;line-height:normal;font-family:Menlo,'DejaVu Sans Mono',consolas,'Courier New',monospace\"><span style=\"font-weight: bold\"> Non-trainable params: </span><span style=\"color: #00af00; text-decoration-color: #00af00\">0</span> (0.00 B)\n",
       "</pre>\n"
      ],
      "text/plain": [
       "\u001b[1m Non-trainable params: \u001b[0m\u001b[38;5;34m0\u001b[0m (0.00 B)\n"
      ]
     },
     "metadata": {},
     "output_type": "display_data"
    }
   ],
   "source": [
    "# 추론(Inference)용 디코더 정의\n",
    "\n",
    "# 디코더 LSTM의 hidden state 입력 정의 (512 차원)\n",
    "decoder_state_input_h = Input(shape=(512,), name='Decoder_hidden_h')\n",
    "\n",
    "# 디코더 LSTM의 cell state 입력 정의 (512 차원)\n",
    "decoder_state_input_c = Input(shape=(512,), name='Decoder_hidden_c')\n",
    "\n",
    "# 디코더 상태 입력 리스트 생성\n",
    "decoder_states_inputs = [decoder_state_input_h, decoder_state_input_c]\n",
    "\n",
    "# 디코더의 단일 단어 입력 정의 (1차원)\n",
    "decoder_inputs_single = Input(shape=(1,), name='Decoder_input')\n",
    "\n",
    "# 단일 단어 입력을 임베딩 벡터로 변환\n",
    "x = decoder_embedding(decoder_inputs_single)\n",
    "\n",
    "# 출력과 hidden states 저장\n",
    "decoder_outputs, h, c = decoder_lstm(x, initial_state=decoder_states_inputs)\n",
    "\n",
    "# 새로운 디코더 상태 리스트 생성\n",
    "decoder_states = [h, c]\n",
    "\n",
    "# 디코더 출력에 Dense 레이어 적용\n",
    "decoder_outputs = decoder_dense(decoder_outputs)\n",
    "\n",
    "# 추론용 디코더 모델 생성\n",
    "decoder_model = Model(\n",
    "    [decoder_inputs_single] + decoder_states_inputs,    # 디코더 입력과 상태를 입력으로 받음\n",
    "    [decoder_outputs] + decoder_states                  # 디코더 출력과 상태를 출력으로 반환\n",
    ")\n",
    "\n",
    "# 추론용 디코더 모델 요약 출력\n",
    "decoder_model.summary()"
   ]
  },
  {
   "cell_type": "markdown",
   "metadata": {
    "id": "HOl_sDoVI1N7"
   },
   "source": [
    "- inference 용 decoder model 시각화"
   ]
  },
  {
   "cell_type": "code",
   "execution_count": 52,
   "metadata": {
    "colab": {
     "base_uri": "https://localhost:8080/",
     "height": 422
    },
    "id": "v_QF0GNtG80I",
    "outputId": "3cdda262-1b7f-40a7-bd58-2087249243cf"
   },
   "outputs": [
    {
     "data": {
      "image/png": "[encoded data removed]",
      "text/plain": [
       "<IPython.core.display.Image object>"
      ]
     },
     "execution_count": 52,
     "metadata": {},
     "output_type": "execute_result"
    }
   ],
   "source": [
    "plot_model(decoder_model, show_shapes=True)"
   ]
  },
  {
   "cell_type": "markdown",
   "metadata": {
    "id": "RTLcPG9RI8dR"
   },
   "source": [
    "예측하는 동안 index를 단어를 되돌리기 위한 reverse word2idx dictionary 작성"
   ]
  },
  {
   "cell_type": "markdown",
   "metadata": {
    "id": "fUZfCBF-JKPR"
   },
   "source": [
    "### Translation Inference"
   ]
  },
  {
   "cell_type": "code",
   "execution_count": 53,
   "metadata": {
    "colab": {
     "base_uri": "https://localhost:8080/"
    },
    "id": "tlCAy_2MG80N",
    "outputId": "1fbe27cc-3abf-4da2-d48b-ecc0d93b4a11",
    "scrolled": false
   },
   "outputs": [
    {
     "name": "stderr",
     "output_type": "stream",
     "text": [
      "c:\\Users\\khk17\\workspace\\python\\nlp_module\\nlp_venv\\Lib\\site-packages\\keras\\src\\models\\functional.py:225: UserWarning: The structure of `inputs` doesn't match the expected structure: ['Decoder_input', 'Decoder_hidden_h', 'Decoder_hidden_c']. Received: the structure of inputs=('*', '*', '*')\n",
      "  warnings.warn(\n"
     ]
    },
    {
     "name": "stdout",
     "output_type": "stream",
     "text": [
      "-\n",
      "Input: There are no stars tonight.\n",
      "Translation: 쉬는게 쉬는게 쉬는게 합니다. 합니다. 합니다. 도와드릴게요. 도와드릴게요. 도와드릴게요. 거짓말쟁이라고 거짓말쟁이라고 거짓말쟁이라고 거짓말쟁이라고 거짓말쟁이라고 거짓말쟁이라고 세금이 걸었대. 거짓말쟁이라고 거짓말쟁이라고 말하려 말하려 걸었대. 자살하게 몇시에 역에 역에 너희들 기다려도 거라니까. 좋아한다고 위험해 위험해 어머니가 방법이었습니다. 소리지르기 방법이었습니다. 소리지르기 힘내! 요리사다. 요리사다. 요리사다. 표현할 벙어리야. 벙어리야. 뒤집어 침대를 없습니다. 문서에 고급 신발끈을 아버지보다 잃어버렸다. 잘한다고 한두 끝낼 좋았을텐데 둘이서 휘파람 언어라고 하다가 끼어있어. 정확하다. 차가워. 기회라도 기회라도 방식으로 질문을 방언들로 좁은 진화이론을 질렸어. 도와드릴게요. 관리를 운좋게도 대화해도 구직 중독자야. 다섯권 좋겠다고 좋겠다고 아닌가요? 탐은 가족 탔다. 사실이니? 동등하게 붉다. 붉다. 오른쪽 걸?\n",
      "-\n",
      "Input: Tom's room is dirty.\n",
      "Translation: 시간은 시간은 시간은 유일한 유일한 유일한 유일한 마리를 뚫렸다. 뚫렸다. 뚫렸다. 취업하기를 이건 뚫렸다. 경찰에게 위로 오늘은 중독자가 중독자가 편지를 이것좀 tv가 개인가요? 설명할거야. 저희는 지하철로 아동 덤불 놀랍네요. 놀랍네요. 칠했어. 년의 죽었어? 개미는 실수를 영화가 영화가 이해하는 뽀뽀를 출 시계는 상담원에게 상담원에게 귀엽다니! 귀엽다니! 귀엽다니! 느낄 중이야. 파고 흔들림이 이유이다. 있었다는 어머니와 뭔지 철회했다. 중독자였다니 방해해서 작지. 돼지고기를 마세요 것의 봤던 어젯밤에 멈춰! 연루되었습니까? 1년은 알았니? 도둑이야! 년동안 두꺼워. 빠지고 기억력이 기억력이 기억력이 간에 자원해서 자원해서 관찰을 안할 관찰을 안할 안할 주저했어. 자원해서 관찰을 안할 대화해도 씨익 파스타 것의\n",
      "-\n",
      "Input: We were born to die.\n",
      "Translation: 충분한 충분한 재성장한다는 요청했다. 도둑맞았던 도둑맞았던 도둑맞았던 유일한 틀렸다고는 유일한 틀렸다고는 뚫렸다. 뚫렸다. 떠나. 떠나. 바뀌었다. 바뀌었다. 바뀌었다. 얼마야? 굴어? 모르겠어요. 모르겠어요. 자주는 손들어! 것이라고 것이냐다. 흔들어 학습 의도는 흙에서는 1등을 잡자! 이동할 비싸보이는 됐다고 귀엽다니! 귀엽다니! 느낄 식으로 박스와 설명할거야. 서명했다. 서명했다. 신나할 신나할 키스를 차. 궁금하네. 기어다니고 보이니까 구역질 간의 때, 자신이 설득하던 취업하기를 하세요. 체액을 찾아봐. 얼어 월드컵은 간의 춤췄어. 춥다. 삼촌은 어렸다. 전쟁 아닌가요? 책의 어쨌든 종이가 어쨌든 맞아? 맞아? 아름다울 톰은 기자회견 지금까지 못할 시도했다. 못할 아래야. 빨갰어. 빨갰어. 스위스는 게임을 수배되었다. 수배되었다. 직전이다. 직전이다.\n",
      "-\n",
      "Input: I think that French is the most beautiful language.\n",
      "Translation: 느끼고 빼고 향수병 지도 지도 지도 지도 지도 지도 도와드릴게요. 도와드릴게요. 도와드릴게요. 은퇴하지 쓰고 가게는 깡패같이 거짓말쟁이라고 거짓말쟁이라고 거짓말쟁이라고 세금이 뇌는 아냐? 돌아가야 동감이에요. 나폴레옹은 이상하다. 넌 넌 좋아하십니까? 저에 저에 저에 저에 그것을 끝내. 고용한다. 고용한다. 있구나. 고용한다. 고용한다. 어제만큼 어제만큼 열어. 상황에 외바퀴 대답했어. 천국에 책이 비행편이 국제적인 러시아의 러시아의 러시아의 밑에서 토너먼트에서 빠른 철학의 아래를 그곳을 존재해. 존재해. 로프를 가치 일정을 수영을 칠했다. 칠했다. 학습 칠했다. 학습 익숙해질거야. 나하고 칠했다. 학습 나하고 썼다니 되려면 망상에 작가는 알았는데, 불러야 개방되어 키로메터다 벌어졌다. 땅을 돌파해야 취소되었다. 버터로 새집을 4월은\n",
      "-\n",
      "Input: Tom enlisted.\n",
      "Translation: 쫓아다니곤 내야한다. 내야한다. 겪고 겪고 취해본 겪고 동안, 취해본 겪고 동안, 당시에 평등해. 취해본 겪고 당시에 부모님은 돌아갈 평등해. 동감이에요. 이것좀 녹기 한다는 남자답게 배우려고 찾아낸 잘못한 잘한다고 코가 코가 원했던 빈곤도 똑똑하다. 피우지 창피한 부상을 여권이 우리와 어두워지기 빠져 구비하고 혼자서 밤을 통하여 마시멜로를 휴가 마시멜로를 휴가 고아다. 가방이 덥네. 덥네. 알겠어! 알겠어! 허락하지 물어봤어야지. 형제인 대화해도 년에는 선생님 선생님 주실래요? 과거를 갔었습니까? 학교야? 먹지 배우고자했는지 3일이다. 의미하는 3일이다. 축하하지 말한다면 성경에서 켤레를 완전한 바빠서 나한테 계십니까? 슈퍼마켓에서 운전해. 슈퍼마켓에서 망상에 순간에 형제분께서 갈색 주십시오. 부탁합니다. 일어나. 걸어가기엔 않으면\n"
     ]
    }
   ],
   "source": [
    "def decode_sequence(input_seq):\n",
    "    # 인코더 모델을 이용하여 입력을 상태 벡터로 인코딩\n",
    "    states_value = encoder_model.predict(input_seq, verbose=0)\n",
    "\n",
    "    # 길이 1의 빈 타겟 시퀀스 생성\n",
    "    target_seq = np.zeros((1, 1))\n",
    "\n",
    "    # 타겟 시퀀스의 첫 번째 단어를 시작 토큰(<sos>)으로 설정\n",
    "    target_seq[0, 0] = word2idx_kor['<sos>']\n",
    "\n",
    "    # 종료 토큰(<eos>)이 디코딩에서 생성되면 루프 종료\n",
    "    eos = word2idx_kor['<eos>']\n",
    "\n",
    "    # 번역문 생성\n",
    "    output_sentence = []\n",
    "    for _ in range(max_len_kor):\n",
    "        # 디코더 모델을 이용하여 다음 단어 예측 및 상태 업데이트\n",
    "        output_tokens, h, c = decoder_model.predict([target_seq] + states_value, verbose=0)\n",
    "\n",
    "        # argmax로 가장 확률 높은 단어 선택 (탐욕적 선택)\n",
    "        idx = np.argmax(output_tokens[0, 0, :])\n",
    "\n",
    "        if eos == idx:  # 종료 토큰(<eos>)이 생성되면 루프 종료\n",
    "            break\n",
    "\n",
    "        if idx > 0:  # idx 0은 zero padding된 시퀀스이므로 무시\n",
    "            word = tokenizer_kor.index_word[idx]\n",
    "            output_sentence.append(word)\n",
    "\n",
    "        # 생성된 단어를 디코더의 다음 입력으로 사용\n",
    "        target_seq[0, 0] = idx\n",
    "\n",
    "        # 상태 업데이트\n",
    "        states_value = [h, c]\n",
    "\n",
    "    return ' '.join(output_sentence)\n",
    "\n",
    "# 번역 테스트\n",
    "for _ in range(5):\n",
    "    i = np.random.choice(len(eng_texts))\n",
    "    input_seq = encoder_inputs[i:i+1]\n",
    "\n",
    "    translation = decode_sequence(input_seq)\n",
    "    print('-')\n",
    "    print('Input:', eng_texts[i])\n",
    "    print('Translation:', translation)"
   ]
  },
  {
   "cell_type": "markdown",
   "metadata": {
    "id": "Qjr59AvAJTqF"
   },
   "source": [
    "### 임의의 영어 입력을 처리하는 영한 번역 함수"
   ]
  },
  {
   "cell_type": "code",
   "execution_count": 25,
   "metadata": {
    "id": "MxL71Hf4Y53i"
   },
   "outputs": [],
   "source": [
    "def Eng_Kor_translation(txt):\n",
    "    # 입력된 영어 텍스트를 시퀀스로 변환\n",
    "    input_sequence = tokenizer_eng.texts_to_sequences([txt])\n",
    "\n",
    "    # 시퀀스를 패딩 처리하여 인코더 입력으로 변환 (최대 길이를 max_len_eng로 설정)\n",
    "    encoder_input = pad_sequences(input_sequence, maxlen=max_len_eng)\n",
    "\n",
    "    # 인코더 입력을 디코더 시퀀스로 변환하여 번역 결과 반환\n",
    "    return decode_sequence(encoder_input)"
   ]
  },
  {
   "cell_type": "code",
   "execution_count": 26,
   "metadata": {
    "colab": {
     "base_uri": "https://localhost:8080/"
    },
    "id": "8t8TnjTUZJiE",
    "outputId": "fab726e7-c200-4ea4-f7c1-309f74755f10"
   },
   "outputs": [
    {
     "name": "stdout",
     "output_type": "stream",
     "text": [
      "----\n",
      "Input: Your lips are red.\n",
      "Translation: 네 입술 빨개.\n",
      "----\n",
      "Input: French is interesting.\n",
      "Translation: 프랑스어는 흥미로워.\n",
      "----\n",
      "Input: I like you.\n",
      "Translation: 나는 부러워.\n",
      "----\n",
      "Input: Let's go to home.\n",
      "Translation: 집에 가고\n"
     ]
    }
   ],
   "source": [
    "test_text = [\n",
    "       \"Your lips are red.\",\n",
    "       \"French is interesting.\",\n",
    "       \"I like you.\",\n",
    "       \"Let's go to home.\"\n",
    "]\n",
    "for text in test_text:\n",
    "    translation = Eng_Kor_translation(text)\n",
    "    print('----')\n",
    "    print('Input:', text)\n",
    "    print('Translation:', translation)"
   ]
  },
  {
   "cell_type": "code",
   "execution_count": 26,
   "metadata": {
    "id": "cWDt0zKTG80R"
   },
   "outputs": [],
   "source": []
  }
 ],
 "metadata": {
  "accelerator": "GPU",
  "colab": {
   "provenance": []
  },
  "kernelspec": {
   "display_name": "nlp_venv",
   "language": "python",
   "name": "python3"
  },
  "language_info": {
   "codemirror_mode": {
    "name": "ipython",
    "version": 3
   },
   "file_extension": ".py",
   "mimetype": "text/x-python",
   "name": "python",
   "nbconvert_exporter": "python",
   "pygments_lexer": "ipython3",
   "version": "3.12.4"
  }
 },
 "nbformat": 4,
 "nbformat_minor": 1
}
